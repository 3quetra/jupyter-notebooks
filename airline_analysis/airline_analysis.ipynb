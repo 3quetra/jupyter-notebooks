{
 "cells": [
  {
   "cell_type": "markdown",
   "metadata": {},
   "source": [
    "# Airline Analysis\n",
    "\n",
    "In this project, we'll help a travel agency find the best deal for their clients, and we'll understand how ticket prices change based on different factors.\n",
    "\n",
    "Columns description:\n",
    "\n",
    "- `miles`: miles traveled through the flight;\n",
    "- `passengers`: number of passengers on the flight;\n",
    "- `delay`: take-off delay in minutes;\n",
    "- `inflight_meal`: meal is included or not;\n",
    "- `inflight_entertainment`: free entertainment systems for each seat is included or not;\n",
    "- `inflight_wifi`: complimentary wifi on the flight is included or not;\n",
    "- `day_of_week`: day of the week of the flight;\n",
    "- `weekend`: does this flight take place on a weekend or not;\n",
    "- `coach_price`: the average price paid for a coach ticket;\n",
    "- `firstclass_price`: the average price paid for first-class seats;\n",
    "- `hours`: how many hours the flight took;\n",
    "- `redeye`: is it an overnight flight or not.\n",
    "\n",
    "\n",
    "### Univariate Analysis\n",
    "What do coach ticket prices look like? What are the high and low values? What would be considered average? Does $500 seem like a good price for a coach ticket?\n"
   ]
  },
  {
   "cell_type": "code",
   "execution_count": 1,
   "metadata": {},
   "outputs": [
    {
     "data": {
      "text/html": [
       "<div>\n",
       "<style scoped>\n",
       "    .dataframe tbody tr th:only-of-type {\n",
       "        vertical-align: middle;\n",
       "    }\n",
       "\n",
       "    .dataframe tbody tr th {\n",
       "        vertical-align: top;\n",
       "    }\n",
       "\n",
       "    .dataframe thead th {\n",
       "        text-align: right;\n",
       "    }\n",
       "</style>\n",
       "<table border=\"1\" class=\"dataframe\">\n",
       "  <thead>\n",
       "    <tr style=\"text-align: right;\">\n",
       "      <th></th>\n",
       "      <th>miles</th>\n",
       "      <th>passengers</th>\n",
       "      <th>delay</th>\n",
       "      <th>inflight_meal</th>\n",
       "      <th>inflight_entertainment</th>\n",
       "      <th>inflight_wifi</th>\n",
       "      <th>day_of_week</th>\n",
       "      <th>redeye</th>\n",
       "      <th>weekend</th>\n",
       "      <th>coach_price</th>\n",
       "      <th>firstclass_price</th>\n",
       "      <th>hours</th>\n",
       "    </tr>\n",
       "  </thead>\n",
       "  <tbody>\n",
       "    <tr>\n",
       "      <th>0</th>\n",
       "      <td>792</td>\n",
       "      <td>172</td>\n",
       "      <td>0</td>\n",
       "      <td>No</td>\n",
       "      <td>Yes</td>\n",
       "      <td>Yes</td>\n",
       "      <td>Sunday</td>\n",
       "      <td>Yes</td>\n",
       "      <td>Yes</td>\n",
       "      <td>338.820</td>\n",
       "      <td>1571.02</td>\n",
       "      <td>1</td>\n",
       "    </tr>\n",
       "    <tr>\n",
       "      <th>1</th>\n",
       "      <td>3163</td>\n",
       "      <td>214</td>\n",
       "      <td>0</td>\n",
       "      <td>No</td>\n",
       "      <td>Yes</td>\n",
       "      <td>Yes</td>\n",
       "      <td>Sunday</td>\n",
       "      <td>No</td>\n",
       "      <td>Yes</td>\n",
       "      <td>472.655</td>\n",
       "      <td>1663.70</td>\n",
       "      <td>6</td>\n",
       "    </tr>\n",
       "    <tr>\n",
       "      <th>2</th>\n",
       "      <td>1832</td>\n",
       "      <td>212</td>\n",
       "      <td>0</td>\n",
       "      <td>No</td>\n",
       "      <td>Yes</td>\n",
       "      <td>No</td>\n",
       "      <td>Friday</td>\n",
       "      <td>No</td>\n",
       "      <td>Yes</td>\n",
       "      <td>351.960</td>\n",
       "      <td>1429.86</td>\n",
       "      <td>3</td>\n",
       "    </tr>\n",
       "    <tr>\n",
       "      <th>3</th>\n",
       "      <td>925</td>\n",
       "      <td>213</td>\n",
       "      <td>0</td>\n",
       "      <td>No</td>\n",
       "      <td>Yes</td>\n",
       "      <td>Yes</td>\n",
       "      <td>Saturday</td>\n",
       "      <td>No</td>\n",
       "      <td>Yes</td>\n",
       "      <td>387.835</td>\n",
       "      <td>1558.76</td>\n",
       "      <td>2</td>\n",
       "    </tr>\n",
       "    <tr>\n",
       "      <th>4</th>\n",
       "      <td>967</td>\n",
       "      <td>217</td>\n",
       "      <td>0</td>\n",
       "      <td>Yes</td>\n",
       "      <td>Yes</td>\n",
       "      <td>Yes</td>\n",
       "      <td>Monday</td>\n",
       "      <td>No</td>\n",
       "      <td>No</td>\n",
       "      <td>374.735</td>\n",
       "      <td>1245.58</td>\n",
       "      <td>2</td>\n",
       "    </tr>\n",
       "    <tr>\n",
       "      <th>...</th>\n",
       "      <td>...</td>\n",
       "      <td>...</td>\n",
       "      <td>...</td>\n",
       "      <td>...</td>\n",
       "      <td>...</td>\n",
       "      <td>...</td>\n",
       "      <td>...</td>\n",
       "      <td>...</td>\n",
       "      <td>...</td>\n",
       "      <td>...</td>\n",
       "      <td>...</td>\n",
       "      <td>...</td>\n",
       "    </tr>\n",
       "    <tr>\n",
       "      <th>129775</th>\n",
       "      <td>674</td>\n",
       "      <td>217</td>\n",
       "      <td>1487</td>\n",
       "      <td>No</td>\n",
       "      <td>Yes</td>\n",
       "      <td>Yes</td>\n",
       "      <td>Friday</td>\n",
       "      <td>No</td>\n",
       "      <td>Yes</td>\n",
       "      <td>383.240</td>\n",
       "      <td>1478.70</td>\n",
       "      <td>1</td>\n",
       "    </tr>\n",
       "    <tr>\n",
       "      <th>129776</th>\n",
       "      <td>2125</td>\n",
       "      <td>208</td>\n",
       "      <td>1479</td>\n",
       "      <td>No</td>\n",
       "      <td>Yes</td>\n",
       "      <td>Yes</td>\n",
       "      <td>Friday</td>\n",
       "      <td>No</td>\n",
       "      <td>Yes</td>\n",
       "      <td>397.825</td>\n",
       "      <td>1616.01</td>\n",
       "      <td>4</td>\n",
       "    </tr>\n",
       "    <tr>\n",
       "      <th>129777</th>\n",
       "      <td>1702</td>\n",
       "      <td>220</td>\n",
       "      <td>1501</td>\n",
       "      <td>No</td>\n",
       "      <td>Yes</td>\n",
       "      <td>Yes</td>\n",
       "      <td>Friday</td>\n",
       "      <td>No</td>\n",
       "      <td>Yes</td>\n",
       "      <td>380.980</td>\n",
       "      <td>1481.49</td>\n",
       "      <td>3</td>\n",
       "    </tr>\n",
       "    <tr>\n",
       "      <th>129778</th>\n",
       "      <td>2709</td>\n",
       "      <td>205</td>\n",
       "      <td>1484</td>\n",
       "      <td>No</td>\n",
       "      <td>Yes</td>\n",
       "      <td>Yes</td>\n",
       "      <td>Saturday</td>\n",
       "      <td>No</td>\n",
       "      <td>Yes</td>\n",
       "      <td>485.185</td>\n",
       "      <td>1589.70</td>\n",
       "      <td>5</td>\n",
       "    </tr>\n",
       "    <tr>\n",
       "      <th>129779</th>\n",
       "      <td>4005</td>\n",
       "      <td>214</td>\n",
       "      <td>1490</td>\n",
       "      <td>No</td>\n",
       "      <td>Yes</td>\n",
       "      <td>Yes</td>\n",
       "      <td>Saturday</td>\n",
       "      <td>No</td>\n",
       "      <td>Yes</td>\n",
       "      <td>446.395</td>\n",
       "      <td>1677.54</td>\n",
       "      <td>7</td>\n",
       "    </tr>\n",
       "  </tbody>\n",
       "</table>\n",
       "<p>129780 rows × 12 columns</p>\n",
       "</div>"
      ],
      "text/plain": [
       "        miles  passengers  delay inflight_meal inflight_entertainment  \\\n",
       "0         792         172      0            No                    Yes   \n",
       "1        3163         214      0            No                    Yes   \n",
       "2        1832         212      0            No                    Yes   \n",
       "3         925         213      0            No                    Yes   \n",
       "4         967         217      0           Yes                    Yes   \n",
       "...       ...         ...    ...           ...                    ...   \n",
       "129775    674         217   1487            No                    Yes   \n",
       "129776   2125         208   1479            No                    Yes   \n",
       "129777   1702         220   1501            No                    Yes   \n",
       "129778   2709         205   1484            No                    Yes   \n",
       "129779   4005         214   1490            No                    Yes   \n",
       "\n",
       "       inflight_wifi day_of_week redeye weekend  coach_price  \\\n",
       "0                Yes      Sunday    Yes     Yes      338.820   \n",
       "1                Yes      Sunday     No     Yes      472.655   \n",
       "2                 No      Friday     No     Yes      351.960   \n",
       "3                Yes    Saturday     No     Yes      387.835   \n",
       "4                Yes      Monday     No      No      374.735   \n",
       "...              ...         ...    ...     ...          ...   \n",
       "129775           Yes      Friday     No     Yes      383.240   \n",
       "129776           Yes      Friday     No     Yes      397.825   \n",
       "129777           Yes      Friday     No     Yes      380.980   \n",
       "129778           Yes    Saturday     No     Yes      485.185   \n",
       "129779           Yes    Saturday     No     Yes      446.395   \n",
       "\n",
       "        firstclass_price  hours  \n",
       "0                1571.02      1  \n",
       "1                1663.70      6  \n",
       "2                1429.86      3  \n",
       "3                1558.76      2  \n",
       "4                1245.58      2  \n",
       "...                  ...    ...  \n",
       "129775           1478.70      1  \n",
       "129776           1616.01      4  \n",
       "129777           1481.49      3  \n",
       "129778           1589.70      5  \n",
       "129779           1677.54      7  \n",
       "\n",
       "[129780 rows x 12 columns]"
      ]
     },
     "execution_count": 1,
     "metadata": {},
     "output_type": "execute_result"
    }
   ],
   "source": [
    "import pandas as pd\n",
    "import numpy as np\n",
    "import seaborn as sns\n",
    "import statsmodels\n",
    "import matplotlib.pyplot as plt\n",
    "import math\n",
    "\n",
    "\n",
    "## Read in Data\n",
    "flight = pd.read_csv(\"flight.csv\")\n",
    "flight"
   ]
  },
  {
   "cell_type": "code",
   "execution_count": 2,
   "metadata": {},
   "outputs": [
    {
     "data": {
      "text/plain": [
       "miles                       int64\n",
       "passengers                  int64\n",
       "delay                       int64\n",
       "inflight_meal              object\n",
       "inflight_entertainment     object\n",
       "inflight_wifi              object\n",
       "day_of_week                object\n",
       "redeye                     object\n",
       "weekend                    object\n",
       "coach_price               float64\n",
       "firstclass_price          float64\n",
       "hours                       int64\n",
       "dtype: object"
      ]
     },
     "execution_count": 2,
     "metadata": {},
     "output_type": "execute_result"
    }
   ],
   "source": [
    "flight.dtypes"
   ]
  },
  {
   "cell_type": "code",
   "execution_count": 3,
   "metadata": {},
   "outputs": [
    {
     "data": {
      "text/plain": [
       "array(['Sunday', 'Friday', 'Saturday', 'Monday', 'Wednesday', 'Tuesday',\n",
       "       'Thursday'], dtype=object)"
      ]
     },
     "execution_count": 3,
     "metadata": {},
     "output_type": "execute_result"
    }
   ],
   "source": [
    "flight.day_of_week.unique()"
   ]
  },
  {
   "cell_type": "code",
   "execution_count": 4,
   "metadata": {},
   "outputs": [],
   "source": [
    "flight['day_of_week'] = pd.Categorical(\n",
    "    flight['day_of_week'], \n",
    "    ['Sunday', 'Monday', 'Tuesday', 'Wednesday','Thursday', 'Friday', 'Saturday'], \n",
    "    ordered=True)"
   ]
  },
  {
   "cell_type": "code",
   "execution_count": 5,
   "metadata": {},
   "outputs": [],
   "source": [
    "def convert_to_binary(dataset, list_of_columns):\n",
    "    for i in list_of_columns:\n",
    "        dataset[i] = pd.Categorical(dataset[i], ['No', 'Yes'], ordered=True)\n",
    "        dataset[i] = dataset[i].cat.codes\n",
    "    return dataset\n"
   ]
  },
  {
   "cell_type": "code",
   "execution_count": 6,
   "metadata": {},
   "outputs": [
    {
     "data": {
      "text/html": [
       "<div>\n",
       "<style scoped>\n",
       "    .dataframe tbody tr th:only-of-type {\n",
       "        vertical-align: middle;\n",
       "    }\n",
       "\n",
       "    .dataframe tbody tr th {\n",
       "        vertical-align: top;\n",
       "    }\n",
       "\n",
       "    .dataframe thead th {\n",
       "        text-align: right;\n",
       "    }\n",
       "</style>\n",
       "<table border=\"1\" class=\"dataframe\">\n",
       "  <thead>\n",
       "    <tr style=\"text-align: right;\">\n",
       "      <th></th>\n",
       "      <th>miles</th>\n",
       "      <th>passengers</th>\n",
       "      <th>delay</th>\n",
       "      <th>inflight_meal</th>\n",
       "      <th>inflight_entertainment</th>\n",
       "      <th>inflight_wifi</th>\n",
       "      <th>day_of_week</th>\n",
       "      <th>redeye</th>\n",
       "      <th>weekend</th>\n",
       "      <th>coach_price</th>\n",
       "      <th>firstclass_price</th>\n",
       "      <th>hours</th>\n",
       "    </tr>\n",
       "  </thead>\n",
       "  <tbody>\n",
       "    <tr>\n",
       "      <th>0</th>\n",
       "      <td>792</td>\n",
       "      <td>172</td>\n",
       "      <td>0</td>\n",
       "      <td>0</td>\n",
       "      <td>1</td>\n",
       "      <td>1</td>\n",
       "      <td>Sunday</td>\n",
       "      <td>1</td>\n",
       "      <td>1</td>\n",
       "      <td>338.820</td>\n",
       "      <td>1571.02</td>\n",
       "      <td>1</td>\n",
       "    </tr>\n",
       "    <tr>\n",
       "      <th>1</th>\n",
       "      <td>3163</td>\n",
       "      <td>214</td>\n",
       "      <td>0</td>\n",
       "      <td>0</td>\n",
       "      <td>1</td>\n",
       "      <td>1</td>\n",
       "      <td>Sunday</td>\n",
       "      <td>0</td>\n",
       "      <td>1</td>\n",
       "      <td>472.655</td>\n",
       "      <td>1663.70</td>\n",
       "      <td>6</td>\n",
       "    </tr>\n",
       "    <tr>\n",
       "      <th>2</th>\n",
       "      <td>1832</td>\n",
       "      <td>212</td>\n",
       "      <td>0</td>\n",
       "      <td>0</td>\n",
       "      <td>1</td>\n",
       "      <td>0</td>\n",
       "      <td>Friday</td>\n",
       "      <td>0</td>\n",
       "      <td>1</td>\n",
       "      <td>351.960</td>\n",
       "      <td>1429.86</td>\n",
       "      <td>3</td>\n",
       "    </tr>\n",
       "    <tr>\n",
       "      <th>3</th>\n",
       "      <td>925</td>\n",
       "      <td>213</td>\n",
       "      <td>0</td>\n",
       "      <td>0</td>\n",
       "      <td>1</td>\n",
       "      <td>1</td>\n",
       "      <td>Saturday</td>\n",
       "      <td>0</td>\n",
       "      <td>1</td>\n",
       "      <td>387.835</td>\n",
       "      <td>1558.76</td>\n",
       "      <td>2</td>\n",
       "    </tr>\n",
       "    <tr>\n",
       "      <th>4</th>\n",
       "      <td>967</td>\n",
       "      <td>217</td>\n",
       "      <td>0</td>\n",
       "      <td>1</td>\n",
       "      <td>1</td>\n",
       "      <td>1</td>\n",
       "      <td>Monday</td>\n",
       "      <td>0</td>\n",
       "      <td>0</td>\n",
       "      <td>374.735</td>\n",
       "      <td>1245.58</td>\n",
       "      <td>2</td>\n",
       "    </tr>\n",
       "    <tr>\n",
       "      <th>...</th>\n",
       "      <td>...</td>\n",
       "      <td>...</td>\n",
       "      <td>...</td>\n",
       "      <td>...</td>\n",
       "      <td>...</td>\n",
       "      <td>...</td>\n",
       "      <td>...</td>\n",
       "      <td>...</td>\n",
       "      <td>...</td>\n",
       "      <td>...</td>\n",
       "      <td>...</td>\n",
       "      <td>...</td>\n",
       "    </tr>\n",
       "    <tr>\n",
       "      <th>129775</th>\n",
       "      <td>674</td>\n",
       "      <td>217</td>\n",
       "      <td>1487</td>\n",
       "      <td>0</td>\n",
       "      <td>1</td>\n",
       "      <td>1</td>\n",
       "      <td>Friday</td>\n",
       "      <td>0</td>\n",
       "      <td>1</td>\n",
       "      <td>383.240</td>\n",
       "      <td>1478.70</td>\n",
       "      <td>1</td>\n",
       "    </tr>\n",
       "    <tr>\n",
       "      <th>129776</th>\n",
       "      <td>2125</td>\n",
       "      <td>208</td>\n",
       "      <td>1479</td>\n",
       "      <td>0</td>\n",
       "      <td>1</td>\n",
       "      <td>1</td>\n",
       "      <td>Friday</td>\n",
       "      <td>0</td>\n",
       "      <td>1</td>\n",
       "      <td>397.825</td>\n",
       "      <td>1616.01</td>\n",
       "      <td>4</td>\n",
       "    </tr>\n",
       "    <tr>\n",
       "      <th>129777</th>\n",
       "      <td>1702</td>\n",
       "      <td>220</td>\n",
       "      <td>1501</td>\n",
       "      <td>0</td>\n",
       "      <td>1</td>\n",
       "      <td>1</td>\n",
       "      <td>Friday</td>\n",
       "      <td>0</td>\n",
       "      <td>1</td>\n",
       "      <td>380.980</td>\n",
       "      <td>1481.49</td>\n",
       "      <td>3</td>\n",
       "    </tr>\n",
       "    <tr>\n",
       "      <th>129778</th>\n",
       "      <td>2709</td>\n",
       "      <td>205</td>\n",
       "      <td>1484</td>\n",
       "      <td>0</td>\n",
       "      <td>1</td>\n",
       "      <td>1</td>\n",
       "      <td>Saturday</td>\n",
       "      <td>0</td>\n",
       "      <td>1</td>\n",
       "      <td>485.185</td>\n",
       "      <td>1589.70</td>\n",
       "      <td>5</td>\n",
       "    </tr>\n",
       "    <tr>\n",
       "      <th>129779</th>\n",
       "      <td>4005</td>\n",
       "      <td>214</td>\n",
       "      <td>1490</td>\n",
       "      <td>0</td>\n",
       "      <td>1</td>\n",
       "      <td>1</td>\n",
       "      <td>Saturday</td>\n",
       "      <td>0</td>\n",
       "      <td>1</td>\n",
       "      <td>446.395</td>\n",
       "      <td>1677.54</td>\n",
       "      <td>7</td>\n",
       "    </tr>\n",
       "  </tbody>\n",
       "</table>\n",
       "<p>129780 rows × 12 columns</p>\n",
       "</div>"
      ],
      "text/plain": [
       "        miles  passengers  delay  inflight_meal  inflight_entertainment  \\\n",
       "0         792         172      0              0                       1   \n",
       "1        3163         214      0              0                       1   \n",
       "2        1832         212      0              0                       1   \n",
       "3         925         213      0              0                       1   \n",
       "4         967         217      0              1                       1   \n",
       "...       ...         ...    ...            ...                     ...   \n",
       "129775    674         217   1487              0                       1   \n",
       "129776   2125         208   1479              0                       1   \n",
       "129777   1702         220   1501              0                       1   \n",
       "129778   2709         205   1484              0                       1   \n",
       "129779   4005         214   1490              0                       1   \n",
       "\n",
       "        inflight_wifi day_of_week  redeye  weekend  coach_price  \\\n",
       "0                   1      Sunday       1        1      338.820   \n",
       "1                   1      Sunday       0        1      472.655   \n",
       "2                   0      Friday       0        1      351.960   \n",
       "3                   1    Saturday       0        1      387.835   \n",
       "4                   1      Monday       0        0      374.735   \n",
       "...               ...         ...     ...      ...          ...   \n",
       "129775              1      Friday       0        1      383.240   \n",
       "129776              1      Friday       0        1      397.825   \n",
       "129777              1      Friday       0        1      380.980   \n",
       "129778              1    Saturday       0        1      485.185   \n",
       "129779              1    Saturday       0        1      446.395   \n",
       "\n",
       "        firstclass_price  hours  \n",
       "0                1571.02      1  \n",
       "1                1663.70      6  \n",
       "2                1429.86      3  \n",
       "3                1558.76      2  \n",
       "4                1245.58      2  \n",
       "...                  ...    ...  \n",
       "129775           1478.70      1  \n",
       "129776           1616.01      4  \n",
       "129777           1481.49      3  \n",
       "129778           1589.70      5  \n",
       "129779           1677.54      7  \n",
       "\n",
       "[129780 rows x 12 columns]"
      ]
     },
     "execution_count": 6,
     "metadata": {},
     "output_type": "execute_result"
    }
   ],
   "source": [
    "convert_to_binary(flight, ['inflight_meal', 'inflight_entertainment', 'inflight_wifi', 'redeye', 'weekend'])"
   ]
  },
  {
   "cell_type": "code",
   "execution_count": 7,
   "metadata": {},
   "outputs": [
    {
     "data": {
      "text/plain": [
       "miles                        int64\n",
       "passengers                   int64\n",
       "delay                        int64\n",
       "inflight_meal                 int8\n",
       "inflight_entertainment        int8\n",
       "inflight_wifi                 int8\n",
       "day_of_week               category\n",
       "redeye                        int8\n",
       "weekend                       int8\n",
       "coach_price                float64\n",
       "firstclass_price           float64\n",
       "hours                        int64\n",
       "dtype: object"
      ]
     },
     "execution_count": 7,
     "metadata": {},
     "output_type": "execute_result"
    }
   ],
   "source": [
    "flight.dtypes"
   ]
  },
  {
   "cell_type": "code",
   "execution_count": 8,
   "metadata": {},
   "outputs": [
    {
     "data": {
      "text/html": [
       "<div>\n",
       "<style scoped>\n",
       "    .dataframe tbody tr th:only-of-type {\n",
       "        vertical-align: middle;\n",
       "    }\n",
       "\n",
       "    .dataframe tbody tr th {\n",
       "        vertical-align: top;\n",
       "    }\n",
       "\n",
       "    .dataframe thead th {\n",
       "        text-align: right;\n",
       "    }\n",
       "</style>\n",
       "<table border=\"1\" class=\"dataframe\">\n",
       "  <thead>\n",
       "    <tr style=\"text-align: right;\">\n",
       "      <th></th>\n",
       "      <th>miles</th>\n",
       "      <th>passengers</th>\n",
       "      <th>delay</th>\n",
       "      <th>inflight_meal</th>\n",
       "      <th>inflight_entertainment</th>\n",
       "      <th>inflight_wifi</th>\n",
       "      <th>redeye</th>\n",
       "      <th>weekend</th>\n",
       "      <th>coach_price</th>\n",
       "      <th>firstclass_price</th>\n",
       "      <th>hours</th>\n",
       "    </tr>\n",
       "  </thead>\n",
       "  <tbody>\n",
       "    <tr>\n",
       "      <th>count</th>\n",
       "      <td>129780.000000</td>\n",
       "      <td>129780.000000</td>\n",
       "      <td>129780.000000</td>\n",
       "      <td>129780.000000</td>\n",
       "      <td>129780.000000</td>\n",
       "      <td>129780.000000</td>\n",
       "      <td>129780.000000</td>\n",
       "      <td>129780.000000</td>\n",
       "      <td>129780.000000</td>\n",
       "      <td>129780.000000</td>\n",
       "      <td>129780.000000</td>\n",
       "    </tr>\n",
       "    <tr>\n",
       "      <th>mean</th>\n",
       "      <td>2006.224696</td>\n",
       "      <td>207.723155</td>\n",
       "      <td>13.162845</td>\n",
       "      <td>0.300254</td>\n",
       "      <td>0.801572</td>\n",
       "      <td>0.899723</td>\n",
       "      <td>0.049669</td>\n",
       "      <td>0.652204</td>\n",
       "      <td>376.585253</td>\n",
       "      <td>1454.931785</td>\n",
       "      <td>3.631214</td>\n",
       "    </tr>\n",
       "    <tr>\n",
       "      <th>std</th>\n",
       "      <td>943.034768</td>\n",
       "      <td>12.776363</td>\n",
       "      <td>41.941680</td>\n",
       "      <td>0.458370</td>\n",
       "      <td>0.398818</td>\n",
       "      <td>0.300371</td>\n",
       "      <td>0.217260</td>\n",
       "      <td>0.476273</td>\n",
       "      <td>67.744274</td>\n",
       "      <td>162.590434</td>\n",
       "      <td>1.739118</td>\n",
       "    </tr>\n",
       "    <tr>\n",
       "      <th>min</th>\n",
       "      <td>12.000000</td>\n",
       "      <td>135.000000</td>\n",
       "      <td>0.000000</td>\n",
       "      <td>0.000000</td>\n",
       "      <td>0.000000</td>\n",
       "      <td>0.000000</td>\n",
       "      <td>0.000000</td>\n",
       "      <td>0.000000</td>\n",
       "      <td>44.415000</td>\n",
       "      <td>939.100000</td>\n",
       "      <td>1.000000</td>\n",
       "    </tr>\n",
       "    <tr>\n",
       "      <th>25%</th>\n",
       "      <td>1343.000000</td>\n",
       "      <td>204.000000</td>\n",
       "      <td>9.000000</td>\n",
       "      <td>0.000000</td>\n",
       "      <td>1.000000</td>\n",
       "      <td>1.000000</td>\n",
       "      <td>0.000000</td>\n",
       "      <td>0.000000</td>\n",
       "      <td>331.445000</td>\n",
       "      <td>1302.200000</td>\n",
       "      <td>2.000000</td>\n",
       "    </tr>\n",
       "    <tr>\n",
       "      <th>50%</th>\n",
       "      <td>1986.000000</td>\n",
       "      <td>210.000000</td>\n",
       "      <td>10.000000</td>\n",
       "      <td>0.000000</td>\n",
       "      <td>1.000000</td>\n",
       "      <td>1.000000</td>\n",
       "      <td>0.000000</td>\n",
       "      <td>1.000000</td>\n",
       "      <td>380.560000</td>\n",
       "      <td>1503.840000</td>\n",
       "      <td>4.000000</td>\n",
       "    </tr>\n",
       "    <tr>\n",
       "      <th>75%</th>\n",
       "      <td>2468.000000</td>\n",
       "      <td>215.000000</td>\n",
       "      <td>13.000000</td>\n",
       "      <td>1.000000</td>\n",
       "      <td>1.000000</td>\n",
       "      <td>1.000000</td>\n",
       "      <td>0.000000</td>\n",
       "      <td>1.000000</td>\n",
       "      <td>426.676250</td>\n",
       "      <td>1582.370000</td>\n",
       "      <td>4.000000</td>\n",
       "    </tr>\n",
       "    <tr>\n",
       "      <th>max</th>\n",
       "      <td>4548.000000</td>\n",
       "      <td>244.000000</td>\n",
       "      <td>1560.000000</td>\n",
       "      <td>1.000000</td>\n",
       "      <td>1.000000</td>\n",
       "      <td>1.000000</td>\n",
       "      <td>1.000000</td>\n",
       "      <td>1.000000</td>\n",
       "      <td>593.635000</td>\n",
       "      <td>1846.780000</td>\n",
       "      <td>8.000000</td>\n",
       "    </tr>\n",
       "  </tbody>\n",
       "</table>\n",
       "</div>"
      ],
      "text/plain": [
       "               miles     passengers          delay  inflight_meal  \\\n",
       "count  129780.000000  129780.000000  129780.000000  129780.000000   \n",
       "mean     2006.224696     207.723155      13.162845       0.300254   \n",
       "std       943.034768      12.776363      41.941680       0.458370   \n",
       "min        12.000000     135.000000       0.000000       0.000000   \n",
       "25%      1343.000000     204.000000       9.000000       0.000000   \n",
       "50%      1986.000000     210.000000      10.000000       0.000000   \n",
       "75%      2468.000000     215.000000      13.000000       1.000000   \n",
       "max      4548.000000     244.000000    1560.000000       1.000000   \n",
       "\n",
       "       inflight_entertainment  inflight_wifi         redeye        weekend  \\\n",
       "count           129780.000000  129780.000000  129780.000000  129780.000000   \n",
       "mean                 0.801572       0.899723       0.049669       0.652204   \n",
       "std                  0.398818       0.300371       0.217260       0.476273   \n",
       "min                  0.000000       0.000000       0.000000       0.000000   \n",
       "25%                  1.000000       1.000000       0.000000       0.000000   \n",
       "50%                  1.000000       1.000000       0.000000       1.000000   \n",
       "75%                  1.000000       1.000000       0.000000       1.000000   \n",
       "max                  1.000000       1.000000       1.000000       1.000000   \n",
       "\n",
       "         coach_price  firstclass_price          hours  \n",
       "count  129780.000000     129780.000000  129780.000000  \n",
       "mean      376.585253       1454.931785       3.631214  \n",
       "std        67.744274        162.590434       1.739118  \n",
       "min        44.415000        939.100000       1.000000  \n",
       "25%       331.445000       1302.200000       2.000000  \n",
       "50%       380.560000       1503.840000       4.000000  \n",
       "75%       426.676250       1582.370000       4.000000  \n",
       "max       593.635000       1846.780000       8.000000  "
      ]
     },
     "execution_count": 8,
     "metadata": {},
     "output_type": "execute_result"
    }
   ],
   "source": [
    "flight.describe()"
   ]
  },
  {
   "cell_type": "markdown",
   "metadata": {},
   "source": [
    "think about where $500 falls in the distribution of coach_price: Is it close to the mean or median (in the center of the histogram or box plot)? Or is it far away (in the tail of the histogram or box plot)?"
   ]
  },
  {
   "cell_type": "code",
   "execution_count": 9,
   "metadata": {},
   "outputs": [],
   "source": [
    "def visualise_histplot(dataset, column_name, bars_color, xlabel):    \n",
    "    plt.figure(figsize=(15,10))\n",
    "    ax = sns.histplot(dataset[column_name], stat='count', color=bars_color, legend=True, bins=30, linewidth=0.1)\n",
    "    plt.axvline(x = dataset[column_name].mean(), color='Tomato')\n",
    "    plt.axvline(x = dataset[column_name].median(), color='MediumPurple')\n",
    "\n",
    "    # Add descriptions\n",
    "    ax.legend( \n",
    "    title_fontsize='large', \n",
    "    loc='best', \n",
    "    labels=['Mean', 'Median', xlabel], \n",
    "    fontsize = 'large')\n",
    "\n",
    "    # ax.set_title('Coach Prices', fontsize = 'x-large')\n",
    "    ax.set_xlabel(xlabel, fontsize = 'large')\n",
    "    ax.set_ylabel('Count', fontsize = 'large')\n",
    "    return plt.show()"
   ]
  },
  {
   "cell_type": "code",
   "execution_count": 10,
   "metadata": {},
   "outputs": [
    {
     "data": {
      "image/png": "[encoded data removed]",
      "text/plain": [
       "<Figure size 1080x720 with 1 Axes>"
      ]
     },
     "metadata": {
      "needs_background": "light"
     },
     "output_type": "display_data"
    }
   ],
   "source": [
    "visualise_histplot(dataset=flight, column_name='coach_price', bars_color='SandyBrown', xlabel='Coach Prices')"
   ]
  },
  {
   "cell_type": "code",
   "execution_count": 11,
   "metadata": {},
   "outputs": [],
   "source": [
    "def visualise_boxplot(dataset, column_name, color, xlabel):\n",
    "    plt.figure(figsize=(15,10))\n",
    "    ax = sns.boxplot(x=dataset[column_name], color=color)\n",
    "    ax.set_xlabel(xlabel, fontsize = 'large')\n",
    "    return plt.show()"
   ]
  },
  {
   "cell_type": "code",
   "execution_count": 12,
   "metadata": {},
   "outputs": [
    {
     "data": {
      "image/png": "[encoded data removed]",
      "text/plain": [
       "<Figure size 1080x720 with 1 Axes>"
      ]
     },
     "metadata": {
      "needs_background": "light"
     },
     "output_type": "display_data"
    }
   ],
   "source": [
    "visualise_boxplot(flight, column_name='coach_price', color='Coral', xlabel='Coach Prices')"
   ]
  },
  {
   "cell_type": "markdown",
   "metadata": {},
   "source": [
    "Now visualize the coach ticket prices for flights that are 8 hours long. What are the high, low, and average prices for 8-hour-long flights? Does a $500 ticket seem more reasonable than before?"
   ]
  },
  {
   "cell_type": "code",
   "execution_count": 13,
   "metadata": {},
   "outputs": [
    {
     "data": {
      "text/plain": [
       "431.834377372817"
      ]
     },
     "execution_count": 13,
     "metadata": {},
     "output_type": "execute_result"
    }
   ],
   "source": [
    "more_than8h = flight[flight.hours >= 8]\n",
    "more_than8h.coach_price.mean()"
   ]
  },
  {
   "cell_type": "code",
   "execution_count": 14,
   "metadata": {},
   "outputs": [
    {
     "data": {
      "image/png": "[encoded data removed]",
      "text/plain": [
       "<Figure size 1080x720 with 1 Axes>"
      ]
     },
     "metadata": {
      "needs_background": "light"
     },
     "output_type": "display_data"
    }
   ],
   "source": [
    "visualise_histplot(dataset=more_than8h, column_name='coach_price', bars_color='LightSalmon', xlabel='Coach Prices')"
   ]
  },
  {
   "cell_type": "code",
   "execution_count": 15,
   "metadata": {},
   "outputs": [
    {
     "data": {
      "text/plain": [
       "count    2634.000000\n",
       "mean      431.834377\n",
       "std        64.083280\n",
       "min       170.770000\n",
       "25%       390.266250\n",
       "50%       437.115000\n",
       "75%       480.043750\n",
       "max       593.635000\n",
       "Name: coach_price, dtype: float64"
      ]
     },
     "execution_count": 15,
     "metadata": {},
     "output_type": "execute_result"
    }
   ],
   "source": [
    "more_than8h.coach_price.describe()"
   ]
  },
  {
   "cell_type": "markdown",
   "metadata": {},
   "source": [
    "Once you’ve correctly plotted coach ticket prices for flights that are 8 hours long as well as some summary statistics, think about where $500 now falls in the distribution: Is it close or far from the center of the plot? Is $500 closer to the summary statistics than it was before? This would indicate a more normal or reasonable price."
   ]
  },
  {
   "cell_type": "code",
   "execution_count": 16,
   "metadata": {},
   "outputs": [],
   "source": [
    "more_than150pass= flight[flight.passengers <= 200]"
   ]
  },
  {
   "cell_type": "code",
   "execution_count": 17,
   "metadata": {},
   "outputs": [
    {
     "data": {
      "image/png": "[encoded data removed]",
      "text/plain": [
       "<Figure size 1080x720 with 1 Axes>"
      ]
     },
     "metadata": {
      "needs_background": "light"
     },
     "output_type": "display_data"
    }
   ],
   "source": [
    "visualise_histplot(dataset=more_than150pass, column_name='coach_price', bars_color='BurlyWood', xlabel='Coach Prices')"
   ]
  },
  {
   "cell_type": "markdown",
   "metadata": {},
   "source": [
    "How are flight delay times distributed? Let’s say there is a short amount of time between two connecting flights, and a flight delay would put the client at risk of missing their connecting flight. You want to better understand how often there are large delays so you can correctly set up connecting flights. What kinds of delays are typical?"
   ]
  },
  {
   "cell_type": "code",
   "execution_count": 18,
   "metadata": {},
   "outputs": [],
   "source": [
    "more_than1000=flight[flight.delay > 1000]\n",
    "less_than1000=flight[flight.delay < 1000]\n"
   ]
  },
  {
   "cell_type": "code",
   "execution_count": 19,
   "metadata": {},
   "outputs": [
    {
     "data": {
      "image/png": "[encoded data removed]",
      "text/plain": [
       "<Figure size 1080x720 with 1 Axes>"
      ]
     },
     "metadata": {
      "needs_background": "light"
     },
     "output_type": "display_data"
    }
   ],
   "source": [
    "visualise_boxplot(more_than1000, column_name='delay', color='LightCoral', xlabel='Delay')"
   ]
  },
  {
   "cell_type": "code",
   "execution_count": 20,
   "metadata": {},
   "outputs": [
    {
     "data": {
      "image/png": "[encoded data removed]",
      "text/plain": [
       "<Figure size 1080x720 with 1 Axes>"
      ]
     },
     "metadata": {
      "needs_background": "light"
     },
     "output_type": "display_data"
    }
   ],
   "source": [
    "visualise_histplot(dataset=more_than1000, column_name='delay', bars_color='LightCoral', xlabel='Delay')"
   ]
  },
  {
   "cell_type": "code",
   "execution_count": 21,
   "metadata": {},
   "outputs": [
    {
     "data": {
      "image/png": "[encoded data removed]",
      "text/plain": [
       "<Figure size 1080x720 with 1 Axes>"
      ]
     },
     "metadata": {
      "needs_background": "light"
     },
     "output_type": "display_data"
    }
   ],
   "source": [
    "visualise_boxplot(less_than1000, column_name='delay', color='LightCoral', xlabel='Delay')"
   ]
  },
  {
   "cell_type": "markdown",
   "metadata": {},
   "source": [
    "If you plot a histogram of flight delay times, you’ll see that this visualization is difficult to read because of extreme outliers. Try subsetting the data to only include flight delays at a lower, more reasonable value to be able to see the distribution. Use the method mentioned in the hint of Task 2 to subset your data to specific ranges.\n",
    "It may take some trial-and-error to settle on a value as your cut-off, so you may have to try a few different values until one seems right.\n",
    "After subsetting the data by delay times, we can see that a 10-minute delay is fairly common for this airline. You will want to keep that in consideration when setting up a connecting flight."
   ]
  },
  {
   "cell_type": "code",
   "execution_count": 22,
   "metadata": {},
   "outputs": [
    {
     "data": {
      "image/png": "[encoded data removed]",
      "text/plain": [
       "<Figure size 1080x720 with 1 Axes>"
      ]
     },
     "metadata": {
      "needs_background": "light"
     },
     "output_type": "display_data"
    }
   ],
   "source": [
    "visualise_histplot(dataset=less_than1000, column_name='delay', bars_color='LightCoral', xlabel='Delay (min)')"
   ]
  },
  {
   "cell_type": "markdown",
   "metadata": {},
   "source": [
    "### Bivariate Analysis\n",
    "\n",
    "Create a visualization that shows the relationship between coach and first-class prices. What is the relationship between these two prices? Do flights with higher coach prices always have higher first-class prices as well?"
   ]
  },
  {
   "cell_type": "code",
   "execution_count": 32,
   "metadata": {},
   "outputs": [
    {
     "data": {
      "text/plain": [
       "<seaborn.axisgrid.FacetGrid at 0x1fec731d510>"
      ]
     },
     "execution_count": 32,
     "metadata": {},
     "output_type": "execute_result"
    },
    {
     "data": {
      "image/png": "[encoded data removed]",
      "text/plain": [
       "<Figure size 360x360 with 1 Axes>"
      ]
     },
     "metadata": {
      "needs_background": "light"
     },
     "output_type": "display_data"
    }
   ],
   "source": [
    "sns.lmplot(x = 'coach_price', y = 'firstclass_price', data=flight, fit_reg=True,  line_kws={'color': 'purple'})"
   ]
  }
 ],
 "metadata": {
  "interpreter": {
   "hash": "7836a9483238820c2898d47b3e9b184c638aad228733b35228ced2f19c03f12e"
  },
  "kernelspec": {
   "display_name": "Python 3.10.4 64-bit (windows store)",
   "language": "python",
   "name": "python3"
  },
  "language_info": {
   "codemirror_mode": {
    "name": "ipython",
    "version": 3
   },
   "file_extension": ".py",
   "mimetype": "text/x-python",
   "name": "python",
   "nbconvert_exporter": "python",
   "pygments_lexer": "ipython3",
   "version": "3.10.4"
  },
  "orig_nbformat": 4
 },
 "nbformat": 4,
 "nbformat_minor": 2
}
