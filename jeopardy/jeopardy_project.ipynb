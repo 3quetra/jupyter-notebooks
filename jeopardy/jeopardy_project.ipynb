{
 "cells": [
  {
   "cell_type": "markdown",
   "metadata": {},
   "source": [
    "# Jeopardy Game\n",
    "\n",
    "The goal of this project is to investigate a dataset of \"Jeopardy\" game using pandas methods and write several aggregate functions to find some insights. \n",
    "\n",
    "## Tasks\n",
    "\n",
    "### 1. Investigate and Clean\n",
    "\n",
    "1.1. First we import libraries to work with. "
   ]
  },
  {
   "cell_type": "code",
   "execution_count": 1,
   "metadata": {},
   "outputs": [],
   "source": [
    "import pandas as pd\n",
    "import numpy as np \n",
    "import matplotlib.pyplot as plt"
   ]
  },
  {
   "cell_type": "markdown",
   "metadata": {},
   "source": [
    "1.2. After that we load the data from `jeopardy.csv.` into a DataFrame and investigate its contents. "
   ]
  },
  {
   "cell_type": "code",
   "execution_count": 2,
   "metadata": {},
   "outputs": [],
   "source": [
    "jeopardy = pd.read_csv('jeopardy.csv')"
   ]
  },
  {
   "cell_type": "markdown",
   "metadata": {},
   "source": [
    "1.3. Let's print truncated dataset."
   ]
  },
  {
   "cell_type": "code",
   "execution_count": 3,
   "metadata": {},
   "outputs": [
    {
     "data": {
      "text/html": [
       "<div>\n",
       "<style scoped>\n",
       "    .dataframe tbody tr th:only-of-type {\n",
       "        vertical-align: middle;\n",
       "    }\n",
       "\n",
       "    .dataframe tbody tr th {\n",
       "        vertical-align: top;\n",
       "    }\n",
       "\n",
       "    .dataframe thead th {\n",
       "        text-align: right;\n",
       "    }\n",
       "</style>\n",
       "<table border=\"1\" class=\"dataframe\">\n",
       "  <thead>\n",
       "    <tr style=\"text-align: right;\">\n",
       "      <th></th>\n",
       "      <th>Show Number</th>\n",
       "      <th>Air Date</th>\n",
       "      <th>Round</th>\n",
       "      <th>Category</th>\n",
       "      <th>Value</th>\n",
       "      <th>Question</th>\n",
       "      <th>Answer</th>\n",
       "    </tr>\n",
       "  </thead>\n",
       "  <tbody>\n",
       "    <tr>\n",
       "      <th>0</th>\n",
       "      <td>4680</td>\n",
       "      <td>2004-12-31</td>\n",
       "      <td>Jeopardy!</td>\n",
       "      <td>HISTORY</td>\n",
       "      <td>$200</td>\n",
       "      <td>For the last 8 years of his life, Galileo was ...</td>\n",
       "      <td>Copernicus</td>\n",
       "    </tr>\n",
       "    <tr>\n",
       "      <th>1</th>\n",
       "      <td>4680</td>\n",
       "      <td>2004-12-31</td>\n",
       "      <td>Jeopardy!</td>\n",
       "      <td>ESPN's TOP 10 ALL-TIME ATHLETES</td>\n",
       "      <td>$200</td>\n",
       "      <td>No. 2: 1912 Olympian; football star at Carlisl...</td>\n",
       "      <td>Jim Thorpe</td>\n",
       "    </tr>\n",
       "    <tr>\n",
       "      <th>2</th>\n",
       "      <td>4680</td>\n",
       "      <td>2004-12-31</td>\n",
       "      <td>Jeopardy!</td>\n",
       "      <td>EVERYBODY TALKS ABOUT IT...</td>\n",
       "      <td>$200</td>\n",
       "      <td>The city of Yuma in this state has a record av...</td>\n",
       "      <td>Arizona</td>\n",
       "    </tr>\n",
       "    <tr>\n",
       "      <th>3</th>\n",
       "      <td>4680</td>\n",
       "      <td>2004-12-31</td>\n",
       "      <td>Jeopardy!</td>\n",
       "      <td>THE COMPANY LINE</td>\n",
       "      <td>$200</td>\n",
       "      <td>In 1963, live on \"The Art Linkletter Show\", th...</td>\n",
       "      <td>McDonald's</td>\n",
       "    </tr>\n",
       "    <tr>\n",
       "      <th>4</th>\n",
       "      <td>4680</td>\n",
       "      <td>2004-12-31</td>\n",
       "      <td>Jeopardy!</td>\n",
       "      <td>EPITAPHS &amp; TRIBUTES</td>\n",
       "      <td>$200</td>\n",
       "      <td>Signer of the Dec. of Indep., framer of the Co...</td>\n",
       "      <td>John Adams</td>\n",
       "    </tr>\n",
       "    <tr>\n",
       "      <th>...</th>\n",
       "      <td>...</td>\n",
       "      <td>...</td>\n",
       "      <td>...</td>\n",
       "      <td>...</td>\n",
       "      <td>...</td>\n",
       "      <td>...</td>\n",
       "      <td>...</td>\n",
       "    </tr>\n",
       "    <tr>\n",
       "      <th>216925</th>\n",
       "      <td>4999</td>\n",
       "      <td>2006-05-11</td>\n",
       "      <td>Double Jeopardy!</td>\n",
       "      <td>RIDDLE ME THIS</td>\n",
       "      <td>$2000</td>\n",
       "      <td>This Puccini opera turns on the solution to 3 ...</td>\n",
       "      <td>Turandot</td>\n",
       "    </tr>\n",
       "    <tr>\n",
       "      <th>216926</th>\n",
       "      <td>4999</td>\n",
       "      <td>2006-05-11</td>\n",
       "      <td>Double Jeopardy!</td>\n",
       "      <td>\"T\" BIRDS</td>\n",
       "      <td>$2000</td>\n",
       "      <td>In North America this term is properly applied...</td>\n",
       "      <td>a titmouse</td>\n",
       "    </tr>\n",
       "    <tr>\n",
       "      <th>216927</th>\n",
       "      <td>4999</td>\n",
       "      <td>2006-05-11</td>\n",
       "      <td>Double Jeopardy!</td>\n",
       "      <td>AUTHORS IN THEIR YOUTH</td>\n",
       "      <td>$2000</td>\n",
       "      <td>In Penny Lane, where this \"Hellraiser\" grew up...</td>\n",
       "      <td>Clive Barker</td>\n",
       "    </tr>\n",
       "    <tr>\n",
       "      <th>216928</th>\n",
       "      <td>4999</td>\n",
       "      <td>2006-05-11</td>\n",
       "      <td>Double Jeopardy!</td>\n",
       "      <td>QUOTATIONS</td>\n",
       "      <td>$2000</td>\n",
       "      <td>From Ft. Sill, Okla. he made the plea, Arizona...</td>\n",
       "      <td>Geronimo</td>\n",
       "    </tr>\n",
       "    <tr>\n",
       "      <th>216929</th>\n",
       "      <td>4999</td>\n",
       "      <td>2006-05-11</td>\n",
       "      <td>Final Jeopardy!</td>\n",
       "      <td>HISTORIC NAMES</td>\n",
       "      <td>None</td>\n",
       "      <td>A silent movie title includes the last name of...</td>\n",
       "      <td>Grigori Alexandrovich Potemkin</td>\n",
       "    </tr>\n",
       "  </tbody>\n",
       "</table>\n",
       "<p>216930 rows × 7 columns</p>\n",
       "</div>"
      ],
      "text/plain": [
       "        Show Number    Air Date             Round  \\\n",
       "0              4680  2004-12-31         Jeopardy!   \n",
       "1              4680  2004-12-31         Jeopardy!   \n",
       "2              4680  2004-12-31         Jeopardy!   \n",
       "3              4680  2004-12-31         Jeopardy!   \n",
       "4              4680  2004-12-31         Jeopardy!   \n",
       "...             ...         ...               ...   \n",
       "216925         4999  2006-05-11  Double Jeopardy!   \n",
       "216926         4999  2006-05-11  Double Jeopardy!   \n",
       "216927         4999  2006-05-11  Double Jeopardy!   \n",
       "216928         4999  2006-05-11  Double Jeopardy!   \n",
       "216929         4999  2006-05-11   Final Jeopardy!   \n",
       "\n",
       "                               Category  Value  \\\n",
       "0                               HISTORY   $200   \n",
       "1       ESPN's TOP 10 ALL-TIME ATHLETES   $200   \n",
       "2           EVERYBODY TALKS ABOUT IT...   $200   \n",
       "3                      THE COMPANY LINE   $200   \n",
       "4                   EPITAPHS & TRIBUTES   $200   \n",
       "...                                 ...    ...   \n",
       "216925                   RIDDLE ME THIS  $2000   \n",
       "216926                        \"T\" BIRDS  $2000   \n",
       "216927           AUTHORS IN THEIR YOUTH  $2000   \n",
       "216928                       QUOTATIONS  $2000   \n",
       "216929                   HISTORIC NAMES   None   \n",
       "\n",
       "                                                 Question  \\\n",
       "0       For the last 8 years of his life, Galileo was ...   \n",
       "1       No. 2: 1912 Olympian; football star at Carlisl...   \n",
       "2       The city of Yuma in this state has a record av...   \n",
       "3       In 1963, live on \"The Art Linkletter Show\", th...   \n",
       "4       Signer of the Dec. of Indep., framer of the Co...   \n",
       "...                                                   ...   \n",
       "216925  This Puccini opera turns on the solution to 3 ...   \n",
       "216926  In North America this term is properly applied...   \n",
       "216927  In Penny Lane, where this \"Hellraiser\" grew up...   \n",
       "216928  From Ft. Sill, Okla. he made the plea, Arizona...   \n",
       "216929  A silent movie title includes the last name of...   \n",
       "\n",
       "                                Answer  \n",
       "0                           Copernicus  \n",
       "1                           Jim Thorpe  \n",
       "2                              Arizona  \n",
       "3                           McDonald's  \n",
       "4                           John Adams  \n",
       "...                                ...  \n",
       "216925                        Turandot  \n",
       "216926                      a titmouse  \n",
       "216927                    Clive Barker  \n",
       "216928                        Geronimo  \n",
       "216929  Grigori Alexandrovich Potemkin  \n",
       "\n",
       "[216930 rows x 7 columns]"
      ]
     },
     "execution_count": 3,
     "metadata": {},
     "output_type": "execute_result"
    }
   ],
   "source": [
    "jeopardy"
   ]
  },
  {
   "cell_type": "markdown",
   "metadata": {},
   "source": [
    "1.4. Seems like questions are troncated. Let's fix this for this dataset - it might come handy in the future. "
   ]
  },
  {
   "cell_type": "code",
   "execution_count": 4,
   "metadata": {},
   "outputs": [],
   "source": [
    "pd.set_option('display.max_colwidth', None)"
   ]
  },
  {
   "cell_type": "markdown",
   "metadata": {},
   "source": [
    "1.5. Now let's try to print out specific columns."
   ]
  },
  {
   "cell_type": "code",
   "execution_count": 5,
   "metadata": {},
   "outputs": [
    {
     "data": {
      "text/plain": [
       "Index(['Show Number', ' Air Date', ' Round', ' Category', ' Value',\n",
       "       ' Question', ' Answer'],\n",
       "      dtype='object')"
      ]
     },
     "execution_count": 5,
     "metadata": {},
     "output_type": "execute_result"
    }
   ],
   "source": [
    "jeopardy.columns"
   ]
  },
  {
   "cell_type": "markdown",
   "metadata": {},
   "source": [
    "1.6. Columns names contain weird spaces that slow down the work, so let's rename them."
   ]
  },
  {
   "cell_type": "code",
   "execution_count": 6,
   "metadata": {},
   "outputs": [
    {
     "data": {
      "text/html": [
       "<div>\n",
       "<style scoped>\n",
       "    .dataframe tbody tr th:only-of-type {\n",
       "        vertical-align: middle;\n",
       "    }\n",
       "\n",
       "    .dataframe tbody tr th {\n",
       "        vertical-align: top;\n",
       "    }\n",
       "\n",
       "    .dataframe thead th {\n",
       "        text-align: right;\n",
       "    }\n",
       "</style>\n",
       "<table border=\"1\" class=\"dataframe\">\n",
       "  <thead>\n",
       "    <tr style=\"text-align: right;\">\n",
       "      <th></th>\n",
       "      <th>show_number</th>\n",
       "      <th>air_date</th>\n",
       "      <th>round</th>\n",
       "      <th>category</th>\n",
       "      <th>value</th>\n",
       "      <th>question</th>\n",
       "      <th>answer</th>\n",
       "    </tr>\n",
       "  </thead>\n",
       "  <tbody>\n",
       "    <tr>\n",
       "      <th>0</th>\n",
       "      <td>4680</td>\n",
       "      <td>2004-12-31</td>\n",
       "      <td>Jeopardy!</td>\n",
       "      <td>HISTORY</td>\n",
       "      <td>$200</td>\n",
       "      <td>For the last 8 years of his life, Galileo was under house arrest for espousing this man's theory</td>\n",
       "      <td>Copernicus</td>\n",
       "    </tr>\n",
       "    <tr>\n",
       "      <th>1</th>\n",
       "      <td>4680</td>\n",
       "      <td>2004-12-31</td>\n",
       "      <td>Jeopardy!</td>\n",
       "      <td>ESPN's TOP 10 ALL-TIME ATHLETES</td>\n",
       "      <td>$200</td>\n",
       "      <td>No. 2: 1912 Olympian; football star at Carlisle Indian School; 6 MLB seasons with the Reds, Giants &amp; Braves</td>\n",
       "      <td>Jim Thorpe</td>\n",
       "    </tr>\n",
       "    <tr>\n",
       "      <th>2</th>\n",
       "      <td>4680</td>\n",
       "      <td>2004-12-31</td>\n",
       "      <td>Jeopardy!</td>\n",
       "      <td>EVERYBODY TALKS ABOUT IT...</td>\n",
       "      <td>$200</td>\n",
       "      <td>The city of Yuma in this state has a record average of 4,055 hours of sunshine each year</td>\n",
       "      <td>Arizona</td>\n",
       "    </tr>\n",
       "    <tr>\n",
       "      <th>3</th>\n",
       "      <td>4680</td>\n",
       "      <td>2004-12-31</td>\n",
       "      <td>Jeopardy!</td>\n",
       "      <td>THE COMPANY LINE</td>\n",
       "      <td>$200</td>\n",
       "      <td>In 1963, live on \"The Art Linkletter Show\", this company served its billionth burger</td>\n",
       "      <td>McDonald's</td>\n",
       "    </tr>\n",
       "    <tr>\n",
       "      <th>4</th>\n",
       "      <td>4680</td>\n",
       "      <td>2004-12-31</td>\n",
       "      <td>Jeopardy!</td>\n",
       "      <td>EPITAPHS &amp; TRIBUTES</td>\n",
       "      <td>$200</td>\n",
       "      <td>Signer of the Dec. of Indep., framer of the Constitution of Mass., second President of the United States</td>\n",
       "      <td>John Adams</td>\n",
       "    </tr>\n",
       "  </tbody>\n",
       "</table>\n",
       "</div>"
      ],
      "text/plain": [
       "   show_number    air_date      round                         category value  \\\n",
       "0         4680  2004-12-31  Jeopardy!                          HISTORY  $200   \n",
       "1         4680  2004-12-31  Jeopardy!  ESPN's TOP 10 ALL-TIME ATHLETES  $200   \n",
       "2         4680  2004-12-31  Jeopardy!      EVERYBODY TALKS ABOUT IT...  $200   \n",
       "3         4680  2004-12-31  Jeopardy!                 THE COMPANY LINE  $200   \n",
       "4         4680  2004-12-31  Jeopardy!              EPITAPHS & TRIBUTES  $200   \n",
       "\n",
       "                                                                                                      question  \\\n",
       "0             For the last 8 years of his life, Galileo was under house arrest for espousing this man's theory   \n",
       "1  No. 2: 1912 Olympian; football star at Carlisle Indian School; 6 MLB seasons with the Reds, Giants & Braves   \n",
       "2                     The city of Yuma in this state has a record average of 4,055 hours of sunshine each year   \n",
       "3                         In 1963, live on \"The Art Linkletter Show\", this company served its billionth burger   \n",
       "4     Signer of the Dec. of Indep., framer of the Constitution of Mass., second President of the United States   \n",
       "\n",
       "       answer  \n",
       "0  Copernicus  \n",
       "1  Jim Thorpe  \n",
       "2     Arizona  \n",
       "3  McDonald's  \n",
       "4  John Adams  "
      ]
     },
     "execution_count": 6,
     "metadata": {},
     "output_type": "execute_result"
    }
   ],
   "source": [
    "jeopardy.rename(columns={\n",
    "    'Show Number': 'show_number',\n",
    "    ' Air Date': 'air_date', \n",
    "    ' Round': 'round',\n",
    "    ' Category': 'category',\n",
    "    ' Value': 'value',\n",
    "    ' Question': 'question',\n",
    "    ' Answer': 'answer'\n",
    "}, inplace=True)\n",
    "jeopardy.head(5)"
   ]
  },
  {
   "cell_type": "markdown",
   "metadata": {},
   "source": [
    "1.7. Let's check columns' data types to understand whether they are acceptable for wrangling."
   ]
  },
  {
   "cell_type": "code",
   "execution_count": 7,
   "metadata": {},
   "outputs": [
    {
     "data": {
      "text/plain": [
       "show_number     int64\n",
       "air_date       object\n",
       "round          object\n",
       "category       object\n",
       "value          object\n",
       "question       object\n",
       "answer         object\n",
       "dtype: object"
      ]
     },
     "execution_count": 7,
     "metadata": {},
     "output_type": "execute_result"
    }
   ],
   "source": [
    "jeopardy.dtypes"
   ]
  },
  {
   "cell_type": "markdown",
   "metadata": {},
   "source": [
    "Seems like `value` column definitely should be numeric to perform some actions with it. \n",
    "\n",
    "1.8. Let's check what acsessive symbols it has to remove them. "
   ]
  },
  {
   "cell_type": "code",
   "execution_count": 8,
   "metadata": {},
   "outputs": [
    {
     "data": {
      "text/plain": [
       "array(['$200', '$400', '$600', '$800', '$2,000', '$1000', '$1200',\n",
       "       '$1600', '$2000', '$3,200', 'None', '$5,000', '$100', '$300',\n",
       "       '$500', '$1,000', '$1,500', '$1,200', '$4,800', '$1,800', '$1,100',\n",
       "       '$2,200', '$3,400', '$3,000', '$4,000', '$1,600', '$6,800',\n",
       "       '$1,900', '$3,100', '$700', '$1,400', '$2,800', '$8,000', '$6,000',\n",
       "       '$2,400', '$12,000', '$3,800', '$2,500', '$6,200', '$10,000',\n",
       "       '$7,000', '$1,492', '$7,400', '$1,300', '$7,200', '$2,600',\n",
       "       '$3,300', '$5,400', '$4,500', '$2,100', '$900', '$3,600', '$2,127',\n",
       "       '$367', '$4,400', '$3,500', '$2,900', '$3,900', '$4,100', '$4,600',\n",
       "       '$10,800', '$2,300', '$5,600', '$1,111', '$8,200', '$5,800',\n",
       "       '$750', '$7,500', '$1,700', '$9,000', '$6,100', '$1,020', '$4,700',\n",
       "       '$2,021', '$5,200', '$3,389', '$4,200', '$5', '$2,001', '$1,263',\n",
       "       '$4,637', '$3,201', '$6,600', '$3,700', '$2,990', '$5,500',\n",
       "       '$14,000', '$2,700', '$6,400', '$350', '$8,600', '$6,300', '$250',\n",
       "       '$3,989', '$8,917', '$9,500', '$1,246', '$6,435', '$8,800',\n",
       "       '$2,222', '$2,746', '$10,400', '$7,600', '$6,700', '$5,100',\n",
       "       '$13,200', '$4,300', '$1,407', '$12,400', '$5,401', '$7,800',\n",
       "       '$1,183', '$1,203', '$13,000', '$11,600', '$14,200', '$1,809',\n",
       "       '$8,400', '$8,700', '$11,000', '$5,201', '$1,801', '$3,499',\n",
       "       '$5,700', '$601', '$4,008', '$50', '$2,344', '$2,811', '$18,000',\n",
       "       '$1,777', '$3,599', '$9,800', '$796', '$3,150', '$20', '$1,810',\n",
       "       '$22', '$9,200', '$1,512', '$8,500', '$585', '$1,534', '$13,800',\n",
       "       '$5,001', '$4,238', '$16,400', '$1,347', '$2547', '$11,200'],\n",
       "      dtype=object)"
      ]
     },
     "execution_count": 8,
     "metadata": {},
     "output_type": "execute_result"
    }
   ],
   "source": [
    "jeopardy.value.unique()"
   ]
  },
  {
   "cell_type": "markdown",
   "metadata": {},
   "source": [
    "1.9. We are going to replace **\"None\"** value with `NaN`, which won't be a part of any calculations and remove other unnecessary symbols. "
   ]
  },
  {
   "cell_type": "code",
   "execution_count": 9,
   "metadata": {},
   "outputs": [
    {
     "data": {
      "text/plain": [
       "0          200.0\n",
       "1          200.0\n",
       "2          200.0\n",
       "3          200.0\n",
       "4          200.0\n",
       "           ...  \n",
       "216925    2000.0\n",
       "216926    2000.0\n",
       "216927    2000.0\n",
       "216928    2000.0\n",
       "216929       NaN\n",
       "Name: value, Length: 216930, dtype: float64"
      ]
     },
     "execution_count": 9,
     "metadata": {},
     "output_type": "execute_result"
    }
   ],
   "source": [
    "# Replace 'None' with NaN\n",
    "jeopardy[jeopardy.columns] = jeopardy[jeopardy.columns].replace('None', np.NaN)\n",
    "\n",
    "# Remove unnecessary symbols & reformat a column\n",
    "cut_the_tails = lambda column: pd.to_numeric(column.replace('[\\$%,]', '', regex=True))\n",
    "jeopardy.value = cut_the_tails(jeopardy.value)\n",
    "jeopardy.value"
   ]
  },
  {
   "cell_type": "markdown",
   "metadata": {},
   "source": [
    "1.10. Now it's a numeric type and we can check out some stats of the `value` column. "
   ]
  },
  {
   "cell_type": "code",
   "execution_count": 10,
   "metadata": {},
   "outputs": [
    {
     "data": {
      "text/plain": [
       "count    213296.000000\n",
       "mean        752.595923\n",
       "std         637.855303\n",
       "min           5.000000\n",
       "25%         400.000000\n",
       "50%         600.000000\n",
       "75%        1000.000000\n",
       "max       18000.000000\n",
       "Name: value, dtype: float64"
      ]
     },
     "execution_count": 10,
     "metadata": {},
     "output_type": "execute_result"
    }
   ],
   "source": [
    "jeopardy.value.describe()"
   ]
  },
  {
   "cell_type": "markdown",
   "metadata": {},
   "source": [
    "### 2. Words Finder\n",
    "\n",
    "2.1. We are going to write a function that filters the dataset for questions that contains all of the words in a list of words. For example, when the list `[\"King\", \"England\"]` was passed to our function, the function returned every row that has the strings \"King\" and \"England\" somewhere in its \"Question\" column."
   ]
  },
  {
   "cell_type": "code",
   "execution_count": 11,
   "metadata": {},
   "outputs": [],
   "source": [
    "def find_words(dataset, column, word_list):\n",
    "    rows = column.apply(lambda x: True)\n",
    "    for word in word_list:\n",
    "        rows = rows & column.str.contains('\\\\b' + word + '\\\\b', case=False)\n",
    "    return dataset[rows]\n",
    "\n",
    "word_list = ['England', 'King']\n",
    "questions = find_words(jeopardy, jeopardy.question, word_list)\n"
   ]
  },
  {
   "cell_type": "markdown",
   "metadata": {},
   "source": [
    "2.2. Now let's write a function that returns the count of the unique answers to all of the questions in a dataset. "
   ]
  },
  {
   "cell_type": "code",
   "execution_count": 12,
   "metadata": {},
   "outputs": [],
   "source": [
    "def find_uniq_answ(dataset):\n",
    "    return dataset.groupby('answer').answer.count().reset_index(name = 'count')\n",
    "    \n",
    "# find_uniq_answ(jeopardy)"
   ]
  },
  {
   "cell_type": "markdown",
   "metadata": {},
   "source": [
    "2.3. Now we going to find how many unique answers we get after filtering the dataset by \"King\" and \"England\". Let's sort them in descending order to see the most common ones."
   ]
  },
  {
   "cell_type": "code",
   "execution_count": 13,
   "metadata": {},
   "outputs": [
    {
     "data": {
      "text/html": [
       "<div>\n",
       "<style scoped>\n",
       "    .dataframe tbody tr th:only-of-type {\n",
       "        vertical-align: middle;\n",
       "    }\n",
       "\n",
       "    .dataframe tbody tr th {\n",
       "        vertical-align: top;\n",
       "    }\n",
       "\n",
       "    .dataframe thead th {\n",
       "        text-align: right;\n",
       "    }\n",
       "</style>\n",
       "<table border=\"1\" class=\"dataframe\">\n",
       "  <thead>\n",
       "    <tr style=\"text-align: right;\">\n",
       "      <th></th>\n",
       "      <th>answer</th>\n",
       "      <th>count</th>\n",
       "    </tr>\n",
       "  </thead>\n",
       "  <tbody>\n",
       "    <tr>\n",
       "      <th>78</th>\n",
       "      <td>William the Conqueror</td>\n",
       "      <td>5</td>\n",
       "    </tr>\n",
       "    <tr>\n",
       "      <th>42</th>\n",
       "      <td>James I</td>\n",
       "      <td>3</td>\n",
       "    </tr>\n",
       "    <tr>\n",
       "      <th>66</th>\n",
       "      <td>Richard the Lionhearted</td>\n",
       "      <td>3</td>\n",
       "    </tr>\n",
       "    <tr>\n",
       "      <th>57</th>\n",
       "      <td>Oliver Cromwell</td>\n",
       "      <td>3</td>\n",
       "    </tr>\n",
       "    <tr>\n",
       "      <th>28</th>\n",
       "      <td>George I</td>\n",
       "      <td>3</td>\n",
       "    </tr>\n",
       "    <tr>\n",
       "      <th>39</th>\n",
       "      <td>Henry VIII</td>\n",
       "      <td>3</td>\n",
       "    </tr>\n",
       "    <tr>\n",
       "      <th>29</th>\n",
       "      <td>George III</td>\n",
       "      <td>3</td>\n",
       "    </tr>\n",
       "    <tr>\n",
       "      <th>31</th>\n",
       "      <td>Georgia</td>\n",
       "      <td>2</td>\n",
       "    </tr>\n",
       "    <tr>\n",
       "      <th>65</th>\n",
       "      <td>Richard the Lionheart</td>\n",
       "      <td>2</td>\n",
       "    </tr>\n",
       "    <tr>\n",
       "      <th>64</th>\n",
       "      <td>Richard III</td>\n",
       "      <td>2</td>\n",
       "    </tr>\n",
       "  </tbody>\n",
       "</table>\n",
       "</div>"
      ],
      "text/plain": [
       "                     answer  count\n",
       "78    William the Conqueror      5\n",
       "42                  James I      3\n",
       "66  Richard the Lionhearted      3\n",
       "57          Oliver Cromwell      3\n",
       "28                 George I      3\n",
       "39               Henry VIII      3\n",
       "29               George III      3\n",
       "31                  Georgia      2\n",
       "65    Richard the Lionheart      2\n",
       "64              Richard III      2"
      ]
     },
     "execution_count": 13,
     "metadata": {},
     "output_type": "execute_result"
    }
   ],
   "source": [
    "find_uniq_answ(questions).sort_values('count', ascending = False).head(10)"
   ]
  },
  {
   "cell_type": "markdown",
   "metadata": {},
   "source": [
    "### 3. Search for Facts and Patterns \n",
    "\n",
    "#### 3.1. Rounds and Categories\n",
    "\n",
    "Is there a connection between the round and the category? Are you more likely to find certain categories, like \"Literature\" in Single Jeopardy or Double Jeopardy? Let's find some patterns between rounds, categories and values. \n",
    "\n",
    "3.1.1. We are going to start with finding all unique rounds' names. There are only 4 of them so we can also display them."
   ]
  },
  {
   "cell_type": "code",
   "execution_count": 14,
   "metadata": {},
   "outputs": [
    {
     "data": {
      "text/plain": [
       "array(['Jeopardy!', 'Double Jeopardy!', 'Final Jeopardy!', 'Tiebreaker'],\n",
       "      dtype=object)"
      ]
     },
     "execution_count": 14,
     "metadata": {},
     "output_type": "execute_result"
    }
   ],
   "source": [
    "jeopardy['round'].unique()"
   ]
  },
  {
   "cell_type": "markdown",
   "metadata": {},
   "source": [
    "3.1.2. To make this column suitable for calculations we need to convert it to the new data type `category`."
   ]
  },
  {
   "cell_type": "code",
   "execution_count": 15,
   "metadata": {},
   "outputs": [],
   "source": [
    "order = ['Jeopardy!', 'Double Jeopardy!', 'Final Jeopardy!', 'Tiebreaker']\n",
    "jeopardy['round'] = pd.Categorical(jeopardy['round'], order, ordered=True)"
   ]
  },
  {
   "cell_type": "markdown",
   "metadata": {},
   "source": [
    "3.1.3. Let's find how many questions each category contains."
   ]
  },
  {
   "cell_type": "code",
   "execution_count": 16,
   "metadata": {},
   "outputs": [
    {
     "data": {
      "text/plain": [
       "round\n",
       "Jeopardy!           107384\n",
       "Double Jeopardy!    105912\n",
       "Final Jeopardy!       3631\n",
       "Tiebreaker               3\n",
       "Name: category, dtype: int64"
      ]
     },
     "execution_count": 16,
     "metadata": {},
     "output_type": "execute_result"
    }
   ],
   "source": [
    "groupby_round = jeopardy.groupby('round').category.count()\n",
    "groupby_round"
   ]
  },
  {
   "cell_type": "markdown",
   "metadata": {},
   "source": [
    "Judging by the number of questions we can suppose that rounds of the game have the exact same order which we got in our result. "
   ]
  },
  {
   "cell_type": "markdown",
   "metadata": {},
   "source": [
    "3.1.4. Now let's find the number of unique categories. There will be a lot of them considering the first print of the dataset. "
   ]
  },
  {
   "cell_type": "code",
   "execution_count": 17,
   "metadata": {},
   "outputs": [
    {
     "data": {
      "text/plain": [
       "27995"
      ]
     },
     "execution_count": 17,
     "metadata": {},
     "output_type": "execute_result"
    }
   ],
   "source": [
    "len(jeopardy['category'].unique())"
   ]
  },
  {
   "cell_type": "markdown",
   "metadata": {},
   "source": [
    "Wow, guys really worked hard to reach such numbers..."
   ]
  },
  {
   "cell_type": "markdown",
   "metadata": {},
   "source": [
    "3.1.5. Let's find the categories by rounds with the greatest amounts of questions within them."
   ]
  },
  {
   "cell_type": "code",
   "execution_count": 18,
   "metadata": {},
   "outputs": [
    {
     "data": {
      "text/html": [
       "<div>\n",
       "<style scoped>\n",
       "    .dataframe tbody tr th:only-of-type {\n",
       "        vertical-align: middle;\n",
       "    }\n",
       "\n",
       "    .dataframe tbody tr th {\n",
       "        vertical-align: top;\n",
       "    }\n",
       "\n",
       "    .dataframe thead th {\n",
       "        text-align: right;\n",
       "    }\n",
       "</style>\n",
       "<table border=\"1\" class=\"dataframe\">\n",
       "  <thead>\n",
       "    <tr style=\"text-align: right;\">\n",
       "      <th></th>\n",
       "      <th>category</th>\n",
       "      <th>round</th>\n",
       "      <th>questions_count</th>\n",
       "    </tr>\n",
       "  </thead>\n",
       "  <tbody>\n",
       "    <tr>\n",
       "      <th>0</th>\n",
       "      <td>BEFORE &amp; AFTER</td>\n",
       "      <td>Double Jeopardy!</td>\n",
       "      <td>450</td>\n",
       "    </tr>\n",
       "    <tr>\n",
       "      <th>1</th>\n",
       "      <td>LITERATURE</td>\n",
       "      <td>Double Jeopardy!</td>\n",
       "      <td>381</td>\n",
       "    </tr>\n",
       "    <tr>\n",
       "      <th>2</th>\n",
       "      <td>SCIENCE</td>\n",
       "      <td>Double Jeopardy!</td>\n",
       "      <td>296</td>\n",
       "    </tr>\n",
       "    <tr>\n",
       "      <th>3</th>\n",
       "      <td>POTPOURRI</td>\n",
       "      <td>Jeopardy!</td>\n",
       "      <td>255</td>\n",
       "    </tr>\n",
       "    <tr>\n",
       "      <th>4</th>\n",
       "      <td>STUPID ANSWERS</td>\n",
       "      <td>Jeopardy!</td>\n",
       "      <td>255</td>\n",
       "    </tr>\n",
       "    <tr>\n",
       "      <th>...</th>\n",
       "      <td>...</td>\n",
       "      <td>...</td>\n",
       "      <td>...</td>\n",
       "    </tr>\n",
       "    <tr>\n",
       "      <th>31681</th>\n",
       "      <td>CITIES IN ENGLAND</td>\n",
       "      <td>Final Jeopardy!</td>\n",
       "      <td>1</td>\n",
       "    </tr>\n",
       "    <tr>\n",
       "      <th>31682</th>\n",
       "      <td>STREISAND FILMS</td>\n",
       "      <td>Double Jeopardy!</td>\n",
       "      <td>1</td>\n",
       "    </tr>\n",
       "    <tr>\n",
       "      <th>31683</th>\n",
       "      <td>CHRISTMAS TRADITIONS</td>\n",
       "      <td>Final Jeopardy!</td>\n",
       "      <td>1</td>\n",
       "    </tr>\n",
       "    <tr>\n",
       "      <th>31684</th>\n",
       "      <td>STRUCTURES</td>\n",
       "      <td>Final Jeopardy!</td>\n",
       "      <td>1</td>\n",
       "    </tr>\n",
       "    <tr>\n",
       "      <th>31685</th>\n",
       "      <td>SPORTS &amp; RECREATION</td>\n",
       "      <td>Final Jeopardy!</td>\n",
       "      <td>1</td>\n",
       "    </tr>\n",
       "  </tbody>\n",
       "</table>\n",
       "<p>31686 rows × 3 columns</p>\n",
       "</div>"
      ],
      "text/plain": [
       "                   category             round  questions_count\n",
       "0            BEFORE & AFTER  Double Jeopardy!              450\n",
       "1                LITERATURE  Double Jeopardy!              381\n",
       "2                   SCIENCE  Double Jeopardy!              296\n",
       "3                 POTPOURRI         Jeopardy!              255\n",
       "4            STUPID ANSWERS         Jeopardy!              255\n",
       "...                     ...               ...              ...\n",
       "31681     CITIES IN ENGLAND   Final Jeopardy!                1\n",
       "31682       STREISAND FILMS  Double Jeopardy!                1\n",
       "31683  CHRISTMAS TRADITIONS   Final Jeopardy!                1\n",
       "31684            STRUCTURES   Final Jeopardy!                1\n",
       "31685   SPORTS & RECREATION   Final Jeopardy!                1\n",
       "\n",
       "[31686 rows x 3 columns]"
      ]
     },
     "execution_count": 18,
     "metadata": {},
     "output_type": "execute_result"
    }
   ],
   "source": [
    "groupby_category = jeopardy.value_counts(['category','round']).reset_index(name='questions_count')\n",
    "groupby_category = groupby_category[groupby_category.questions_count > 0]\n",
    "groupby_category\n"
   ]
  },
  {
   "cell_type": "markdown",
   "metadata": {},
   "source": [
    "3.1.6. How about visualising this table on scatter plot? "
   ]
  },
  {
   "cell_type": "code",
   "execution_count": 19,
   "metadata": {},
   "outputs": [
    {
     "data": {
      "image/png": "[encoded data removed]",
      "text/plain": [
       "<Figure size 432x720 with 1 Axes>"
      ]
     },
     "metadata": {
      "needs_background": "light"
     },
     "output_type": "display_data"
    }
   ],
   "source": [
    "plt.figure(figsize=(6, 10))\n",
    "plt.scatter(groupby_category['round'], groupby_category['questions_count'], c='salmon', s=200, alpha=0.5)\n",
    "\n",
    "plt.xlabel('Rounds', fontsize=14)\n",
    "plt.ylabel('Questions Count', fontsize=14)\n",
    "plt.title('Num.Questions per Category to Rounds', fontsize=15)\n",
    "\n",
    "plt.xticks(fontsize=11)\n",
    "plt.yticks(fontsize=11)\n",
    "\n",
    "plt.show()"
   ]
  },
  {
   "cell_type": "code",
   "execution_count": 20,
   "metadata": {},
   "outputs": [
    {
     "data": {
      "text/plain": [
       "<Figure size 432x288 with 0 Axes>"
      ]
     },
     "metadata": {},
     "output_type": "display_data"
    }
   ],
   "source": [
    "plt.clf()"
   ]
  },
  {
   "cell_type": "markdown",
   "metadata": {},
   "source": [
    "Seems like most of the categories have about 250 questions which are concentrated within 2 rounds: \"Jeopardy\" and \"Double Jeopardy\"."
   ]
  },
  {
   "cell_type": "markdown",
   "metadata": {},
   "source": [
    "3.1.7. If we compare the number of unique categories - `27 995`, and number of rows in the table above - `31 686`, we can clearly tell that some categories belong to more than one round. Let's check wich of those that belong to several rounds contain many questions."
   ]
  },
  {
   "cell_type": "code",
   "execution_count": 21,
   "metadata": {},
   "outputs": [
    {
     "data": {
      "text/html": [
       "<div>\n",
       "<style scoped>\n",
       "    .dataframe tbody tr th:only-of-type {\n",
       "        vertical-align: middle;\n",
       "    }\n",
       "\n",
       "    .dataframe tbody tr th {\n",
       "        vertical-align: top;\n",
       "    }\n",
       "\n",
       "    .dataframe thead th {\n",
       "        text-align: right;\n",
       "    }\n",
       "</style>\n",
       "<table border=\"1\" class=\"dataframe\">\n",
       "  <thead>\n",
       "    <tr style=\"text-align: right;\">\n",
       "      <th></th>\n",
       "      <th>category</th>\n",
       "      <th>round</th>\n",
       "      <th>questions_count</th>\n",
       "      <th>total</th>\n",
       "    </tr>\n",
       "  </thead>\n",
       "  <tbody>\n",
       "    <tr>\n",
       "      <th>19809</th>\n",
       "      <td>BEFORE &amp; AFTER</td>\n",
       "      <td>Double Jeopardy!</td>\n",
       "      <td>450</td>\n",
       "      <td>547</td>\n",
       "    </tr>\n",
       "    <tr>\n",
       "      <th>19808</th>\n",
       "      <td>BEFORE &amp; AFTER</td>\n",
       "      <td>Jeopardy!</td>\n",
       "      <td>97</td>\n",
       "      <td>547</td>\n",
       "    </tr>\n",
       "    <tr>\n",
       "      <th>79885</th>\n",
       "      <td>SCIENCE</td>\n",
       "      <td>Double Jeopardy!</td>\n",
       "      <td>296</td>\n",
       "      <td>519</td>\n",
       "    </tr>\n",
       "    <tr>\n",
       "      <th>79884</th>\n",
       "      <td>SCIENCE</td>\n",
       "      <td>Jeopardy!</td>\n",
       "      <td>217</td>\n",
       "      <td>519</td>\n",
       "    </tr>\n",
       "    <tr>\n",
       "      <th>79886</th>\n",
       "      <td>SCIENCE</td>\n",
       "      <td>Final Jeopardy!</td>\n",
       "      <td>6</td>\n",
       "      <td>519</td>\n",
       "    </tr>\n",
       "    <tr>\n",
       "      <th>57933</th>\n",
       "      <td>LITERATURE</td>\n",
       "      <td>Double Jeopardy!</td>\n",
       "      <td>381</td>\n",
       "      <td>496</td>\n",
       "    </tr>\n",
       "    <tr>\n",
       "      <th>57932</th>\n",
       "      <td>LITERATURE</td>\n",
       "      <td>Jeopardy!</td>\n",
       "      <td>105</td>\n",
       "      <td>496</td>\n",
       "    </tr>\n",
       "    <tr>\n",
       "      <th>57934</th>\n",
       "      <td>LITERATURE</td>\n",
       "      <td>Final Jeopardy!</td>\n",
       "      <td>10</td>\n",
       "      <td>496</td>\n",
       "    </tr>\n",
       "    <tr>\n",
       "      <th>14772</th>\n",
       "      <td>AMERICAN HISTORY</td>\n",
       "      <td>Jeopardy!</td>\n",
       "      <td>227</td>\n",
       "      <td>418</td>\n",
       "    </tr>\n",
       "    <tr>\n",
       "      <th>14773</th>\n",
       "      <td>AMERICAN HISTORY</td>\n",
       "      <td>Double Jeopardy!</td>\n",
       "      <td>174</td>\n",
       "      <td>418</td>\n",
       "    </tr>\n",
       "    <tr>\n",
       "      <th>14774</th>\n",
       "      <td>AMERICAN HISTORY</td>\n",
       "      <td>Final Jeopardy!</td>\n",
       "      <td>17</td>\n",
       "      <td>418</td>\n",
       "    </tr>\n",
       "    <tr>\n",
       "      <th>74256</th>\n",
       "      <td>POTPOURRI</td>\n",
       "      <td>Jeopardy!</td>\n",
       "      <td>255</td>\n",
       "      <td>401</td>\n",
       "    </tr>\n",
       "    <tr>\n",
       "      <th>74257</th>\n",
       "      <td>POTPOURRI</td>\n",
       "      <td>Double Jeopardy!</td>\n",
       "      <td>146</td>\n",
       "      <td>401</td>\n",
       "    </tr>\n",
       "    <tr>\n",
       "      <th>109581</th>\n",
       "      <td>WORLD HISTORY</td>\n",
       "      <td>Double Jeopardy!</td>\n",
       "      <td>237</td>\n",
       "      <td>377</td>\n",
       "    </tr>\n",
       "    <tr>\n",
       "      <th>109580</th>\n",
       "      <td>WORLD HISTORY</td>\n",
       "      <td>Jeopardy!</td>\n",
       "      <td>129</td>\n",
       "      <td>377</td>\n",
       "    </tr>\n",
       "  </tbody>\n",
       "</table>\n",
       "</div>"
      ],
      "text/plain": [
       "                category             round  questions_count  total\n",
       "19809     BEFORE & AFTER  Double Jeopardy!              450    547\n",
       "19808     BEFORE & AFTER         Jeopardy!               97    547\n",
       "79885            SCIENCE  Double Jeopardy!              296    519\n",
       "79884            SCIENCE         Jeopardy!              217    519\n",
       "79886            SCIENCE   Final Jeopardy!                6    519\n",
       "57933         LITERATURE  Double Jeopardy!              381    496\n",
       "57932         LITERATURE         Jeopardy!              105    496\n",
       "57934         LITERATURE   Final Jeopardy!               10    496\n",
       "14772   AMERICAN HISTORY         Jeopardy!              227    418\n",
       "14773   AMERICAN HISTORY  Double Jeopardy!              174    418\n",
       "14774   AMERICAN HISTORY   Final Jeopardy!               17    418\n",
       "74256          POTPOURRI         Jeopardy!              255    401\n",
       "74257          POTPOURRI  Double Jeopardy!              146    401\n",
       "109581     WORLD HISTORY  Double Jeopardy!              237    377\n",
       "109580     WORLD HISTORY         Jeopardy!              129    377"
      ]
     },
     "execution_count": 21,
     "metadata": {},
     "output_type": "execute_result"
    }
   ],
   "source": [
    "belong_to_many_rounds = jeopardy.groupby(['category', 'round']).question.count().reset_index(name='questions_count')\n",
    "belong_to_many_rounds['total'] = belong_to_many_rounds.groupby('category').questions_count.transform('sum')\n",
    "belong_to_many_rounds = belong_to_many_rounds.sort_values(['total', 'questions_count'], ascending=[False, False])\n",
    "belong_to_many_rounds = belong_to_many_rounds[belong_to_many_rounds.questions_count > 0]\n",
    "belong_to_many_rounds.head(15)"
   ]
  },
  {
   "cell_type": "markdown",
   "metadata": {},
   "source": [
    "3.1.8. Let's find some categories that belong to 4 or 3 rounds. "
   ]
  },
  {
   "cell_type": "code",
   "execution_count": 22,
   "metadata": {},
   "outputs": [
    {
     "data": {
      "text/html": [
       "<div>\n",
       "<style scoped>\n",
       "    .dataframe tbody tr th:only-of-type {\n",
       "        vertical-align: middle;\n",
       "    }\n",
       "\n",
       "    .dataframe tbody tr th {\n",
       "        vertical-align: top;\n",
       "    }\n",
       "\n",
       "    .dataframe thead th {\n",
       "        text-align: right;\n",
       "    }\n",
       "</style>\n",
       "<table border=\"1\" class=\"dataframe\">\n",
       "  <thead>\n",
       "    <tr style=\"text-align: right;\">\n",
       "      <th></th>\n",
       "      <th>category</th>\n",
       "      <th>round</th>\n",
       "    </tr>\n",
       "  </thead>\n",
       "  <tbody>\n",
       "    <tr>\n",
       "      <th>1625</th>\n",
       "      <td>'90s MOVIES</td>\n",
       "      <td>3</td>\n",
       "    </tr>\n",
       "    <tr>\n",
       "      <th>1655</th>\n",
       "      <td>-ISMS</td>\n",
       "      <td>3</td>\n",
       "    </tr>\n",
       "    <tr>\n",
       "      <th>1662</th>\n",
       "      <td>-OLOGIES</td>\n",
       "      <td>3</td>\n",
       "    </tr>\n",
       "    <tr>\n",
       "      <th>1709</th>\n",
       "      <td>12-LETTER WORDS</td>\n",
       "      <td>3</td>\n",
       "    </tr>\n",
       "    <tr>\n",
       "      <th>1711</th>\n",
       "      <td>13-LETTER WORDS</td>\n",
       "      <td>3</td>\n",
       "    </tr>\n",
       "    <tr>\n",
       "      <th>...</th>\n",
       "      <td>...</td>\n",
       "      <td>...</td>\n",
       "    </tr>\n",
       "    <tr>\n",
       "      <th>27460</th>\n",
       "      <td>WORLD TRAVEL</td>\n",
       "      <td>3</td>\n",
       "    </tr>\n",
       "    <tr>\n",
       "      <th>27465</th>\n",
       "      <td>WORLD WAR II</td>\n",
       "      <td>3</td>\n",
       "    </tr>\n",
       "    <tr>\n",
       "      <th>27505</th>\n",
       "      <td>WRITERS</td>\n",
       "      <td>3</td>\n",
       "    </tr>\n",
       "    <tr>\n",
       "      <th>27536</th>\n",
       "      <td>WWII</td>\n",
       "      <td>3</td>\n",
       "    </tr>\n",
       "    <tr>\n",
       "      <th>27932</th>\n",
       "      <td>ZOOLOGY</td>\n",
       "      <td>3</td>\n",
       "    </tr>\n",
       "  </tbody>\n",
       "</table>\n",
       "<p>526 rows × 2 columns</p>\n",
       "</div>"
      ],
      "text/plain": [
       "              category  round\n",
       "1625       '90s MOVIES      3\n",
       "1655             -ISMS      3\n",
       "1662          -OLOGIES      3\n",
       "1709   12-LETTER WORDS      3\n",
       "1711   13-LETTER WORDS      3\n",
       "...                ...    ...\n",
       "27460     WORLD TRAVEL      3\n",
       "27465     WORLD WAR II      3\n",
       "27505          WRITERS      3\n",
       "27536             WWII      3\n",
       "27932          ZOOLOGY      3\n",
       "\n",
       "[526 rows x 2 columns]"
      ]
     },
     "execution_count": 22,
     "metadata": {},
     "output_type": "execute_result"
    }
   ],
   "source": [
    "categories_in_multiple_rounds = jeopardy.groupby('category')['round'].unique().reset_index()\n",
    "categories_in_multiple_rounds['round'] = categories_in_multiple_rounds['round'].apply(lambda x: len(x))\n",
    "categories_in_multiple_rounds[categories_in_multiple_rounds['round'] > 2]"
   ]
  },
  {
   "cell_type": "markdown",
   "metadata": {},
   "source": [
    "526 Categories belong to 3 rounds at the same time!"
   ]
  },
  {
   "cell_type": "code",
   "execution_count": 23,
   "metadata": {},
   "outputs": [
    {
     "data": {
      "text/html": [
       "<div>\n",
       "<style scoped>\n",
       "    .dataframe tbody tr th:only-of-type {\n",
       "        vertical-align: middle;\n",
       "    }\n",
       "\n",
       "    .dataframe tbody tr th {\n",
       "        vertical-align: top;\n",
       "    }\n",
       "\n",
       "    .dataframe thead th {\n",
       "        text-align: right;\n",
       "    }\n",
       "</style>\n",
       "<table border=\"1\" class=\"dataframe\">\n",
       "  <thead>\n",
       "    <tr style=\"text-align: right;\">\n",
       "      <th></th>\n",
       "      <th>category</th>\n",
       "      <th>round</th>\n",
       "    </tr>\n",
       "  </thead>\n",
       "  <tbody>\n",
       "    <tr>\n",
       "      <th>14366</th>\n",
       "      <td>LITERARY CHARACTERS</td>\n",
       "      <td>4</td>\n",
       "    </tr>\n",
       "  </tbody>\n",
       "</table>\n",
       "</div>"
      ],
      "text/plain": [
       "                  category  round\n",
       "14366  LITERARY CHARACTERS      4"
      ]
     },
     "execution_count": 23,
     "metadata": {},
     "output_type": "execute_result"
    }
   ],
   "source": [
    "categories_in_multiple_rounds[categories_in_multiple_rounds['round'] > 3]"
   ]
  },
  {
   "cell_type": "markdown",
   "metadata": {},
   "source": [
    "But only 1 to all 4 of them. "
   ]
  },
  {
   "cell_type": "markdown",
   "metadata": {},
   "source": [
    "3.1.9. What about total number of categories that belong to 1-4 rounds? "
   ]
  },
  {
   "cell_type": "code",
   "execution_count": 24,
   "metadata": {},
   "outputs": [
    {
     "data": {
      "text/html": [
       "<div>\n",
       "<style scoped>\n",
       "    .dataframe tbody tr th:only-of-type {\n",
       "        vertical-align: middle;\n",
       "    }\n",
       "\n",
       "    .dataframe tbody tr th {\n",
       "        vertical-align: top;\n",
       "    }\n",
       "\n",
       "    .dataframe thead th {\n",
       "        text-align: right;\n",
       "    }\n",
       "</style>\n",
       "<table border=\"1\" class=\"dataframe\">\n",
       "  <thead>\n",
       "    <tr style=\"text-align: right;\">\n",
       "      <th></th>\n",
       "      <th>round</th>\n",
       "      <th>categories_count</th>\n",
       "    </tr>\n",
       "  </thead>\n",
       "  <tbody>\n",
       "    <tr>\n",
       "      <th>0</th>\n",
       "      <td>1</td>\n",
       "      <td>24831</td>\n",
       "    </tr>\n",
       "    <tr>\n",
       "      <th>1</th>\n",
       "      <td>2</td>\n",
       "      <td>2638</td>\n",
       "    </tr>\n",
       "    <tr>\n",
       "      <th>2</th>\n",
       "      <td>3</td>\n",
       "      <td>525</td>\n",
       "    </tr>\n",
       "    <tr>\n",
       "      <th>3</th>\n",
       "      <td>4</td>\n",
       "      <td>1</td>\n",
       "    </tr>\n",
       "  </tbody>\n",
       "</table>\n",
       "</div>"
      ],
      "text/plain": [
       "   round  categories_count\n",
       "0      1             24831\n",
       "1      2              2638\n",
       "2      3               525\n",
       "3      4                 1"
      ]
     },
     "execution_count": 24,
     "metadata": {},
     "output_type": "execute_result"
    }
   ],
   "source": [
    "num_categories_in_multiple_rounds = categories_in_multiple_rounds.groupby('round')['category'].count().reset_index(name='categories_count')\n",
    "num_categories_in_multiple_rounds"
   ]
  },
  {
   "cell_type": "markdown",
   "metadata": {},
   "source": [
    "3.1.10. Let's get visual and make a scatterplot with shade. "
   ]
  },
  {
   "cell_type": "code",
   "execution_count": 25,
   "metadata": {},
   "outputs": [
    {
     "data": {
      "image/png": "[encoded data removed]",
      "text/plain": [
       "<Figure size 720x576 with 1 Axes>"
      ]
     },
     "metadata": {
      "needs_background": "light"
     },
     "output_type": "display_data"
    }
   ],
   "source": [
    "a= plt.figure(figsize = (10,8))\n",
    "axes= a.add_axes([0.1,0.1,0.8,0.8])\n",
    "\n",
    "x = num_categories_in_multiple_rounds['round']\n",
    "y = num_categories_in_multiple_rounds['categories_count']\n",
    "\n",
    "plt.scatter(x, y, c='salmon')\n",
    "plt.plot(x, y, c='salmon')\n",
    "\n",
    "plt.fill_between(x, y, 0,\n",
    "                 facecolor=\"salmon\", # The fill color\n",
    "                 color='salmon',       # The outline color\n",
    "                 alpha=0.2) \n",
    "\n",
    "\n",
    "plt.xticks(x, fontsize=11)\n",
    "plt.yticks(fontsize=11)                   \n",
    "\n",
    "axes.set_xlim([1, 4.2])\n",
    "axes.set_ylim([1, 28000])\n",
    "\n",
    "plt.xlabel('Rounds', fontsize=14)\n",
    "plt.ylabel('Categories', fontsize=14)\n",
    "plt.title('Number of Rounds vs Categories', fontsize=15)\n",
    "\n",
    "plt.show()"
   ]
  },
  {
   "cell_type": "markdown",
   "metadata": {},
   "source": [
    "#### 3.2. Rounds and Values\n",
    "\n",
    "3.2.1. What about values (reward) for different categories and rounds? Let's take a category, which has all 4 rounds - \"LITERARY CHARACTERS\" and find out. We have already seen values of the **\"Jeopardy\"** and **\"Double Jeopardy\"**, so let's inspect the other two.            "
   ]
  },
  {
   "cell_type": "code",
   "execution_count": 26,
   "metadata": {},
   "outputs": [
    {
     "data": {
      "text/html": [
       "<div>\n",
       "<style scoped>\n",
       "    .dataframe tbody tr th:only-of-type {\n",
       "        vertical-align: middle;\n",
       "    }\n",
       "\n",
       "    .dataframe tbody tr th {\n",
       "        vertical-align: top;\n",
       "    }\n",
       "\n",
       "    .dataframe thead th {\n",
       "        text-align: right;\n",
       "    }\n",
       "</style>\n",
       "<table border=\"1\" class=\"dataframe\">\n",
       "  <thead>\n",
       "    <tr style=\"text-align: right;\">\n",
       "      <th></th>\n",
       "      <th>show_number</th>\n",
       "      <th>air_date</th>\n",
       "      <th>round</th>\n",
       "      <th>category</th>\n",
       "      <th>value</th>\n",
       "      <th>question</th>\n",
       "      <th>answer</th>\n",
       "    </tr>\n",
       "  </thead>\n",
       "  <tbody>\n",
       "    <tr>\n",
       "      <th>55</th>\n",
       "      <td>4680</td>\n",
       "      <td>2004-12-31</td>\n",
       "      <td>Final Jeopardy!</td>\n",
       "      <td>THE SOLAR SYSTEM</td>\n",
       "      <td>NaN</td>\n",
       "      <td>Objects that pass closer to the sun than Mercury have been named for this mythological figure</td>\n",
       "      <td>Icarus</td>\n",
       "    </tr>\n",
       "    <tr>\n",
       "      <th>116</th>\n",
       "      <td>5957</td>\n",
       "      <td>2010-07-06</td>\n",
       "      <td>Final Jeopardy!</td>\n",
       "      <td>HISTORIC WOMEN</td>\n",
       "      <td>NaN</td>\n",
       "      <td>She was born in Virginia around 1596 &amp; died in Kent, England in 1617</td>\n",
       "      <td>Pocahontas</td>\n",
       "    </tr>\n",
       "    <tr>\n",
       "      <th>174</th>\n",
       "      <td>3751</td>\n",
       "      <td>2000-12-18</td>\n",
       "      <td>Final Jeopardy!</td>\n",
       "      <td>SPORTS LEGENDS</td>\n",
       "      <td>NaN</td>\n",
       "      <td>If Joe DiMaggio's hitting streak had gone one more game in 1941, this company would have given him a $10,000 contract</td>\n",
       "      <td>H.J. Heinz (Heinz 57 Varieties)</td>\n",
       "    </tr>\n",
       "    <tr>\n",
       "      <th>235</th>\n",
       "      <td>3673</td>\n",
       "      <td>2000-07-19</td>\n",
       "      <td>Final Jeopardy!</td>\n",
       "      <td>THE MAP OF EUROPE</td>\n",
       "      <td>NaN</td>\n",
       "      <td>Bordering Italy, Austria, Hungary &amp; Croatia, it's one of the world's newest independent countries</td>\n",
       "      <td>Slovenia</td>\n",
       "    </tr>\n",
       "    <tr>\n",
       "      <th>296</th>\n",
       "      <td>4931</td>\n",
       "      <td>2006-02-06</td>\n",
       "      <td>Final Jeopardy!</td>\n",
       "      <td>FAMOUS SHIPS</td>\n",
       "      <td>NaN</td>\n",
       "      <td>On December 27, 1831 it departed Plymouth, England to map the coastline of South America</td>\n",
       "      <td>the HMS Beagle</td>\n",
       "    </tr>\n",
       "  </tbody>\n",
       "</table>\n",
       "</div>"
      ],
      "text/plain": [
       "     show_number    air_date            round           category  value  \\\n",
       "55          4680  2004-12-31  Final Jeopardy!   THE SOLAR SYSTEM    NaN   \n",
       "116         5957  2010-07-06  Final Jeopardy!     HISTORIC WOMEN    NaN   \n",
       "174         3751  2000-12-18  Final Jeopardy!     SPORTS LEGENDS    NaN   \n",
       "235         3673  2000-07-19  Final Jeopardy!  THE MAP OF EUROPE    NaN   \n",
       "296         4931  2006-02-06  Final Jeopardy!       FAMOUS SHIPS    NaN   \n",
       "\n",
       "                                                                                                                  question  \\\n",
       "55                           Objects that pass closer to the sun than Mercury have been named for this mythological figure   \n",
       "116                                                   She was born in Virginia around 1596 & died in Kent, England in 1617   \n",
       "174  If Joe DiMaggio's hitting streak had gone one more game in 1941, this company would have given him a $10,000 contract   \n",
       "235                      Bordering Italy, Austria, Hungary & Croatia, it's one of the world's newest independent countries   \n",
       "296                               On December 27, 1831 it departed Plymouth, England to map the coastline of South America   \n",
       "\n",
       "                              answer  \n",
       "55                            Icarus  \n",
       "116                       Pocahontas  \n",
       "174  H.J. Heinz (Heinz 57 Varieties)  \n",
       "235                         Slovenia  \n",
       "296                   the HMS Beagle  "
      ]
     },
     "execution_count": 26,
     "metadata": {},
     "output_type": "execute_result"
    }
   ],
   "source": [
    "values_by_round = jeopardy[(jeopardy['round'] == 'Final Jeopardy!') | (jeopardy['round'] == 'Tiebreaker')]\n",
    "values_by_round.head(5)"
   ]
  },
  {
   "cell_type": "markdown",
   "metadata": {},
   "source": [
    "Is there anything besides `NaN` there? "
   ]
  },
  {
   "cell_type": "code",
   "execution_count": 27,
   "metadata": {},
   "outputs": [
    {
     "data": {
      "text/plain": [
       "array([nan])"
      ]
     },
     "execution_count": 27,
     "metadata": {},
     "output_type": "execute_result"
    }
   ],
   "source": [
    "values_by_round['value'].unique()"
   ]
  },
  {
   "cell_type": "markdown",
   "metadata": {},
   "source": [
    "So only **\"Jeopardy\"** and **\"Double Jeopardy\"** have some reward to offer. "
   ]
  },
  {
   "cell_type": "markdown",
   "metadata": {},
   "source": [
    "3.2.2. Let's check category with many questions in it, for instance our absolute champion in this field - **\"BEFORE & AFTER\"**, to see how reward is distributed depending on round and number of questions per round."
   ]
  },
  {
   "cell_type": "code",
   "execution_count": 28,
   "metadata": {},
   "outputs": [
    {
     "data": {
      "text/html": [
       "<div>\n",
       "<style scoped>\n",
       "    .dataframe tbody tr th:only-of-type {\n",
       "        vertical-align: middle;\n",
       "    }\n",
       "\n",
       "    .dataframe tbody tr th {\n",
       "        vertical-align: top;\n",
       "    }\n",
       "\n",
       "    .dataframe thead th {\n",
       "        text-align: right;\n",
       "    }\n",
       "</style>\n",
       "<table border=\"1\" class=\"dataframe\">\n",
       "  <thead>\n",
       "    <tr style=\"text-align: right;\">\n",
       "      <th></th>\n",
       "      <th>category</th>\n",
       "      <th>round</th>\n",
       "      <th>value</th>\n",
       "      <th>question_count</th>\n",
       "      <th>total</th>\n",
       "    </tr>\n",
       "  </thead>\n",
       "  <tbody>\n",
       "    <tr>\n",
       "      <th>2872315</th>\n",
       "      <td>BEFORE &amp; AFTER</td>\n",
       "      <td>Double Jeopardy!</td>\n",
       "      <td>400.0</td>\n",
       "      <td>91</td>\n",
       "      <td>547</td>\n",
       "    </tr>\n",
       "    <tr>\n",
       "      <th>2872323</th>\n",
       "      <td>BEFORE &amp; AFTER</td>\n",
       "      <td>Double Jeopardy!</td>\n",
       "      <td>800.0</td>\n",
       "      <td>86</td>\n",
       "      <td>547</td>\n",
       "    </tr>\n",
       "    <tr>\n",
       "      <th>2872350</th>\n",
       "      <td>BEFORE &amp; AFTER</td>\n",
       "      <td>Double Jeopardy!</td>\n",
       "      <td>2000.0</td>\n",
       "      <td>55</td>\n",
       "      <td>547</td>\n",
       "    </tr>\n",
       "    <tr>\n",
       "      <th>2872342</th>\n",
       "      <td>BEFORE &amp; AFTER</td>\n",
       "      <td>Double Jeopardy!</td>\n",
       "      <td>1600.0</td>\n",
       "      <td>53</td>\n",
       "      <td>547</td>\n",
       "    </tr>\n",
       "    <tr>\n",
       "      <th>2872330</th>\n",
       "      <td>BEFORE &amp; AFTER</td>\n",
       "      <td>Double Jeopardy!</td>\n",
       "      <td>1200.0</td>\n",
       "      <td>52</td>\n",
       "      <td>547</td>\n",
       "    </tr>\n",
       "    <tr>\n",
       "      <th>2872310</th>\n",
       "      <td>BEFORE &amp; AFTER</td>\n",
       "      <td>Double Jeopardy!</td>\n",
       "      <td>200.0</td>\n",
       "      <td>37</td>\n",
       "      <td>547</td>\n",
       "    </tr>\n",
       "    <tr>\n",
       "      <th>2872318</th>\n",
       "      <td>BEFORE &amp; AFTER</td>\n",
       "      <td>Double Jeopardy!</td>\n",
       "      <td>600.0</td>\n",
       "      <td>36</td>\n",
       "      <td>547</td>\n",
       "    </tr>\n",
       "    <tr>\n",
       "      <th>2872325</th>\n",
       "      <td>BEFORE &amp; AFTER</td>\n",
       "      <td>Double Jeopardy!</td>\n",
       "      <td>1000.0</td>\n",
       "      <td>33</td>\n",
       "      <td>547</td>\n",
       "    </tr>\n",
       "    <tr>\n",
       "      <th>2872165</th>\n",
       "      <td>BEFORE &amp; AFTER</td>\n",
       "      <td>Jeopardy!</td>\n",
       "      <td>200.0</td>\n",
       "      <td>21</td>\n",
       "      <td>547</td>\n",
       "    </tr>\n",
       "    <tr>\n",
       "      <th>2872170</th>\n",
       "      <td>BEFORE &amp; AFTER</td>\n",
       "      <td>Jeopardy!</td>\n",
       "      <td>400.0</td>\n",
       "      <td>18</td>\n",
       "      <td>547</td>\n",
       "    </tr>\n",
       "    <tr>\n",
       "      <th>2872164</th>\n",
       "      <td>BEFORE &amp; AFTER</td>\n",
       "      <td>Jeopardy!</td>\n",
       "      <td>100.0</td>\n",
       "      <td>12</td>\n",
       "      <td>547</td>\n",
       "    </tr>\n",
       "    <tr>\n",
       "      <th>2872167</th>\n",
       "      <td>BEFORE &amp; AFTER</td>\n",
       "      <td>Jeopardy!</td>\n",
       "      <td>300.0</td>\n",
       "      <td>10</td>\n",
       "      <td>547</td>\n",
       "    </tr>\n",
       "    <tr>\n",
       "      <th>2872180</th>\n",
       "      <td>BEFORE &amp; AFTER</td>\n",
       "      <td>Jeopardy!</td>\n",
       "      <td>1000.0</td>\n",
       "      <td>10</td>\n",
       "      <td>547</td>\n",
       "    </tr>\n",
       "    <tr>\n",
       "      <th>2872171</th>\n",
       "      <td>BEFORE &amp; AFTER</td>\n",
       "      <td>Jeopardy!</td>\n",
       "      <td>500.0</td>\n",
       "      <td>9</td>\n",
       "      <td>547</td>\n",
       "    </tr>\n",
       "    <tr>\n",
       "      <th>2872173</th>\n",
       "      <td>BEFORE &amp; AFTER</td>\n",
       "      <td>Jeopardy!</td>\n",
       "      <td>600.0</td>\n",
       "      <td>9</td>\n",
       "      <td>547</td>\n",
       "    </tr>\n",
       "    <tr>\n",
       "      <th>2872178</th>\n",
       "      <td>BEFORE &amp; AFTER</td>\n",
       "      <td>Jeopardy!</td>\n",
       "      <td>800.0</td>\n",
       "      <td>8</td>\n",
       "      <td>547</td>\n",
       "    </tr>\n",
       "    <tr>\n",
       "      <th>2872369</th>\n",
       "      <td>BEFORE &amp; AFTER</td>\n",
       "      <td>Double Jeopardy!</td>\n",
       "      <td>3000.0</td>\n",
       "      <td>4</td>\n",
       "      <td>547</td>\n",
       "    </tr>\n",
       "    <tr>\n",
       "      <th>2872385</th>\n",
       "      <td>BEFORE &amp; AFTER</td>\n",
       "      <td>Double Jeopardy!</td>\n",
       "      <td>4000.0</td>\n",
       "      <td>1</td>\n",
       "      <td>547</td>\n",
       "    </tr>\n",
       "    <tr>\n",
       "      <th>2872393</th>\n",
       "      <td>BEFORE &amp; AFTER</td>\n",
       "      <td>Double Jeopardy!</td>\n",
       "      <td>4600.0</td>\n",
       "      <td>1</td>\n",
       "      <td>547</td>\n",
       "    </tr>\n",
       "    <tr>\n",
       "      <th>2872397</th>\n",
       "      <td>BEFORE &amp; AFTER</td>\n",
       "      <td>Double Jeopardy!</td>\n",
       "      <td>5000.0</td>\n",
       "      <td>1</td>\n",
       "      <td>547</td>\n",
       "    </tr>\n",
       "  </tbody>\n",
       "</table>\n",
       "</div>"
      ],
      "text/plain": [
       "               category             round   value  question_count  total\n",
       "2872315  BEFORE & AFTER  Double Jeopardy!   400.0              91    547\n",
       "2872323  BEFORE & AFTER  Double Jeopardy!   800.0              86    547\n",
       "2872350  BEFORE & AFTER  Double Jeopardy!  2000.0              55    547\n",
       "2872342  BEFORE & AFTER  Double Jeopardy!  1600.0              53    547\n",
       "2872330  BEFORE & AFTER  Double Jeopardy!  1200.0              52    547\n",
       "2872310  BEFORE & AFTER  Double Jeopardy!   200.0              37    547\n",
       "2872318  BEFORE & AFTER  Double Jeopardy!   600.0              36    547\n",
       "2872325  BEFORE & AFTER  Double Jeopardy!  1000.0              33    547\n",
       "2872165  BEFORE & AFTER         Jeopardy!   200.0              21    547\n",
       "2872170  BEFORE & AFTER         Jeopardy!   400.0              18    547\n",
       "2872164  BEFORE & AFTER         Jeopardy!   100.0              12    547\n",
       "2872167  BEFORE & AFTER         Jeopardy!   300.0              10    547\n",
       "2872180  BEFORE & AFTER         Jeopardy!  1000.0              10    547\n",
       "2872171  BEFORE & AFTER         Jeopardy!   500.0               9    547\n",
       "2872173  BEFORE & AFTER         Jeopardy!   600.0               9    547\n",
       "2872178  BEFORE & AFTER         Jeopardy!   800.0               8    547\n",
       "2872369  BEFORE & AFTER  Double Jeopardy!  3000.0               4    547\n",
       "2872385  BEFORE & AFTER  Double Jeopardy!  4000.0               1    547\n",
       "2872393  BEFORE & AFTER  Double Jeopardy!  4600.0               1    547\n",
       "2872397  BEFORE & AFTER  Double Jeopardy!  5000.0               1    547"
      ]
     },
     "execution_count": 28,
     "metadata": {},
     "output_type": "execute_result"
    }
   ],
   "source": [
    "value_by_crq = jeopardy.groupby(['category', 'round', 'value']).question.count().reset_index(name='question_count')\n",
    "\n",
    "value_by_crq['total'] = value_by_crq.groupby('category').question_count.transform('sum')\n",
    "value_by_crq = value_by_crq.sort_values(['total', 'question_count'], ascending=[False, False])\n",
    "\n",
    "value_by_crq = value_by_crq[value_by_crq.question_count > 0 & value_by_crq['category'].isin(categories_in_multiple_rounds[categories_in_multiple_rounds['round'] > 3]['category'])]\n",
    "value_by_crq[value_by_crq.category == 'BEFORE & AFTER']\n"
   ]
  },
  {
   "cell_type": "markdown",
   "metadata": {},
   "source": [
    "The main tendency is clear: \n",
    "- The **\"Double Jeopardy\"** in most cases has a larger reward than **\"Jeopardy\"**;\n",
    "- The reward value is in inverse ratio to the number of questions.\n",
    "\n",
    "But there are nuanses that worth exploring. "
   ]
  },
  {
   "cell_type": "markdown",
   "metadata": {},
   "source": [
    "3.2.3. Let's find and print 10 categories with the maximum reward value. "
   ]
  },
  {
   "cell_type": "code",
   "execution_count": 31,
   "metadata": {},
   "outputs": [
    {
     "data": {
      "text/html": [
       "<div>\n",
       "<style scoped>\n",
       "    .dataframe tbody tr th:only-of-type {\n",
       "        vertical-align: middle;\n",
       "    }\n",
       "\n",
       "    .dataframe tbody tr th {\n",
       "        vertical-align: top;\n",
       "    }\n",
       "\n",
       "    .dataframe thead th {\n",
       "        text-align: right;\n",
       "    }\n",
       "</style>\n",
       "<table border=\"1\" class=\"dataframe\">\n",
       "  <thead>\n",
       "    <tr style=\"text-align: right;\">\n",
       "      <th></th>\n",
       "      <th>category</th>\n",
       "      <th>round</th>\n",
       "      <th>value</th>\n",
       "      <th>questions_count</th>\n",
       "      <th>total_value</th>\n",
       "    </tr>\n",
       "  </thead>\n",
       "  <tbody>\n",
       "    <tr>\n",
       "      <th>8007769</th>\n",
       "      <td>LANGUAGES</td>\n",
       "      <td>Double Jeopardy!</td>\n",
       "      <td>18000.0</td>\n",
       "      <td>1</td>\n",
       "      <td>2627940.0</td>\n",
       "    </tr>\n",
       "    <tr>\n",
       "      <th>10607328</th>\n",
       "      <td>PLUS 8</td>\n",
       "      <td>Double Jeopardy!</td>\n",
       "      <td>16400.0</td>\n",
       "      <td>1</td>\n",
       "      <td>2627940.0</td>\n",
       "    </tr>\n",
       "    <tr>\n",
       "      <th>8987</th>\n",
       "      <td>\"A\" IN MATH</td>\n",
       "      <td>Double Jeopardy!</td>\n",
       "      <td>14200.0</td>\n",
       "      <td>1</td>\n",
       "      <td>2627940.0</td>\n",
       "    </tr>\n",
       "    <tr>\n",
       "      <th>11490086</th>\n",
       "      <td>SAINTS ON THE MAP</td>\n",
       "      <td>Double Jeopardy!</td>\n",
       "      <td>14000.0</td>\n",
       "      <td>1</td>\n",
       "      <td>2627940.0</td>\n",
       "    </tr>\n",
       "    <tr>\n",
       "      <th>11210525</th>\n",
       "      <td>REMEMBERING TED KENNEDY</td>\n",
       "      <td>Double Jeopardy!</td>\n",
       "      <td>13800.0</td>\n",
       "      <td>1</td>\n",
       "      <td>2627940.0</td>\n",
       "    </tr>\n",
       "    <tr>\n",
       "      <th>9407884</th>\n",
       "      <td>NAMES FROM THE GERMAN</td>\n",
       "      <td>Double Jeopardy!</td>\n",
       "      <td>13200.0</td>\n",
       "      <td>1</td>\n",
       "      <td>2627940.0</td>\n",
       "    </tr>\n",
       "    <tr>\n",
       "      <th>5541603</th>\n",
       "      <td>FIRST LADIES</td>\n",
       "      <td>Double Jeopardy!</td>\n",
       "      <td>13000.0</td>\n",
       "      <td>1</td>\n",
       "      <td>2627940.0</td>\n",
       "    </tr>\n",
       "    <tr>\n",
       "      <th>6970723</th>\n",
       "      <td>HUMPHREY BOGART MOVIES</td>\n",
       "      <td>Double Jeopardy!</td>\n",
       "      <td>13000.0</td>\n",
       "      <td>1</td>\n",
       "      <td>2627940.0</td>\n",
       "    </tr>\n",
       "    <tr>\n",
       "      <th>9793583</th>\n",
       "      <td>NUMERIC PLACES</td>\n",
       "      <td>Double Jeopardy!</td>\n",
       "      <td>13000.0</td>\n",
       "      <td>1</td>\n",
       "      <td>2627940.0</td>\n",
       "    </tr>\n",
       "    <tr>\n",
       "      <th>4971462</th>\n",
       "      <td>ELEMENTAL CLUES</td>\n",
       "      <td>Double Jeopardy!</td>\n",
       "      <td>12400.0</td>\n",
       "      <td>1</td>\n",
       "      <td>2627940.0</td>\n",
       "    </tr>\n",
       "  </tbody>\n",
       "</table>\n",
       "</div>"
      ],
      "text/plain": [
       "                         category             round    value  questions_count  \\\n",
       "8007769                 LANGUAGES  Double Jeopardy!  18000.0                1   \n",
       "10607328                   PLUS 8  Double Jeopardy!  16400.0                1   \n",
       "8987                  \"A\" IN MATH  Double Jeopardy!  14200.0                1   \n",
       "11490086        SAINTS ON THE MAP  Double Jeopardy!  14000.0                1   \n",
       "11210525  REMEMBERING TED KENNEDY  Double Jeopardy!  13800.0                1   \n",
       "9407884     NAMES FROM THE GERMAN  Double Jeopardy!  13200.0                1   \n",
       "5541603              FIRST LADIES  Double Jeopardy!  13000.0                1   \n",
       "6970723    HUMPHREY BOGART MOVIES  Double Jeopardy!  13000.0                1   \n",
       "9793583            NUMERIC PLACES  Double Jeopardy!  13000.0                1   \n",
       "4971462           ELEMENTAL CLUES  Double Jeopardy!  12400.0                1   \n",
       "\n",
       "          total_value  \n",
       "8007769     2627940.0  \n",
       "10607328    2627940.0  \n",
       "8987        2627940.0  \n",
       "11490086    2627940.0  \n",
       "11210525    2627940.0  \n",
       "9407884     2627940.0  \n",
       "5541603     2627940.0  \n",
       "6970723     2627940.0  \n",
       "9793583     2627940.0  \n",
       "4971462     2627940.0  "
      ]
     },
     "execution_count": 31,
     "metadata": {},
     "output_type": "execute_result"
    }
   ],
   "source": [
    "category_by_value = jeopardy.groupby(['category', 'round', 'value']).question.count().reset_index(name='questions_count')\n",
    "category_by_value['total_value'] = category_by_value.groupby('category').value.transform('sum')\n",
    "category_by_value = category_by_value.sort_values(['total_value', 'value'], ascending=[False, False])\n",
    "category_by_value = category_by_value[category_by_value.questions_count > 0]\n",
    "\n",
    "category_by_value.head(10)"
   ]
  },
  {
   "cell_type": "markdown",
   "metadata": {},
   "source": [
    "Seems that our leader here is **\"Languages\"** category which has one mind blowing question worth 18 thousand of dollars. "
   ]
  },
  {
   "cell_type": "markdown",
   "metadata": {},
   "source": [
    "## Conclusion\n",
    "\n",
    "We've investigated and cleaned a bit the \"Jeopardy\" dataset and have written some custom functions which use aggregate methods within them to find some interesting insights: that **\"William the Conqueror\"** is, apparently, the most popular monarch to ask questions about. "
   ]
  }
 ],
 "metadata": {
  "interpreter": {
   "hash": "7836a9483238820c2898d47b3e9b184c638aad228733b35228ced2f19c03f12e"
  },
  "kernelspec": {
   "display_name": "Python 3.10.4 64-bit (windows store)",
   "language": "python",
   "name": "python3"
  },
  "language_info": {
   "codemirror_mode": {
    "name": "ipython",
    "version": 3
   },
   "file_extension": ".py",
   "mimetype": "text/x-python",
   "name": "python",
   "nbconvert_exporter": "python",
   "pygments_lexer": "ipython3",
   "version": "3.10.4"
  },
  "orig_nbformat": 4
 },
 "nbformat": 4,
 "nbformat_minor": 2
}
