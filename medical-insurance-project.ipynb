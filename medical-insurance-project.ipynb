{
 "cells": [
  {
   "cell_type": "markdown",
   "metadata": {},
   "source": [
    "# U.S. Medical Insurance Costs\n",
    "\n",
    "The goal of this project is to analyze various attributes within **insurance.csv** to learn more about the patient information in the file and gain insight into potential use cases for the dataset.\n",
    "\n",
    "The analysis consists of the following objectives:\n",
    "\n",
    "1. Range age groups from the dominant to the rare.  \n",
    "    - Determine the gender proportion in general and by age groups.\n",
    "    - Find the age of the youngest representatives and the oldest.\n",
    "2. Find out if bmi correlates with:\n",
    "    - age or gender;\n",
    "    - with smoking;\n",
    "    - with at least one child.\n",
    "3. Find out how the price of insurance changes depending on:\n",
    "    - smoking;\n",
    "    - the presence of children;\n",
    "    - bmi;\n",
    "    - age.\n",
    "4. Range regional groups from the dominant to the rare.  \n",
    "5. Find out if there are regions where there are statistically more:\n",
    "    - people who smoke;\n",
    "    - people who have more than 1 child.\n"
   ]
  },
  {
   "cell_type": "markdown",
   "metadata": {},
   "source": [
    "To implement these objectives one should import and read the insurance.csv, and put it in a list for further usage."
   ]
  },
  {
   "cell_type": "code",
   "execution_count": 170,
   "metadata": {},
   "outputs": [],
   "source": [
    "import csv\n",
    "\n",
    "users_list = []\n",
    "with open('insurance.csv', newline = '') as users_csv:\n",
    "    user_reader = csv.DictReader(users_csv)\n",
    "    for user in user_reader:\n",
    "        user['age'] = int(user['age']) \n",
    "        user['bmi'] = float(user['bmi'])\n",
    "        user['children'] = int(user['children'])\n",
    "        user['charges'] = float(user['charges'])\n",
    "        user['smoker'] = user['smoker'] == 'yes'\n",
    "        users_list.append(user)\n"
   ]
  },
  {
   "cell_type": "markdown",
   "metadata": {},
   "source": [
    "### 1. Range age groups from the dominant to the rare \n",
    "\n",
    "#### Steps:\n",
    "\n",
    "1.1. Create generalized age groups:\n",
    "* 18 - 25;\n",
    "* 26 - 30;\n",
    "* 31 - 45;\n",
    "* 46 - 60;\n",
    "* 61 - 75;\n",
    "* 76 and older.\n"
   ]
  },
  {
   "cell_type": "code",
   "execution_count": 171,
   "metadata": {},
   "outputs": [],
   "source": [
    "age_groups = {\n",
    "    '18-25': {\n",
    "        'male': 0,\n",
    "        'female': 0,\n",
    "        'total': 0\n",
    "    },\n",
    "    '26-30': {\n",
    "        'male': 0,\n",
    "        'female': 0,\n",
    "        'total': 0\n",
    "    },    \n",
    "    '31-45': {\n",
    "        'male': 0,\n",
    "        'female': 0,\n",
    "        'total': 0\n",
    "    }, \n",
    "    '46-60': {\n",
    "        'male': 0,\n",
    "        'female': 0,\n",
    "        'total': 0\n",
    "    }, \n",
    "    '61-75': {\n",
    "        'male': 0,\n",
    "        'female': 0,\n",
    "        'total': 0\n",
    "    }, \n",
    "    '76 +': {\n",
    "        'male': 0,\n",
    "        'female': 0,\n",
    "        'total': 0\n",
    "    } \n",
    "}"
   ]
  },
  {
   "cell_type": "markdown",
   "metadata": {},
   "source": [
    "1.2. Put representatives' data points in corresponding age groups and determine gender proportion in each of the age groups."
   ]
  },
  {
   "cell_type": "code",
   "execution_count": 172,
   "metadata": {},
   "outputs": [
    {
     "data": {
      "text/plain": [
       "{'18-25': {'male': 159, 'female': 147, 'total': 306},\n",
       " '26-30': {'male': 71, 'female': 67, 'total': 138},\n",
       " '31-45': {'male': 199, 'female': 195, 'total': 394},\n",
       " '46-60': {'male': 203, 'female': 206, 'total': 409},\n",
       " '61-75': {'male': 44, 'female': 47, 'total': 91},\n",
       " '76 +': {'male': 0, 'female': 0, 'total': 0}}"
      ]
     },
     "execution_count": 172,
     "metadata": {},
     "output_type": "execute_result"
    }
   ],
   "source": [
    "\n",
    "for user in users_list:\n",
    "    age = user['age']\n",
    "    sex = user['sex']\n",
    "    if age >= 18 and age <= 25:\n",
    "        age_groups['18-25']['total'] += 1\n",
    "        age_groups['18-25'][sex] += 1\n",
    "    elif age >= 26 and age <= 30:\n",
    "        age_groups['26-30']['total'] += 1\n",
    "        age_groups['26-30'][sex] += 1\n",
    "    elif age >= 31 and age <= 45:\n",
    "        age_groups['31-45']['total'] += 1\n",
    "        age_groups['31-45'][sex] += 1\n",
    "    elif age >= 46 and age <= 60:\n",
    "        age_groups['46-60']['total'] += 1\n",
    "        age_groups['46-60'][sex] += 1\n",
    "    elif age >= 61 and age <= 75:\n",
    "        age_groups['61-75']['total'] += 1\n",
    "        age_groups['61-75'][sex] += 1\n",
    "    elif age >= 76:\n",
    "        age_groups['76 +']['total'] += 1\n",
    "        age_groups['76 +'][sex] += 1\n",
    "age_groups"
   ]
  },
  {
   "cell_type": "markdown",
   "metadata": {},
   "source": [
    "1.3. Сonvert gender distribution to percentages."
   ]
  },
  {
   "cell_type": "code",
   "execution_count": 173,
   "metadata": {},
   "outputs": [
    {
     "data": {
      "text/plain": [
       "{'18-25': {'male': 52, 'female': 48, 'diff': 4},\n",
       " '26-30': {'male': 51, 'female': 49, 'diff': 2},\n",
       " '31-45': {'male': 51, 'female': 49, 'diff': 2},\n",
       " '46-60': {'male': 50, 'female': 50, 'diff': 0},\n",
       " '61-75': {'male': 48, 'female': 52, 'diff': 4},\n",
       " '76 +': {'male': 0, 'female': 0, 'diff': 0}}"
      ]
     },
     "execution_count": 173,
     "metadata": {},
     "output_type": "execute_result"
    }
   ],
   "source": [
    "def percentage_calc(part, whole):\n",
    "    if whole == 0:\n",
    "        return 0\n",
    "    percentage = round(100 * part/whole)\n",
    "    return percentage\n",
    "\n",
    "def age_groups_in_percents(list):\n",
    "    age_groups_in_perc = {\n",
    "        '18-25': {\n",
    "            'male': 0,\n",
    "            'female': 0,\n",
    "            'diff': 0\n",
    "        },\n",
    "        '26-30': {\n",
    "            'male': 0,\n",
    "            'female': 0,\n",
    "            'diff': 0\n",
    "        },    \n",
    "        '31-45': {\n",
    "            'male': 0,\n",
    "            'female': 0,\n",
    "            'diff': 0\n",
    "        }, \n",
    "        '46-60': {\n",
    "            'male': 0,\n",
    "            'female': 0,\n",
    "            'diff': 0    \n",
    "        }, \n",
    "        '61-75': {\n",
    "            'male': 0,\n",
    "            'female': 0,\n",
    "            'diff': 0\n",
    "        }, \n",
    "        '76 +': {\n",
    "            'male': 0,\n",
    "            'female': 0,\n",
    "            'diff': 0\n",
    "        } \n",
    "    }\n",
    "    for key, value in age_groups.items():\n",
    "        age_groups_in_perc[key]['male'] = percentage_calc(value['male'], value['total'])\n",
    "        age_groups_in_perc[key]['female'] = percentage_calc(value['female'], value['total'])\n",
    "        age_groups_in_perc[key]['diff'] = abs(age_groups_in_perc[key]['male'] - age_groups_in_perc[key]['female'])\n",
    "    return age_groups_in_perc\n",
    "\n",
    "\n",
    "\n",
    "\n",
    "age_groups_in_percents(age_groups)"
   ]
  },
  {
   "cell_type": "markdown",
   "metadata": {},
   "source": [
    "1.4. Determine general gender proportion in numbers and percentages. "
   ]
  },
  {
   "cell_type": "code",
   "execution_count": 174,
   "metadata": {},
   "outputs": [
    {
     "name": "stdout",
     "output_type": "stream",
     "text": [
      "51\n",
      "49\n"
     ]
    }
   ],
   "source": [
    "total_n_males = 0\n",
    "total_n_females = 0\n",
    "for value in age_groups.values():\n",
    "    total_n_males += value['male']\n",
    "for value in age_groups.values():\n",
    "    total_n_females += value['female']\n",
    "\n",
    "total_n_users = total_n_females + total_n_males\n",
    "\n",
    "print(percentage_calc(total_n_males, total_n_users))\n",
    "print(percentage_calc(total_n_females, total_n_users))"
   ]
  },
  {
   "cell_type": "markdown",
   "metadata": {},
   "source": [
    "\n",
    "1.4. Show gender and age distribution on a graph.\n"
   ]
  },
  {
   "cell_type": "code",
   "execution_count": 175,
   "metadata": {},
   "outputs": [
    {
     "data": {
      "image/png": "[encoded data removed]",
      "text/plain": [
       "<Figure size 1008x720 with 1 Axes>"
      ]
     },
     "metadata": {
      "needs_background": "light"
     },
     "output_type": "display_data"
    }
   ],
   "source": [
    "import matplotlib.pyplot as plt\n",
    "\n",
    "labels = age_groups.keys()\n",
    "men_ages = [value['male'] for value in age_groups.values()]\n",
    "women_ages = [value['female'] for value in age_groups.values()]\n",
    "width = 0.60       # the width of the bars: can also be len(x) sequence\n",
    "\n",
    "fig, ax = plt.subplots(figsize=(14, 10))\n",
    "\n",
    "ax.bar(labels, men_ages, width, label='Men')\n",
    "ax.bar(labels, women_ages, width, bottom=men_ages,\n",
    "       label='Women')\n",
    "\n",
    "ax.set_ylabel('Scores')\n",
    "ax.set_title('Scores by group and gender')\n",
    "ax.legend()\n",
    "\n",
    "plt.show()\n"
   ]
  },
  {
   "cell_type": "markdown",
   "metadata": {},
   "source": [
    "1.5. Find the age of the youngest representatives and the oldest."
   ]
  },
  {
   "cell_type": "code",
   "execution_count": 176,
   "metadata": {},
   "outputs": [
    {
     "name": "stdout",
     "output_type": "stream",
     "text": [
      "{'18-25': {'male': 159, 'female': 147, 'total': 306}, '26-30': {'male': 71, 'female': 67, 'total': 138}, '31-45': {'male': 199, 'female': 195, 'total': 394}, '46-60': {'male': 203, 'female': 206, 'total': 409}, '61-75': {'male': 44, 'female': 47, 'total': 91}, '76 +': {'male': 0, 'female': 0, 'total': 0}}\n"
     ]
    },
    {
     "data": {
      "text/plain": [
       "{'18-25': {'male': 52, 'female': 48, 'diff': 4},\n",
       " '26-30': {'male': 51, 'female': 49, 'diff': 2},\n",
       " '31-45': {'male': 51, 'female': 49, 'diff': 2},\n",
       " '46-60': {'male': 50, 'female': 50, 'diff': 0},\n",
       " '61-75': {'male': 48, 'female': 52, 'diff': 4},\n",
       " '76 +': {'male': 0, 'female': 0, 'diff': 0}}"
      ]
     },
     "execution_count": 176,
     "metadata": {},
     "output_type": "execute_result"
    }
   ],
   "source": [
    "ages_list = [user['age'] for user in users_list]\n",
    "youngest = min(ages_list)\n",
    "oldest = max(ages_list)\n",
    "youngest, oldest\n",
    "\n",
    "print(age_groups)\n",
    "age_groups_in_percents(age_groups)\n"
   ]
  },
  {
   "cell_type": "markdown",
   "metadata": {},
   "source": [
    "#### Conclusion: \n",
    "- 2 age groups from `31 to 45` and from `46 to 60` are the most represented, they contain `394` and `409` people, respectively. Among the group aged `31 to 45` 2% more males, in the second group genders are represented equally.\n",
    "- Next is the youth from `18 to 25` with the number of people `306`.\n",
    "- Least of all people presented in the age groups from `61 to 75` and from `26 to 31` — `91` and `138` people.\n",
    "- There are no people over `75` years. \n",
    "- The youngest representatives are `18` years old.\n",
    "- The oldest are `64`."
   ]
  },
  {
   "cell_type": "markdown",
   "metadata": {},
   "source": []
  }
 ],
 "metadata": {
  "interpreter": {
   "hash": "160a818681411a8002335ee858b919729529a414da382d51992e56b23a3c20b1"
  },
  "kernelspec": {
   "display_name": "Python 3.8.8 64-bit ('base': conda)",
   "language": "python",
   "name": "python3"
  },
  "language_info": {
   "codemirror_mode": {
    "name": "ipython",
    "version": 3
   },
   "file_extension": ".py",
   "mimetype": "text/x-python",
   "name": "python",
   "nbconvert_exporter": "python",
   "pygments_lexer": "ipython3",
   "version": "3.8.8"
  },
  "orig_nbformat": 4
 },
 "nbformat": 4,
 "nbformat_minor": 2
}
