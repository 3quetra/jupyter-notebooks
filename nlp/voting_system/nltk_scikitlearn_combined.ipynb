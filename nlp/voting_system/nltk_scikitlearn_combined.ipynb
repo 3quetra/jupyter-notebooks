{
 "cells": [
  {
   "cell_type": "markdown",
   "metadata": {},
   "source": [
    "# Voting System\n",
    "\n",
    "The goal of this project is to combine Naive Bayes algorithm from `nltk` and similar algorithms from `scikit-learn` to create a voting system to increase accuracy and reliability of the end confidence percentages of the movie review classification. The training and testing will be done on the Movie Reviews corpora from `nltk.corpus`.\n",
    "\n",
    "Note: We will also use `pickle` to save the trained classifiers and sets to reduce the running time."
   ]
  },
  {
   "cell_type": "code",
   "execution_count": 101,
   "metadata": {},
   "outputs": [],
   "source": [
    "import nltk\n",
    "import random\n",
    "import pickle\n",
    "import os\n",
    "\n",
    "from nltk.classify.scikitlearn import SklearnClassifier\n",
    "from sklearn.naive_bayes import MultinomialNB, BernoulliNB\n",
    "from sklearn.linear_model import LogisticRegression, SGDClassifier\n",
    "from sklearn.svm import SVC, LinearSVC, NuSVC\n",
    "\n",
    "from nltk.classify import ClassifierI\n",
    "from statistics import mode\n",
    "\n",
    "from nltk.corpus import movie_reviews\n",
    "\n",
    "\n",
    "def pickle_object(classifier, file_path):\n",
    "    with open(file_path, 'wb') as f:\n",
    "        # Take contents of trained classifier and put it to the new file   \n",
    "        pickle.dump(classifier, f)\n",
    "\n",
    "def unpickle_object(file_path):\n",
    "    if not os.path.isfile(file_path):\n",
    "        return None\n",
    "    with open(file_path, 'rb') as f:\n",
    "        # Get trained classifier to work with it\n",
    "        return pickle.load(f)\n",
    "\n",
    "\n",
    "\n",
    "# Load sets from serialised files\n",
    "training_sets = unpickle_object('training_sets.pickle')\n",
    "testing_sets = unpickle_object('testing_sets.pickle')\n",
    "\n",
    "# Load classifiers from serialised files\n",
    "naive_bayes_classifier = unpickle_object('naivebayes.pickle')\n",
    "MultinomialNB_classifier = unpickle_object('multinomialnb.pickle')\n",
    "BernoulliNB_classifier = unpickle_object('bernoullinb.pickle')\n",
    "LogisticRegression_classifier = unpickle_object('logistic_regression.pickle')\n",
    "SGDClassifier_classifier = unpickle_object('sgd_classifier.pickle')\n",
    "SVC_classifier = unpickle_object('svc_classifier.pickle')\n",
    "LinearSVC_classifier = unpickle_object('linear_svc_classifier.pickle')\n",
    "NuSVC_classifier = unpickle_object('nu_svc_classifier.pickle')\n",
    "\n",
    "\n",
    "# Upload and prepare training and testing sets if not done yet\n",
    "if training_sets is None or testing_sets is None:\n",
    "    def reviews_words_lists(movie_reviews):\n",
    "        reviews_list = []\n",
    "        for category in movie_reviews.categories():\n",
    "            for file_id in movie_reviews.fileids(category):\n",
    "                reviews_list.append((list(movie_reviews.words(file_id)), category))\n",
    "        return reviews_list\n",
    "\n",
    "    # Get words from each review in separate lists marked by category\n",
    "    documents = reviews_words_lists(movie_reviews)\n",
    "\n",
    "    # Randomise review lists to mix positive and negative \n",
    "    random.shuffle(documents)\n",
    "\n",
    "    # Get all words from all reviews & make them lower case\n",
    "    all_words = [word.lower() for word in movie_reviews.words()]\n",
    "\n",
    "    # Count number of occurances for each word and sort in desc. order\n",
    "    all_words = nltk.FreqDist(all_words)\n",
    "\n",
    "    # Take 3000 most common from all available words\n",
    "    word_features = [w[0] for w in all_words.most_common(3000)]\n",
    "\n",
    "    def find_features(document, word_features):\n",
    "        words = set(document)\n",
    "        features = {}\n",
    "        for word in word_features:\n",
    "            features[word] = word in words\n",
    "        return features\n",
    "\n",
    "    # Mark whether or not each word in all reviews is also in the list of 3000 most common words\n",
    "    feature_sets = [(find_features(rev, word_features), category) for (rev, category) in documents]\n",
    "\n",
    "    # Shuffled training set\n",
    "    training_sets = feature_sets[:1900]\n",
    "    # Shuffled testing set\n",
    "    testing_sets = feature_sets[1900:]\n",
    "\n",
    "\n",
    "    # Serialise shuffled training set \n",
    "    pickle_object(training_sets, 'training_sets.pickle')\n",
    "    # Serialise shuffled testing set \n",
    "    pickle_object(testing_sets, 'testing_sets.pickle')\n",
    "\n",
    "\n",
    "if naive_bayes_classifier is None:\n",
    "    # Train classifier on training sets\n",
    "    naive_bayes_classifier = nltk.NaiveBayesClassifier.train(training_sets)\n",
    "    # Serialise classifier\n",
    "    pickle_object(naive_bayes_classifier, 'naivebayes.pickle')\n",
    "\n",
    "if MultinomialNB_classifier is None:\n",
    "    MultinomialNB_classifier = SklearnClassifier(MultinomialNB())\n",
    "    # Train classifier on training sets\n",
    "    MultinomialNB_classifier.train(training_sets)\n",
    "    # Serialise classifier\n",
    "    pickle_object(MultinomialNB_classifier, 'multinomialnb.pickle')\n",
    "\n",
    "if BernoulliNB_classifier is None:\n",
    "    BernoulliNB_classifier = SklearnClassifier(BernoulliNB())\n",
    "    # Train classifier on training sets\n",
    "    BernoulliNB_classifier.train(training_sets)\n",
    "    # Serialise classifier\n",
    "    pickle_object(BernoulliNB_classifier, 'bernoullinb.pickle')\n",
    "\n",
    "if LogisticRegression_classifier is None:\n",
    "    LogisticRegression_classifier = SklearnClassifier(LogisticRegression())\n",
    "    # Train classifier on training sets\n",
    "    LogisticRegression_classifier.train(training_sets)\n",
    "    # Serialise classifier\n",
    "    pickle_object(LogisticRegression_classifier, 'logistic_regression.pickle')\n",
    "\n",
    "if SGDClassifier_classifier is None:\n",
    "    SGDClassifier_classifier = SklearnClassifier(SGDClassifier())\n",
    "    # Train classifier on training sets\n",
    "    SGDClassifier_classifier.train(training_sets)\n",
    "    # Serialise classifier\n",
    "    pickle_object(SGDClassifier_classifier, 'sgd_classifier.pickle')\n",
    "\n",
    "\n",
    "if SVC_classifier is None:\n",
    "    SVC_classifier = SklearnClassifier(SVC())\n",
    "    # Train classifier on training sets\n",
    "    SVC_classifier.train(training_sets)\n",
    "    # Serialise classifier\n",
    "    pickle_object(SVC_classifier, 'svc_classifier.pickle')\n",
    "\n",
    "if LinearSVC_classifier is None:\n",
    "    LinearSVC_classifier = SklearnClassifier(LinearSVC())\n",
    "    # Train classifier on training sets\n",
    "    LinearSVC_classifier.train(training_sets)\n",
    "    # Serialise classifier\n",
    "    pickle_object(LinearSVC_classifier, 'linear_svc_classifier.pickle')\n",
    "\n",
    "if NuSVC_classifier is None:\n",
    "    NuSVC_classifier = SklearnClassifier(NuSVC())\n",
    "    # Train classifier on training sets\n",
    "    NuSVC_classifier.train(training_sets)\n",
    "    # Serialise classifier\n",
    "    pickle_object(NuSVC_classifier, 'nu_svc_classifier.pickle')\n",
    "\n",
    "\n"
   ]
  },
  {
   "cell_type": "markdown",
   "metadata": {},
   "source": [
    "We've uploaded processed and serialised training and testing datasets, as well as trained and serialised classifiers. Let's check their accuracy percentages at this point. "
   ]
  },
  {
   "cell_type": "code",
   "execution_count": 102,
   "metadata": {},
   "outputs": [
    {
     "data": {
      "text/plain": [
       "86.0"
      ]
     },
     "execution_count": 102,
     "metadata": {},
     "output_type": "execute_result"
    }
   ],
   "source": [
    "# Get Naive Bayes classifier from nltk accuracy on testing sets\n",
    "nltk.classify.accuracy(naive_bayes_classifier, testing_sets)*100"
   ]
  },
  {
   "cell_type": "code",
   "execution_count": 103,
   "metadata": {},
   "outputs": [
    {
     "data": {
      "text/plain": [
       "85.0"
      ]
     },
     "execution_count": 103,
     "metadata": {},
     "output_type": "execute_result"
    }
   ],
   "source": [
    "# Get accuracy on testing sets of MultinomialNB_classifier from sklearn \n",
    "nltk.classify.accuracy(MultinomialNB_classifier, testing_sets)*100"
   ]
  },
  {
   "cell_type": "code",
   "execution_count": 104,
   "metadata": {},
   "outputs": [
    {
     "data": {
      "text/plain": [
       "86.0"
      ]
     },
     "execution_count": 104,
     "metadata": {},
     "output_type": "execute_result"
    }
   ],
   "source": [
    "# Get accuracy on testing sets of BernoulliNB_classifier from sklearn \n",
    "nltk.classify.accuracy(BernoulliNB_classifier, testing_sets)*100"
   ]
  },
  {
   "cell_type": "code",
   "execution_count": 105,
   "metadata": {},
   "outputs": [
    {
     "data": {
      "text/plain": [
       "82.0"
      ]
     },
     "execution_count": 105,
     "metadata": {},
     "output_type": "execute_result"
    }
   ],
   "source": [
    "# Get accuracy on testing sets of LogisticRegression_classifier from sklearn \n",
    "nltk.classify.accuracy(LogisticRegression_classifier, testing_sets)*100"
   ]
  },
  {
   "cell_type": "code",
   "execution_count": 106,
   "metadata": {},
   "outputs": [
    {
     "data": {
      "text/plain": [
       "81.0"
      ]
     },
     "execution_count": 106,
     "metadata": {},
     "output_type": "execute_result"
    }
   ],
   "source": [
    "# Get accuracy on testing sets of SGDClassifier_classifier from sklearn \n",
    "nltk.classify.accuracy(SGDClassifier_classifier, testing_sets)*100"
   ]
  },
  {
   "cell_type": "code",
   "execution_count": 107,
   "metadata": {},
   "outputs": [
    {
     "data": {
      "text/plain": [
       "86.0"
      ]
     },
     "execution_count": 107,
     "metadata": {},
     "output_type": "execute_result"
    }
   ],
   "source": [
    "# Get accuracy on testing sets of SVC_classifier from sklearn \n",
    "nltk.classify.accuracy(SVC_classifier, testing_sets)*100"
   ]
  },
  {
   "cell_type": "code",
   "execution_count": 108,
   "metadata": {},
   "outputs": [
    {
     "data": {
      "text/plain": [
       "76.0"
      ]
     },
     "execution_count": 108,
     "metadata": {},
     "output_type": "execute_result"
    }
   ],
   "source": [
    "# Get accuracy on testing sets of LinearSVC_classifier from sklearn \n",
    "nltk.classify.accuracy(LinearSVC_classifier, testing_sets)*100"
   ]
  },
  {
   "cell_type": "code",
   "execution_count": 109,
   "metadata": {},
   "outputs": [
    {
     "data": {
      "text/plain": [
       "84.0"
      ]
     },
     "execution_count": 109,
     "metadata": {},
     "output_type": "execute_result"
    }
   ],
   "source": [
    "# Get accuracy on testing sets of NuSVC_classifier from sklearn \n",
    "nltk.classify.accuracy(NuSVC_classifier, testing_sets)*100"
   ]
  },
  {
   "cell_type": "markdown",
   "metadata": {},
   "source": [
    "On a selected part of shuffled dataset all algorithms are doing fairly well. Now let's create a voting system for all classifiers."
   ]
  },
  {
   "cell_type": "code",
   "execution_count": 110,
   "metadata": {},
   "outputs": [],
   "source": [
    "class VoteClassifier(ClassifierI):\n",
    "    def __init__(self, *classifiers):\n",
    "        self._classifiers = classifiers\n",
    "\n",
    "    def classify(self, features):\n",
    "        votes = []\n",
    "        for c in self._classifiers:\n",
    "            v = c.classify(features)\n",
    "            votes.append(v)\n",
    "        return mode(votes)\n",
    "    \n",
    "    def confidence(self, features):\n",
    "        votes = []\n",
    "        for c in self._classifiers:\n",
    "            v = c.classify(features)\n",
    "            votes.append(v)\n",
    "        chosen_votes = votes.count(mode(votes))\n",
    "        conf = chosen_votes / len(votes)\n",
    "        return conf\n",
    "\n",
    "voted_classifier = VoteClassifier(\n",
    "    naive_bayes_classifier,\n",
    "    MultinomialNB_classifier,\n",
    "    BernoulliNB_classifier,\n",
    "    LogisticRegression_classifier, \n",
    "    SGDClassifier_classifier,\n",
    "    SVC_classifier,\n",
    "    LinearSVC_classifier,\n",
    "    NuSVC_classifier\n",
    "    )"
   ]
  },
  {
   "cell_type": "markdown",
   "metadata": {},
   "source": [
    "Let's check accuracy of the voting system."
   ]
  },
  {
   "cell_type": "code",
   "execution_count": 111,
   "metadata": {},
   "outputs": [
    {
     "data": {
      "text/plain": [
       "86.0"
      ]
     },
     "execution_count": 111,
     "metadata": {},
     "output_type": "execute_result"
    }
   ],
   "source": [
    "nltk.classify.accuracy(voted_classifier, testing_sets)*100"
   ]
  },
  {
   "cell_type": "markdown",
   "metadata": {},
   "source": [
    "Now we are going to run through our voting system several reviews to get their particular classification and confidence percentages. "
   ]
  },
  {
   "cell_type": "code",
   "execution_count": 112,
   "metadata": {},
   "outputs": [
    {
     "name": "stdout",
     "output_type": "stream",
     "text": [
      "Classification of the review #20: neg\n",
      "Confidence in %: 87.5\n",
      "--------\n",
      "Classification of the review #21: pos\n",
      "Confidence in %: 100.0\n",
      "--------\n",
      "Classification of the review #22: pos\n",
      "Confidence in %: 100.0\n",
      "--------\n",
      "Classification of the review #23: neg\n",
      "Confidence in %: 87.5\n",
      "--------\n",
      "Classification of the review #24: neg\n",
      "Confidence in %: 100.0\n",
      "--------\n",
      "Classification of the review #25: neg\n",
      "Confidence in %: 100.0\n",
      "--------\n",
      "Classification of the review #26: pos\n",
      "Confidence in %: 100.0\n",
      "--------\n",
      "Classification of the review #27: neg\n",
      "Confidence in %: 100.0\n",
      "--------\n",
      "Classification of the review #28: neg\n",
      "Confidence in %: 87.5\n",
      "--------\n",
      "Classification of the review #29: neg\n",
      "Confidence in %: 50.0\n",
      "--------\n",
      "Classification of the review #30: neg\n",
      "Confidence in %: 100.0\n",
      "--------\n",
      "Classification of the review #31: neg\n",
      "Confidence in %: 100.0\n",
      "--------\n",
      "Classification of the review #32: pos\n",
      "Confidence in %: 62.5\n",
      "--------\n",
      "Classification of the review #33: pos\n",
      "Confidence in %: 87.5\n",
      "--------\n",
      "Classification of the review #34: neg\n",
      "Confidence in %: 100.0\n",
      "--------\n",
      "Classification of the review #35: pos\n",
      "Confidence in %: 87.5\n",
      "--------\n",
      "Classification of the review #36: pos\n",
      "Confidence in %: 100.0\n",
      "--------\n",
      "Classification of the review #37: pos\n",
      "Confidence in %: 100.0\n",
      "--------\n",
      "Classification of the review #38: neg\n",
      "Confidence in %: 100.0\n",
      "--------\n",
      "Classification of the review #39: pos\n",
      "Confidence in %: 100.0\n",
      "--------\n"
     ]
    }
   ],
   "source": [
    "for x in range(20,40):\n",
    "    print(f'Classification of the review #{x}:', voted_classifier.classify(testing_sets[x][0]))\n",
    "    print('Confidence in %:', voted_classifier.confidence(testing_sets[x][0])*100)\n",
    "    print('--------')"
   ]
  },
  {
   "cell_type": "markdown",
   "metadata": {},
   "source": [
    "### Conclusion:\n",
    "\n",
    "We created a voting system based on many similar algorithms which gave us more reliable classification results. The final accuracy of the voting system is about `84-86%` which is rather high, but reasonably high. We have additionaly run some tests checking algorithms' confidence levels on exclusively positive or negative reviews, both tests got `85%` from voting system. \n",
    "\n",
    "On the level of individual reviews voting system gave us different results from `50%` of confidence to `100%`. Though, at first glance `50%` and lower seems to be not too comon of a result, for more information further research is required. "
   ]
  }
 ],
 "metadata": {
  "interpreter": {
   "hash": "a166e61b3f1e7b9ccc9f59f78d7cc3087a9ccbb0b1a7cff444b301613a633a54"
  },
  "kernelspec": {
   "display_name": "Python 3.10.5 64-bit (windows store)",
   "language": "python",
   "name": "python3"
  },
  "language_info": {
   "codemirror_mode": {
    "name": "ipython",
    "version": 3
   },
   "file_extension": ".py",
   "mimetype": "text/x-python",
   "name": "python",
   "nbconvert_exporter": "python",
   "pygments_lexer": "ipython3",
   "version": "3.10.5"
  },
  "orig_nbformat": 4
 },
 "nbformat": 4,
 "nbformat_minor": 2
}
