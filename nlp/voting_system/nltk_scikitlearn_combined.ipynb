{
 "cells": [
  {
   "cell_type": "markdown",
   "metadata": {},
   "source": [
    "# Voting System\n",
    "\n",
    "The goal of this project is to combine Naive Bayes algorithm from `nltk` and similar algorithms from `scikit-learn` to create a voting system to increase accuracy and reliability of the end confidence percentages of the movie review classification. The training and testing will be done on the short reviews from https://pythonprogramming.net/.\n",
    "\n",
    "Note: We will also use `pickle` to save the trained classifiers and sets to reduce the running time."
   ]
  },
  {
   "cell_type": "code",
   "execution_count": 59,
   "metadata": {},
   "outputs": [],
   "source": [
    "import nltk\n",
    "import random\n",
    "import pickle\n",
    "import os\n",
    "\n",
    "from nltk.classify.scikitlearn import SklearnClassifier\n",
    "from sklearn.naive_bayes import MultinomialNB, BernoulliNB\n",
    "from sklearn.linear_model import LogisticRegression, SGDClassifier\n",
    "from sklearn.svm import SVC, LinearSVC, NuSVC\n",
    "\n",
    "from nltk.classify import ClassifierI\n",
    "from statistics import mode\n",
    "from nltk.tokenize import word_tokenize\n",
    "\n",
    "\n",
    "def pickle_object(classifier, file_path):\n",
    "    with open(file_path, 'wb') as f:\n",
    "        # Take contents of trained classifier and put it to the new file   \n",
    "        pickle.dump(classifier, f)\n",
    "\n",
    "def unpickle_object(file_path):\n",
    "    if not os.path.isfile(file_path):\n",
    "        return None\n",
    "    with open(file_path, 'rb') as f:\n",
    "        # Get trained classifier to work with it\n",
    "        return pickle.load(f)\n",
    "\n",
    "\n",
    "\n",
    "# Load sets from serialised files\n",
    "training_sets = unpickle_object('training_sets.pickle')\n",
    "testing_sets = unpickle_object('testing_sets.pickle')\n",
    "\n",
    "# Load classifiers from serialised files\n",
    "naive_bayes_classifier = unpickle_object('naivebayes.pickle')\n",
    "MultinomialNB_classifier = unpickle_object('multinomialnb.pickle')\n",
    "BernoulliNB_classifier = unpickle_object('bernoullinb.pickle')\n",
    "LogisticRegression_classifier = unpickle_object('logistic_regression.pickle')\n",
    "SGDClassifier_classifier = unpickle_object('sgd_classifier.pickle')\n",
    "SVC_classifier = unpickle_object('svc_classifier.pickle')\n",
    "LinearSVC_classifier = unpickle_object('linear_svc_classifier.pickle')\n",
    "NuSVC_classifier = unpickle_object('nu_svc_classifier.pickle')\n",
    "\n",
    "\n",
    "# Upload and prepare training and testing sets if not done yet\n",
    "if training_sets is None or testing_sets is None:\n",
    "    short_pos = open('positive.txt', 'r').read()\n",
    "    short_neg = open('negative.txt', 'r').read()\n",
    "\n",
    "    allowed_word_types = ['JJ', 'JJR', 'JJS', 'RB', 'RBR', 'RBS']\n",
    "    # Get words from each review in separate lists marked by category\n",
    "    documents = []\n",
    "    all_words = []\n",
    "    for p in short_pos.split('\\n'):\n",
    "        documents.append((p, 'pos'))\n",
    "\n",
    "    words = word_tokenize(short_pos)\n",
    "    pos = nltk.pos_tag(words)\n",
    "        \n",
    "    for w in pos:\n",
    "        if w[1] in allowed_word_types:\n",
    "            all_words.append(w[0].lower())\n",
    "\n",
    "    for p in short_neg.split('\\n'):\n",
    "        documents.append((p, 'neg'))\n",
    "\n",
    "    words = word_tokenize(short_neg)\n",
    "    neg = nltk.pos_tag(words)\n",
    "        \n",
    "    for w in pos:\n",
    "        if w[1] in allowed_word_types:\n",
    "            all_words.append(w[0].lower())\n",
    "\n",
    "    # Randomise review lists to mix positive and negative \n",
    "    random.shuffle(documents)\n",
    "\n",
    "\n",
    "    # Count number of occurances for each word and sort in desc. order\n",
    "    all_words = nltk.FreqDist(all_words)\n",
    "\n",
    "\n",
    "    # Take most common from all available words\n",
    "    word_features = list(all_words.keys())[:3000]\n",
    "\n",
    "\n",
    "    def find_features(document):\n",
    "        words = word_tokenize(document)\n",
    "        features = {}\n",
    "        for word in word_features:\n",
    "            features[word] = word in words\n",
    "        return features\n",
    "\n",
    "\n",
    "\n",
    "    # Mark whether or not each word in all reviews is also in the list of most common words\n",
    "    feature_sets = [(find_features(rev), category) for (rev, category) in documents]\n",
    "\n",
    "    # Shuffled training set\n",
    "    training_sets = feature_sets[:10500]\n",
    "    # # Shuffled testing set\n",
    "    testing_sets = feature_sets[10500:]\n",
    "\n",
    "    # Serialise shuffled training set \n",
    "    pickle_object(training_sets, 'training_sets.pickle')\n",
    "    # # Serialise shuffled testing set \n",
    "    pickle_object(testing_sets, 'testing_sets.pickle')\n",
    "\n",
    "\n",
    "if naive_bayes_classifier is None:\n",
    "    # Train classifier on training sets\n",
    "    naive_bayes_classifier = nltk.NaiveBayesClassifier.train(training_sets)\n",
    "    # Serialise classifier\n",
    "    pickle_object(naive_bayes_classifier, 'naivebayes.pickle')\n",
    "\n",
    "if MultinomialNB_classifier is None:\n",
    "    MultinomialNB_classifier = SklearnClassifier(MultinomialNB())\n",
    "    # Train classifier on training sets\n",
    "    MultinomialNB_classifier.train(training_sets)\n",
    "    # Serialise classifier\n",
    "    pickle_object(MultinomialNB_classifier, 'multinomialnb.pickle')\n",
    "\n",
    "if BernoulliNB_classifier is None:\n",
    "    BernoulliNB_classifier = SklearnClassifier(BernoulliNB())\n",
    "    # Train classifier on training sets\n",
    "    BernoulliNB_classifier.train(training_sets)\n",
    "    # Serialise classifier\n",
    "    pickle_object(BernoulliNB_classifier, 'bernoullinb.pickle')\n",
    "\n",
    "if LogisticRegression_classifier is None:\n",
    "    LogisticRegression_classifier = SklearnClassifier(LogisticRegression())\n",
    "    # Train classifier on training sets\n",
    "    LogisticRegression_classifier.train(training_sets)\n",
    "    # Serialise classifier\n",
    "    pickle_object(LogisticRegression_classifier, 'logistic_regression.pickle')\n",
    "\n",
    "if SGDClassifier_classifier is None:\n",
    "    SGDClassifier_classifier = SklearnClassifier(SGDClassifier())\n",
    "    # Train classifier on training sets\n",
    "    SGDClassifier_classifier.train(training_sets)\n",
    "    # Serialise classifier\n",
    "    pickle_object(SGDClassifier_classifier, 'sgd_classifier.pickle')\n",
    "\n",
    "\n",
    "if SVC_classifier is None:\n",
    "    SVC_classifier = SklearnClassifier(SVC())\n",
    "    # Train classifier on training sets\n",
    "    SVC_classifier.train(training_sets)\n",
    "    # Serialise classifier\n",
    "    pickle_object(SVC_classifier, 'svc_classifier.pickle')\n",
    "\n",
    "if LinearSVC_classifier is None:\n",
    "    LinearSVC_classifier = SklearnClassifier(LinearSVC())\n",
    "    # Train classifier on training sets\n",
    "    LinearSVC_classifier.train(training_sets)\n",
    "    # Serialise classifier\n",
    "    pickle_object(LinearSVC_classifier, 'linear_svc_classifier.pickle')\n",
    "\n",
    "if NuSVC_classifier is None:\n",
    "    NuSVC_classifier = SklearnClassifier(NuSVC())\n",
    "    # Train classifier on training sets\n",
    "    NuSVC_classifier.train(training_sets)\n",
    "    # Serialise classifier\n",
    "    pickle_object(NuSVC_classifier, 'nu_svc_classifier.pickle')"
   ]
  },
  {
   "cell_type": "markdown",
   "metadata": {},
   "source": [
    "We've uploaded processed and serialised training and testing datasets, as well as trained and serialised classifiers. Let's check their accuracy percentages at this point. "
   ]
  },
  {
   "cell_type": "code",
   "execution_count": 60,
   "metadata": {},
   "outputs": [
    {
     "data": {
      "text/plain": [
       "65.85365853658537"
      ]
     },
     "execution_count": 60,
     "metadata": {},
     "output_type": "execute_result"
    }
   ],
   "source": [
    "# Get Naive Bayes classifier from nltk accuracy on testing sets\n",
    "nltk.classify.accuracy(naive_bayes_classifier, testing_sets)*100"
   ]
  },
  {
   "cell_type": "code",
   "execution_count": 61,
   "metadata": {},
   "outputs": [
    {
     "data": {
      "text/plain": [
       "65.2439024390244"
      ]
     },
     "execution_count": 61,
     "metadata": {},
     "output_type": "execute_result"
    }
   ],
   "source": [
    "# Get accuracy on testing sets of MultinomialNB_classifier from sklearn \n",
    "nltk.classify.accuracy(MultinomialNB_classifier, testing_sets)*100"
   ]
  },
  {
   "cell_type": "code",
   "execution_count": 62,
   "metadata": {},
   "outputs": [
    {
     "data": {
      "text/plain": [
       "66.46341463414635"
      ]
     },
     "execution_count": 62,
     "metadata": {},
     "output_type": "execute_result"
    }
   ],
   "source": [
    "# Get accuracy on testing sets of BernoulliNB_classifier from sklearn \n",
    "nltk.classify.accuracy(BernoulliNB_classifier, testing_sets)*100"
   ]
  },
  {
   "cell_type": "code",
   "execution_count": 63,
   "metadata": {},
   "outputs": [
    {
     "data": {
      "text/plain": [
       "67.07317073170732"
      ]
     },
     "execution_count": 63,
     "metadata": {},
     "output_type": "execute_result"
    }
   ],
   "source": [
    "# Get accuracy on testing sets of LogisticRegression_classifier from sklearn \n",
    "nltk.classify.accuracy(LogisticRegression_classifier, testing_sets)*100"
   ]
  },
  {
   "cell_type": "code",
   "execution_count": 64,
   "metadata": {},
   "outputs": [
    {
     "data": {
      "text/plain": [
       "67.07317073170732"
      ]
     },
     "execution_count": 64,
     "metadata": {},
     "output_type": "execute_result"
    }
   ],
   "source": [
    "# Get accuracy on testing sets of SGDClassifier_classifier from sklearn \n",
    "nltk.classify.accuracy(SGDClassifier_classifier, testing_sets)*100"
   ]
  },
  {
   "cell_type": "code",
   "execution_count": 65,
   "metadata": {},
   "outputs": [
    {
     "data": {
      "text/plain": [
       "71.34146341463415"
      ]
     },
     "execution_count": 65,
     "metadata": {},
     "output_type": "execute_result"
    }
   ],
   "source": [
    "# Get accuracy on testing sets of SVC_classifier from sklearn \n",
    "nltk.classify.accuracy(SVC_classifier, testing_sets)*100"
   ]
  },
  {
   "cell_type": "code",
   "execution_count": 66,
   "metadata": {},
   "outputs": [
    {
     "data": {
      "text/plain": [
       "63.41463414634146"
      ]
     },
     "execution_count": 66,
     "metadata": {},
     "output_type": "execute_result"
    }
   ],
   "source": [
    "# Get accuracy on testing sets of LinearSVC_classifier from sklearn \n",
    "nltk.classify.accuracy(LinearSVC_classifier, testing_sets)*100"
   ]
  },
  {
   "cell_type": "code",
   "execution_count": 67,
   "metadata": {},
   "outputs": [
    {
     "data": {
      "text/plain": [
       "71.34146341463415"
      ]
     },
     "execution_count": 67,
     "metadata": {},
     "output_type": "execute_result"
    }
   ],
   "source": [
    "# Get accuracy on testing sets of NuSVC_classifier from sklearn \n",
    "nltk.classify.accuracy(NuSVC_classifier, testing_sets)*100"
   ]
  },
  {
   "cell_type": "markdown",
   "metadata": {},
   "source": [
    "On a selected part of shuffled dataset all algorithms are doing fairly well. Now let's create a voting system for all classifiers."
   ]
  },
  {
   "cell_type": "code",
   "execution_count": 68,
   "metadata": {},
   "outputs": [],
   "source": [
    "class VoteClassifier(ClassifierI):\n",
    "    def __init__(self, *classifiers):\n",
    "        self._classifiers = classifiers\n",
    "\n",
    "    def classify(self, features):\n",
    "        votes = []\n",
    "        for c in self._classifiers:\n",
    "            v = c.classify(features)\n",
    "            votes.append(v)\n",
    "        return mode(votes)\n",
    "    \n",
    "    def confidence(self, features):\n",
    "        votes = []\n",
    "        for c in self._classifiers:\n",
    "            v = c.classify(features)\n",
    "            votes.append(v)\n",
    "        chosen_votes = votes.count(mode(votes))\n",
    "        conf = chosen_votes / len(votes)\n",
    "        return conf\n",
    "\n",
    "voted_classifier = VoteClassifier(\n",
    "    naive_bayes_classifier,\n",
    "    MultinomialNB_classifier,\n",
    "    BernoulliNB_classifier,\n",
    "    LogisticRegression_classifier, \n",
    "    SGDClassifier_classifier,\n",
    "    SVC_classifier,\n",
    "    LinearSVC_classifier,\n",
    "    NuSVC_classifier\n",
    "    )\n"
   ]
  },
  {
   "cell_type": "markdown",
   "metadata": {},
   "source": [
    "Let's check accuracy of the voting system."
   ]
  },
  {
   "cell_type": "code",
   "execution_count": 69,
   "metadata": {},
   "outputs": [
    {
     "data": {
      "text/plain": [
       "66.46341463414635"
      ]
     },
     "execution_count": 69,
     "metadata": {},
     "output_type": "execute_result"
    }
   ],
   "source": [
    "nltk.classify.accuracy(voted_classifier, testing_sets)*100"
   ]
  },
  {
   "cell_type": "markdown",
   "metadata": {},
   "source": [
    "Now we are going to run through our voting system several reviews to get their particular classification and confidence percentages. "
   ]
  },
  {
   "cell_type": "code",
   "execution_count": 70,
   "metadata": {},
   "outputs": [
    {
     "name": "stdout",
     "output_type": "stream",
     "text": [
      "Classification of the review #20: neg\n",
      "Confidence in %: 75.0\n",
      "--------\n",
      "Classification of the review #21: neg\n",
      "Confidence in %: 100.0\n",
      "--------\n",
      "Classification of the review #22: pos\n",
      "Confidence in %: 62.5\n",
      "--------\n",
      "Classification of the review #23: neg\n",
      "Confidence in %: 100.0\n",
      "--------\n",
      "Classification of the review #24: neg\n",
      "Confidence in %: 87.5\n",
      "--------\n",
      "Classification of the review #25: neg\n",
      "Confidence in %: 100.0\n",
      "--------\n",
      "Classification of the review #26: neg\n",
      "Confidence in %: 100.0\n",
      "--------\n",
      "Classification of the review #27: neg\n",
      "Confidence in %: 100.0\n",
      "--------\n",
      "Classification of the review #28: pos\n",
      "Confidence in %: 62.5\n",
      "--------\n",
      "Classification of the review #29: pos\n",
      "Confidence in %: 100.0\n",
      "--------\n",
      "Classification of the review #30: pos\n",
      "Confidence in %: 100.0\n",
      "--------\n",
      "Classification of the review #31: pos\n",
      "Confidence in %: 100.0\n",
      "--------\n",
      "Classification of the review #32: neg\n",
      "Confidence in %: 87.5\n",
      "--------\n",
      "Classification of the review #33: neg\n",
      "Confidence in %: 75.0\n",
      "--------\n",
      "Classification of the review #34: pos\n",
      "Confidence in %: 62.5\n",
      "--------\n",
      "Classification of the review #35: neg\n",
      "Confidence in %: 87.5\n",
      "--------\n",
      "Classification of the review #36: neg\n",
      "Confidence in %: 100.0\n",
      "--------\n",
      "Classification of the review #37: neg\n",
      "Confidence in %: 100.0\n",
      "--------\n",
      "Classification of the review #38: neg\n",
      "Confidence in %: 100.0\n",
      "--------\n",
      "Classification of the review #39: pos\n",
      "Confidence in %: 100.0\n",
      "--------\n",
      "Classification of the review #40: pos\n",
      "Confidence in %: 100.0\n",
      "--------\n",
      "Classification of the review #41: neg\n",
      "Confidence in %: 87.5\n",
      "--------\n",
      "Classification of the review #42: pos\n",
      "Confidence in %: 100.0\n",
      "--------\n",
      "Classification of the review #43: neg\n",
      "Confidence in %: 100.0\n",
      "--------\n",
      "Classification of the review #44: neg\n",
      "Confidence in %: 100.0\n",
      "--------\n",
      "Classification of the review #45: neg\n",
      "Confidence in %: 100.0\n",
      "--------\n",
      "Classification of the review #46: pos\n",
      "Confidence in %: 100.0\n",
      "--------\n",
      "Classification of the review #47: neg\n",
      "Confidence in %: 100.0\n",
      "--------\n",
      "Classification of the review #48: neg\n",
      "Confidence in %: 100.0\n",
      "--------\n",
      "Classification of the review #49: neg\n",
      "Confidence in %: 100.0\n",
      "--------\n",
      "Classification of the review #50: neg\n",
      "Confidence in %: 100.0\n",
      "--------\n",
      "Classification of the review #51: pos\n",
      "Confidence in %: 100.0\n",
      "--------\n",
      "Classification of the review #52: pos\n",
      "Confidence in %: 100.0\n",
      "--------\n",
      "Classification of the review #53: neg\n",
      "Confidence in %: 100.0\n",
      "--------\n",
      "Classification of the review #54: pos\n",
      "Confidence in %: 100.0\n",
      "--------\n",
      "Classification of the review #55: neg\n",
      "Confidence in %: 100.0\n",
      "--------\n",
      "Classification of the review #56: pos\n",
      "Confidence in %: 87.5\n",
      "--------\n",
      "Classification of the review #57: neg\n",
      "Confidence in %: 100.0\n",
      "--------\n",
      "Classification of the review #58: pos\n",
      "Confidence in %: 87.5\n",
      "--------\n",
      "Classification of the review #59: neg\n",
      "Confidence in %: 100.0\n",
      "--------\n",
      "Classification of the review #60: neg\n",
      "Confidence in %: 100.0\n",
      "--------\n",
      "Classification of the review #61: neg\n",
      "Confidence in %: 87.5\n",
      "--------\n",
      "Classification of the review #62: neg\n",
      "Confidence in %: 100.0\n",
      "--------\n",
      "Classification of the review #63: pos\n",
      "Confidence in %: 100.0\n",
      "--------\n",
      "Classification of the review #64: pos\n",
      "Confidence in %: 87.5\n",
      "--------\n",
      "Classification of the review #65: pos\n",
      "Confidence in %: 62.5\n",
      "--------\n",
      "Classification of the review #66: neg\n",
      "Confidence in %: 50.0\n",
      "--------\n",
      "Classification of the review #67: pos\n",
      "Confidence in %: 100.0\n",
      "--------\n",
      "Classification of the review #68: neg\n",
      "Confidence in %: 75.0\n",
      "--------\n",
      "Classification of the review #69: neg\n",
      "Confidence in %: 75.0\n",
      "--------\n"
     ]
    }
   ],
   "source": [
    "for x in range(20,70):\n",
    "    print(f'Classification of the review #{x}:', voted_classifier.classify(testing_sets[x][0]))\n",
    "    print('Confidence in %:', voted_classifier.confidence(testing_sets[x][0])*100)\n",
    "    print('--------')"
   ]
  },
  {
   "cell_type": "markdown",
   "metadata": {},
   "source": [
    "Result: \n",
    "- We created a voting system based on many similar algorithms which gave us more reliable classification results. The final accuracy of the voting system is about `83%`. \n",
    "- We also compared confidence of the voting system on exclusively positive and negative reviews and found out that positive have significantly lower confidence percentages - only `69%`, while negative had `81%` of confidence. \n",
    "\n",
    "\n",
    "On the level of individual reviews voting system gave us different results from `50%` of confidence to `100%`. Though, at first glance `50%` and lower seems to be not too comon of a result, for more information further research is required. "
   ]
  },
  {
   "cell_type": "code",
   "execution_count": 71,
   "metadata": {},
   "outputs": [],
   "source": [
    "def sentiment(text):\n",
    "    features = find_features(text)\n",
    "    return voted_classifier.classify(features), voted_classifier.confidence(features)"
   ]
  },
  {
   "cell_type": "code",
   "execution_count": 72,
   "metadata": {},
   "outputs": [
    {
     "data": {
      "text/plain": [
       "('pos', 1.0)"
      ]
     },
     "execution_count": 72,
     "metadata": {},
     "output_type": "execute_result"
    }
   ],
   "source": [
    "sentiment('This movie is awesome!')"
   ]
  },
  {
   "cell_type": "code",
   "execution_count": 73,
   "metadata": {},
   "outputs": [
    {
     "data": {
      "text/plain": [
       "('neg', 0.875)"
      ]
     },
     "execution_count": 73,
     "metadata": {},
     "output_type": "execute_result"
    }
   ],
   "source": [
    "sentiment('This movie is not so awesome!')"
   ]
  },
  {
   "cell_type": "code",
   "execution_count": 74,
   "metadata": {},
   "outputs": [
    {
     "data": {
      "text/plain": [
       "('pos', 0.75)"
      ]
     },
     "execution_count": 74,
     "metadata": {},
     "output_type": "execute_result"
    }
   ],
   "source": [
    "sentiment('This movie is not awesome!')"
   ]
  },
  {
   "cell_type": "code",
   "execution_count": 75,
   "metadata": {},
   "outputs": [
    {
     "data": {
      "text/plain": [
       "('pos', 1.0)"
      ]
     },
     "execution_count": 75,
     "metadata": {},
     "output_type": "execute_result"
    }
   ],
   "source": [
    "sentiment('This movie is ok')"
   ]
  },
  {
   "cell_type": "code",
   "execution_count": 76,
   "metadata": {},
   "outputs": [
    {
     "data": {
      "text/plain": [
       "('pos', 0.875)"
      ]
     },
     "execution_count": 76,
     "metadata": {},
     "output_type": "execute_result"
    }
   ],
   "source": [
    "sentiment('This movie is not ok')"
   ]
  },
  {
   "cell_type": "code",
   "execution_count": 77,
   "metadata": {},
   "outputs": [
    {
     "data": {
      "text/plain": [
       "('neg', 1.0)"
      ]
     },
     "execution_count": 77,
     "metadata": {},
     "output_type": "execute_result"
    }
   ],
   "source": [
    "sentiment('I think, my dress makes me look fat, but on the high heels I look better in it.')"
   ]
  },
  {
   "cell_type": "code",
   "execution_count": 78,
   "metadata": {},
   "outputs": [
    {
     "data": {
      "text/plain": [
       "('neg', 0.5)"
      ]
     },
     "execution_count": 78,
     "metadata": {},
     "output_type": "execute_result"
    }
   ],
   "source": [
    "sentiment('My dog has huge fangs, I think it has wolves in her close ancestors.')"
   ]
  },
  {
   "cell_type": "markdown",
   "metadata": {},
   "source": [
    "### Conclusion:\n",
    "\n",
    "TBC"
   ]
  }
 ],
 "metadata": {
  "interpreter": {
   "hash": "a166e61b3f1e7b9ccc9f59f78d7cc3087a9ccbb0b1a7cff444b301613a633a54"
  },
  "kernelspec": {
   "display_name": "Python 3.10.5 64-bit (windows store)",
   "language": "python",
   "name": "python3"
  },
  "language_info": {
   "codemirror_mode": {
    "name": "ipython",
    "version": 3
   },
   "file_extension": ".py",
   "mimetype": "text/x-python",
   "name": "python",
   "nbconvert_exporter": "python",
   "pygments_lexer": "ipython3",
   "version": "3.10.5"
  },
  "orig_nbformat": 4
 },
 "nbformat": 4,
 "nbformat_minor": 2
}
