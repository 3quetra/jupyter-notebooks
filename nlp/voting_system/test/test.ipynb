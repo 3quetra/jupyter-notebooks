{
 "cells": [
  {
   "cell_type": "code",
   "execution_count": 17,
   "metadata": {},
   "outputs": [
    {
     "name": "stdout",
     "output_type": "stream",
     "text": [
      "10000\n",
      "10664\n"
     ]
    }
   ],
   "source": [
    "import nltk\n",
    "import random\n",
    "import pickle\n",
    "import os\n",
    "\n",
    "from nltk.classify.scikitlearn import SklearnClassifier\n",
    "from sklearn.naive_bayes import MultinomialNB, BernoulliNB\n",
    "from sklearn.linear_model import LogisticRegression, SGDClassifier\n",
    "from sklearn.svm import SVC, LinearSVC, NuSVC\n",
    "\n",
    "from nltk.classify import ClassifierI\n",
    "from statistics import mode\n",
    "from nltk.tokenize import word_tokenize\n",
    "\n",
    "\n",
    "def pickle_object(classifier, file_path):\n",
    "    with open(file_path, 'wb') as f:\n",
    "        # Take contents of trained classifier and put it to the new file   \n",
    "        pickle.dump(classifier, f)\n",
    "\n",
    "def unpickle_object(file_path):\n",
    "    if not os.path.isfile(file_path):\n",
    "        return None\n",
    "    with open(file_path, 'rb') as f:\n",
    "        # Get trained classifier to work with it\n",
    "        return pickle.load(f)\n",
    "\n",
    "\n",
    "\n",
    "# Load sets from serialised files\n",
    "training_sets = unpickle_object('training_sets.pickle')\n",
    "testing_sets = unpickle_object('testing_sets.pickle')\n",
    "\n",
    "# Load classifiers from serialised files\n",
    "naive_bayes_classifier = unpickle_object('naivebayes.pickle')\n",
    "MultinomialNB_classifier = unpickle_object('multinomialnb.pickle')\n",
    "BernoulliNB_classifier = unpickle_object('bernoullinb.pickle')\n",
    "LogisticRegression_classifier = unpickle_object('logistic_regression.pickle')\n",
    "SGDClassifier_classifier = unpickle_object('sgd_classifier.pickle')\n",
    "SVC_classifier = unpickle_object('svc_classifier.pickle')\n",
    "LinearSVC_classifier = unpickle_object('linear_svc_classifier.pickle')\n",
    "NuSVC_classifier = unpickle_object('nu_svc_classifier.pickle')\n",
    "\n",
    "\n",
    "# Upload and prepare training and testing sets if not done yet\n",
    "if training_sets is None or testing_sets is None:\n",
    "    short_pos = open('../positive.txt', 'r').read()\n",
    "    short_neg = open('../negative.txt', 'r').read()\n",
    "\n",
    "    allowed_word_types = ['JJ', 'JJR', 'JJS', 'RB', 'RBR', 'RBS']\n",
    "    # Get words from each review in separate lists marked by category\n",
    "    documents = []\n",
    "    all_words = []\n",
    "    for p in short_pos.split('\\n'):\n",
    "        documents.append((p, 'pos'))\n",
    "        words = word_tokenize(p)\n",
    "        pos = nltk.pos_tag(words)\n",
    "        for w in pos:\n",
    "            if w[1] in allowed_word_types:\n",
    "                all_words.append(w[0].lower())\n",
    "    print(all_words[:10])\n",
    "    for p in short_neg.split('\\n'):\n",
    "        documents.append((p, 'neg'))\n",
    "        words = word_tokenize(p)\n",
    "        pos = nltk.pos_tag(words)\n",
    "        for w in pos:\n",
    "            if w[1] in allowed_word_types:\n",
    "                all_words.append(w[0].lower())\n",
    "\n",
    "    # Randomise review lists to mix positive and negative \n",
    "    random.shuffle(documents)\n",
    "\n",
    "\n",
    "    # Count number of occurances for each word and sort in desc. order\n",
    "    all_words = nltk.FreqDist(all_words)\n",
    "\n",
    "\n",
    "    # Take most common from all available words\n",
    "    word_features = list(all_words.keys())[:3000]\n",
    "\n",
    "\n",
    "    def find_features(document, word_features):\n",
    "        words = word_tokenize(document)\n",
    "        features = {}\n",
    "        for word in word_features:\n",
    "            features[word] = word in words\n",
    "        return features\n",
    "\n",
    "\n",
    "    # Mark whether or not each word in all reviews is also in the list of most common words\n",
    "    feature_sets = [(find_features(rev, word_features), category) for (rev, category) in documents]\n",
    "\n",
    "    # Shuffled training set\n",
    "    training_sets = feature_sets[:10000]\n",
    "    # # Shuffled testing set\n",
    "    testing_sets = feature_sets[10000:]\n",
    "\n",
    "    # Serialise shuffled training set \n",
    "    pickle_object(training_sets, 'training_sets.pickle')\n",
    "    # # Serialise shuffled testing set \n",
    "    pickle_object(testing_sets, 'testing_sets.pickle')\n",
    "\n",
    "print(len(training_sets))\n",
    "print(len(feature_sets))"
   ]
  },
  {
   "cell_type": "code",
   "execution_count": 18,
   "metadata": {},
   "outputs": [],
   "source": [
    "if naive_bayes_classifier is None:\n",
    "    # Train classifier on training sets\n",
    "    naive_bayes_classifier = nltk.NaiveBayesClassifier.train(training_sets)\n",
    "    # Serialise classifier\n",
    "    pickle_object(naive_bayes_classifier, 'naivebayes.pickle')"
   ]
  },
  {
   "cell_type": "code",
   "execution_count": 19,
   "metadata": {},
   "outputs": [],
   "source": [
    "if MultinomialNB_classifier is None:\n",
    "    MultinomialNB_classifier = SklearnClassifier(MultinomialNB())\n",
    "    # Train classifier on training sets\n",
    "    MultinomialNB_classifier.train(training_sets)\n",
    "    # Serialise classifier\n",
    "    pickle_object(MultinomialNB_classifier, 'multinomialnb.pickle')"
   ]
  },
  {
   "cell_type": "code",
   "execution_count": 20,
   "metadata": {},
   "outputs": [],
   "source": [
    "if BernoulliNB_classifier is None:\n",
    "    BernoulliNB_classifier = SklearnClassifier(BernoulliNB())\n",
    "    # Train classifier on training sets\n",
    "    BernoulliNB_classifier.train(training_sets)\n",
    "    # Serialise classifier\n",
    "    pickle_object(BernoulliNB_classifier, 'bernoullinb.pickle')"
   ]
  },
  {
   "cell_type": "code",
   "execution_count": 21,
   "metadata": {},
   "outputs": [],
   "source": [
    "if LogisticRegression_classifier is None:\n",
    "    LogisticRegression_classifier = SklearnClassifier(LogisticRegression())\n",
    "    # Train classifier on training sets\n",
    "    LogisticRegression_classifier.train(training_sets)\n",
    "    # Serialise classifier\n",
    "    pickle_object(LogisticRegression_classifier, 'logistic_regression.pickle')"
   ]
  },
  {
   "cell_type": "code",
   "execution_count": 22,
   "metadata": {},
   "outputs": [],
   "source": [
    "if SGDClassifier_classifier is None:\n",
    "    SGDClassifier_classifier = SklearnClassifier(SGDClassifier())\n",
    "    # Train classifier on training sets\n",
    "    SGDClassifier_classifier.train(training_sets)\n",
    "    # Serialise classifier\n",
    "    pickle_object(SGDClassifier_classifier, 'sgd_classifier.pickle')"
   ]
  },
  {
   "cell_type": "code",
   "execution_count": null,
   "metadata": {},
   "outputs": [],
   "source": [
    "if SVC_classifier is None:\n",
    "    SVC_classifier = SklearnClassifier(SVC())\n",
    "    # Train classifier on training sets\n",
    "    SVC_classifier.train(training_sets)\n",
    "    # Serialise classifier\n",
    "    pickle_object(SVC_classifier, 'svc_classifier.pickle')"
   ]
  },
  {
   "cell_type": "code",
   "execution_count": null,
   "metadata": {},
   "outputs": [],
   "source": [
    "\n",
    "if LinearSVC_classifier is None:\n",
    "    LinearSVC_classifier = SklearnClassifier(LinearSVC())\n",
    "    # Train classifier on training sets\n",
    "    LinearSVC_classifier.train(training_sets)\n",
    "    # Serialise classifier\n",
    "    pickle_object(LinearSVC_classifier, 'linear_svc_classifier.pickle')\n",
    "\n",
    "if NuSVC_classifier is None:\n",
    "    NuSVC_classifier = SklearnClassifier(NuSVC())\n",
    "    # Train classifier on training sets\n",
    "    NuSVC_classifier.train(training_sets)\n",
    "    # Serialise classifier\n",
    "    pickle_object(NuSVC_classifier, 'nu_svc_classifier.pickle')"
   ]
  }
 ],
 "metadata": {
  "interpreter": {
   "hash": "a166e61b3f1e7b9ccc9f59f78d7cc3087a9ccbb0b1a7cff444b301613a633a54"
  },
  "kernelspec": {
   "display_name": "Python 3.10.5 64-bit (windows store)",
   "language": "python",
   "name": "python3"
  },
  "language_info": {
   "codemirror_mode": {
    "name": "ipython",
    "version": 3
   },
   "file_extension": ".py",
   "mimetype": "text/x-python",
   "name": "python",
   "nbconvert_exporter": "python",
   "pygments_lexer": "ipython3",
   "version": "3.10.5"
  },
  "orig_nbformat": 4
 },
 "nbformat": 4,
 "nbformat_minor": 2
}
