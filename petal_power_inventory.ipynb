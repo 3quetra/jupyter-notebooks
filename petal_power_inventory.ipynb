{
 "cells": [
  {
   "cell_type": "markdown",
   "metadata": {},
   "source": [
    "### Petal Power Inventory\n",
    "\n",
    "As data analyst for a chain of gardening stores called Petal Power I should help them analyze their inventory."
   ]
  },
  {
   "cell_type": "code",
   "execution_count": null,
   "metadata": {},
   "outputs": [],
   "source": [
    "# Import pandas library for convenient data visualisation\n",
    "import pandas as pd\n",
    "\n",
    "# Display first 10 rows to get the feel"
   ]
  }
 ],
 "metadata": {
  "language_info": {
   "name": "python"
  },
  "orig_nbformat": 4
 },
 "nbformat": 4,
 "nbformat_minor": 2
}
