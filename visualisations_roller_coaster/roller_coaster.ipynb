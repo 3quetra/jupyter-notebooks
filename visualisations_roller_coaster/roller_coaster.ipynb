{
 "cells": [
  {
   "cell_type": "markdown",
   "metadata": {},
   "source": [
    "# Roller Coaster\n",
    "\n",
    "The goal of this project is visualizing data covering international roller coaster rankings and statistics.\n",
    "\n",
    "Roller coasters are often split into two main categories based on their construction material: wood or steel. Rankings for the best wood and steel roller coasters from the 2013 to 2018 Golden Ticket Awards are provided in `Golden_Ticket_Award_Winners_Wood.csv` and `Golden_Ticket_Award_Winners_Steel.csv`, respectively.\n",
    "\n",
    "## Tasks\n",
    "\n",
    "### 1. Investigate & Clean\n",
    "\n",
    "1.1.  Let's start by importing pandas and some other libraries, loading each CSV into a DataFrame and inspecting it to gain familiarity with the data."
   ]
  },
  {
   "cell_type": "code",
   "execution_count": 1,
   "metadata": {},
   "outputs": [],
   "source": [
    "import pandas as pd\n",
    "import matplotlib.pyplot  as plt\n",
    "import seaborn as sns\n",
    "import numpy as np"
   ]
  },
  {
   "cell_type": "code",
   "execution_count": 2,
   "metadata": {},
   "outputs": [],
   "source": [
    "roller_coast_wood = pd.read_csv('Golden_Ticket_Award_Winners_Wood.csv')\n",
    "roller_coast_steel = pd.read_csv('Golden_Ticket_Award_Winners_Steel.csv')\n",
    "roller_coast_list = pd.read_csv('roller_coasters.csv')\n"
   ]
  },
  {
   "cell_type": "markdown",
   "metadata": {},
   "source": [
    "From documentation we got the following info about columns in the **\"Golden Ticket Awards\"** datasets: \n",
    "\n",
    "- `Rank:` rank of the roller coaster in a given year;\n",
    "- `Name:` name of the roller coaster;\n",
    "- `Park:` amusement park where the roller coaster is located;\n",
    "- `Location:` location of the amusement park where the roller coaster is located;\n",
    "- `Supplier:` manufacturer of the roller coaster;\n",
    "- `Year Built:` year the roller coaster was built;\n",
    "- `Points:` points scored in a given year’s ranking;\n",
    "- `Year of Rank:` year the roller coaster achieved a given rank."
   ]
  },
  {
   "cell_type": "markdown",
   "metadata": {},
   "source": [
    "1.2. Let's check out wooden roller coasters."
   ]
  },
  {
   "cell_type": "code",
   "execution_count": 3,
   "metadata": {},
   "outputs": [
    {
     "data": {
      "text/html": [
       "<div>\n",
       "<style scoped>\n",
       "    .dataframe tbody tr th:only-of-type {\n",
       "        vertical-align: middle;\n",
       "    }\n",
       "\n",
       "    .dataframe tbody tr th {\n",
       "        vertical-align: top;\n",
       "    }\n",
       "\n",
       "    .dataframe thead th {\n",
       "        text-align: right;\n",
       "    }\n",
       "</style>\n",
       "<table border=\"1\" class=\"dataframe\">\n",
       "  <thead>\n",
       "    <tr style=\"text-align: right;\">\n",
       "      <th></th>\n",
       "      <th>Rank</th>\n",
       "      <th>Name</th>\n",
       "      <th>Park</th>\n",
       "      <th>Location</th>\n",
       "      <th>Supplier</th>\n",
       "      <th>Year Built</th>\n",
       "      <th>Points</th>\n",
       "      <th>Year of Rank</th>\n",
       "    </tr>\n",
       "  </thead>\n",
       "  <tbody>\n",
       "    <tr>\n",
       "      <th>0</th>\n",
       "      <td>1</td>\n",
       "      <td>Boulder Dash</td>\n",
       "      <td>Lake Compounce</td>\n",
       "      <td>Bristol, Conn.</td>\n",
       "      <td>CCI</td>\n",
       "      <td>2000</td>\n",
       "      <td>1333</td>\n",
       "      <td>2013</td>\n",
       "    </tr>\n",
       "    <tr>\n",
       "      <th>1</th>\n",
       "      <td>2</td>\n",
       "      <td>El Toro</td>\n",
       "      <td>Six Flags Great Adventure</td>\n",
       "      <td>Jackson, N.J.</td>\n",
       "      <td>Intamin</td>\n",
       "      <td>2006</td>\n",
       "      <td>1302</td>\n",
       "      <td>2013</td>\n",
       "    </tr>\n",
       "    <tr>\n",
       "      <th>2</th>\n",
       "      <td>3</td>\n",
       "      <td>Phoenix</td>\n",
       "      <td>Knoebels Amusement Resort</td>\n",
       "      <td>Elysburg, Pa.</td>\n",
       "      <td>Dinn/PTC-Schmeck</td>\n",
       "      <td>1985</td>\n",
       "      <td>1088</td>\n",
       "      <td>2013</td>\n",
       "    </tr>\n",
       "    <tr>\n",
       "      <th>3</th>\n",
       "      <td>4</td>\n",
       "      <td>The Voyage</td>\n",
       "      <td>Holiday World</td>\n",
       "      <td>Santa Claus, Ind.</td>\n",
       "      <td>Gravity Group</td>\n",
       "      <td>2006</td>\n",
       "      <td>1086</td>\n",
       "      <td>2013</td>\n",
       "    </tr>\n",
       "    <tr>\n",
       "      <th>4</th>\n",
       "      <td>5</td>\n",
       "      <td>Thunderhead</td>\n",
       "      <td>Dollywood</td>\n",
       "      <td>Pigeon Forge, Tenn.</td>\n",
       "      <td>GCII</td>\n",
       "      <td>2004</td>\n",
       "      <td>923</td>\n",
       "      <td>2013</td>\n",
       "    </tr>\n",
       "    <tr>\n",
       "      <th>...</th>\n",
       "      <td>...</td>\n",
       "      <td>...</td>\n",
       "      <td>...</td>\n",
       "      <td>...</td>\n",
       "      <td>...</td>\n",
       "      <td>...</td>\n",
       "      <td>...</td>\n",
       "      <td>...</td>\n",
       "    </tr>\n",
       "    <tr>\n",
       "      <th>175</th>\n",
       "      <td>46</td>\n",
       "      <td>Megafobia</td>\n",
       "      <td>Oakwood</td>\n",
       "      <td>Pembrookshire, Wales</td>\n",
       "      <td>Custom Coasters</td>\n",
       "      <td>1996</td>\n",
       "      <td>84</td>\n",
       "      <td>2018</td>\n",
       "    </tr>\n",
       "    <tr>\n",
       "      <th>176</th>\n",
       "      <td>47</td>\n",
       "      <td>Hades 360</td>\n",
       "      <td>Mount Olympus</td>\n",
       "      <td>Wisconsin Dells, Wis.</td>\n",
       "      <td>Gravity Group</td>\n",
       "      <td>2005</td>\n",
       "      <td>80</td>\n",
       "      <td>2018</td>\n",
       "    </tr>\n",
       "    <tr>\n",
       "      <th>177</th>\n",
       "      <td>48</td>\n",
       "      <td>Mine Blower</td>\n",
       "      <td>Fun Spot</td>\n",
       "      <td>Kissimmee, Fla.</td>\n",
       "      <td>Gravity Group</td>\n",
       "      <td>2017</td>\n",
       "      <td>79</td>\n",
       "      <td>2018</td>\n",
       "    </tr>\n",
       "    <tr>\n",
       "      <th>178</th>\n",
       "      <td>49</td>\n",
       "      <td>Wooden Warrior</td>\n",
       "      <td>Quassy Amusement Park</td>\n",
       "      <td>Meddlebury, Conn.</td>\n",
       "      <td>Gravity Group</td>\n",
       "      <td>2011</td>\n",
       "      <td>77</td>\n",
       "      <td>2018</td>\n",
       "    </tr>\n",
       "    <tr>\n",
       "      <th>179</th>\n",
       "      <td>50</td>\n",
       "      <td>Twister</td>\n",
       "      <td>Knoebels Amusement Resort</td>\n",
       "      <td>Elysburg, Pa.</td>\n",
       "      <td>Fetterman/Knoebels</td>\n",
       "      <td>1999</td>\n",
       "      <td>75</td>\n",
       "      <td>2018</td>\n",
       "    </tr>\n",
       "  </tbody>\n",
       "</table>\n",
       "<p>180 rows × 8 columns</p>\n",
       "</div>"
      ],
      "text/plain": [
       "     Rank            Name                       Park               Location  \\\n",
       "0       1    Boulder Dash             Lake Compounce         Bristol, Conn.   \n",
       "1       2         El Toro  Six Flags Great Adventure          Jackson, N.J.   \n",
       "2       3         Phoenix  Knoebels Amusement Resort          Elysburg, Pa.   \n",
       "3       4      The Voyage              Holiday World      Santa Claus, Ind.   \n",
       "4       5     Thunderhead                  Dollywood    Pigeon Forge, Tenn.   \n",
       "..    ...             ...                        ...                    ...   \n",
       "175    46       Megafobia                    Oakwood   Pembrookshire, Wales   \n",
       "176    47       Hades 360              Mount Olympus  Wisconsin Dells, Wis.   \n",
       "177    48     Mine Blower                   Fun Spot        Kissimmee, Fla.   \n",
       "178    49  Wooden Warrior      Quassy Amusement Park      Meddlebury, Conn.   \n",
       "179    50         Twister  Knoebels Amusement Resort          Elysburg, Pa.   \n",
       "\n",
       "               Supplier  Year Built  Points  Year of Rank  \n",
       "0                   CCI        2000    1333          2013  \n",
       "1               Intamin        2006    1302          2013  \n",
       "2      Dinn/PTC-Schmeck        1985    1088          2013  \n",
       "3         Gravity Group        2006    1086          2013  \n",
       "4                  GCII        2004     923          2013  \n",
       "..                  ...         ...     ...           ...  \n",
       "175     Custom Coasters        1996      84          2018  \n",
       "176       Gravity Group        2005      80          2018  \n",
       "177       Gravity Group        2017      79          2018  \n",
       "178       Gravity Group        2011      77          2018  \n",
       "179  Fetterman/Knoebels        1999      75          2018  \n",
       "\n",
       "[180 rows x 8 columns]"
      ]
     },
     "execution_count": 3,
     "metadata": {},
     "output_type": "execute_result"
    }
   ],
   "source": [
    "roller_coast_wood"
   ]
  },
  {
   "cell_type": "markdown",
   "metadata": {},
   "source": [
    "1.3. Now the data types of the wooden roller coaster dataset."
   ]
  },
  {
   "cell_type": "code",
   "execution_count": 4,
   "metadata": {},
   "outputs": [
    {
     "data": {
      "text/plain": [
       "Rank             int64\n",
       "Name            object\n",
       "Park            object\n",
       "Location        object\n",
       "Supplier        object\n",
       "Year Built       int64\n",
       "Points           int64\n",
       "Year of Rank     int64\n",
       "dtype: object"
      ]
     },
     "execution_count": 4,
     "metadata": {},
     "output_type": "execute_result"
    }
   ],
   "source": [
    "roller_coast_wood.dtypes"
   ]
  },
  {
   "cell_type": "markdown",
   "metadata": {},
   "source": [
    "1.4. Same operations we should perform for steel roller coasters. "
   ]
  },
  {
   "cell_type": "code",
   "execution_count": 5,
   "metadata": {},
   "outputs": [
    {
     "data": {
      "text/html": [
       "<div>\n",
       "<style scoped>\n",
       "    .dataframe tbody tr th:only-of-type {\n",
       "        vertical-align: middle;\n",
       "    }\n",
       "\n",
       "    .dataframe tbody tr th {\n",
       "        vertical-align: top;\n",
       "    }\n",
       "\n",
       "    .dataframe thead th {\n",
       "        text-align: right;\n",
       "    }\n",
       "</style>\n",
       "<table border=\"1\" class=\"dataframe\">\n",
       "  <thead>\n",
       "    <tr style=\"text-align: right;\">\n",
       "      <th></th>\n",
       "      <th>Rank</th>\n",
       "      <th>Name</th>\n",
       "      <th>Park</th>\n",
       "      <th>Location</th>\n",
       "      <th>Supplier</th>\n",
       "      <th>Year Built</th>\n",
       "      <th>Points</th>\n",
       "      <th>Year of Rank</th>\n",
       "    </tr>\n",
       "  </thead>\n",
       "  <tbody>\n",
       "    <tr>\n",
       "      <th>0</th>\n",
       "      <td>1</td>\n",
       "      <td>Millennium Force</td>\n",
       "      <td>Cedar Point</td>\n",
       "      <td>Sandusky, Ohio</td>\n",
       "      <td>Intamin</td>\n",
       "      <td>2000</td>\n",
       "      <td>1204</td>\n",
       "      <td>2013</td>\n",
       "    </tr>\n",
       "    <tr>\n",
       "      <th>1</th>\n",
       "      <td>2</td>\n",
       "      <td>Bizarro</td>\n",
       "      <td>Six Flags New England</td>\n",
       "      <td>Agawam, Mass.</td>\n",
       "      <td>Intamin</td>\n",
       "      <td>2000</td>\n",
       "      <td>1011</td>\n",
       "      <td>2013</td>\n",
       "    </tr>\n",
       "    <tr>\n",
       "      <th>2</th>\n",
       "      <td>3</td>\n",
       "      <td>Expedition GeForce</td>\n",
       "      <td>Holiday Park</td>\n",
       "      <td>Hassloch, Germany</td>\n",
       "      <td>Intamin</td>\n",
       "      <td>2001</td>\n",
       "      <td>598</td>\n",
       "      <td>2013</td>\n",
       "    </tr>\n",
       "    <tr>\n",
       "      <th>3</th>\n",
       "      <td>4</td>\n",
       "      <td>Nitro</td>\n",
       "      <td>Six Flags Great Adventure</td>\n",
       "      <td>Jackson, N.J.</td>\n",
       "      <td>B&amp;M</td>\n",
       "      <td>2001</td>\n",
       "      <td>596</td>\n",
       "      <td>2013</td>\n",
       "    </tr>\n",
       "    <tr>\n",
       "      <th>4</th>\n",
       "      <td>5</td>\n",
       "      <td>Apollo's Chariot</td>\n",
       "      <td>Busch Gardens Williamsburg</td>\n",
       "      <td>Williamsburg, Va.</td>\n",
       "      <td>B&amp;M</td>\n",
       "      <td>1999</td>\n",
       "      <td>542</td>\n",
       "      <td>2013</td>\n",
       "    </tr>\n",
       "    <tr>\n",
       "      <th>...</th>\n",
       "      <td>...</td>\n",
       "      <td>...</td>\n",
       "      <td>...</td>\n",
       "      <td>...</td>\n",
       "      <td>...</td>\n",
       "      <td>...</td>\n",
       "      <td>...</td>\n",
       "      <td>...</td>\n",
       "    </tr>\n",
       "    <tr>\n",
       "      <th>175</th>\n",
       "      <td>46</td>\n",
       "      <td>Expedition Everest</td>\n",
       "      <td>Disney's Animal Kingdom</td>\n",
       "      <td>Orlando, Fla.</td>\n",
       "      <td>Vekoma</td>\n",
       "      <td>2006</td>\n",
       "      <td>82</td>\n",
       "      <td>2018</td>\n",
       "    </tr>\n",
       "    <tr>\n",
       "      <th>176</th>\n",
       "      <td>47</td>\n",
       "      <td>Storm Chaser</td>\n",
       "      <td>Kentucky Kingdom</td>\n",
       "      <td>Louisville, Ky.</td>\n",
       "      <td>Rocky Mountain</td>\n",
       "      <td>2016</td>\n",
       "      <td>81</td>\n",
       "      <td>2018</td>\n",
       "    </tr>\n",
       "    <tr>\n",
       "      <th>177</th>\n",
       "      <td>48</td>\n",
       "      <td>Raging Bull</td>\n",
       "      <td>Six Flags Great America</td>\n",
       "      <td>Gurnee, Ill.</td>\n",
       "      <td>B&amp;M</td>\n",
       "      <td>1999</td>\n",
       "      <td>78</td>\n",
       "      <td>2018</td>\n",
       "    </tr>\n",
       "    <tr>\n",
       "      <th>178</th>\n",
       "      <td>49</td>\n",
       "      <td>Thunderbird</td>\n",
       "      <td>Holiday World</td>\n",
       "      <td>Santa Claus, Ind.</td>\n",
       "      <td>B&amp;M</td>\n",
       "      <td>2015</td>\n",
       "      <td>72</td>\n",
       "      <td>2018</td>\n",
       "    </tr>\n",
       "    <tr>\n",
       "      <th>179</th>\n",
       "      <td>50</td>\n",
       "      <td>Whizzer</td>\n",
       "      <td>Six Flags Great America</td>\n",
       "      <td>Gurnee, Ill.</td>\n",
       "      <td>Schwarzkopf</td>\n",
       "      <td>1976</td>\n",
       "      <td>70</td>\n",
       "      <td>2018</td>\n",
       "    </tr>\n",
       "  </tbody>\n",
       "</table>\n",
       "<p>180 rows × 8 columns</p>\n",
       "</div>"
      ],
      "text/plain": [
       "     Rank                Name                        Park           Location  \\\n",
       "0       1    Millennium Force                 Cedar Point     Sandusky, Ohio   \n",
       "1       2             Bizarro       Six Flags New England      Agawam, Mass.   \n",
       "2       3  Expedition GeForce                Holiday Park  Hassloch, Germany   \n",
       "3       4               Nitro   Six Flags Great Adventure      Jackson, N.J.   \n",
       "4       5    Apollo's Chariot  Busch Gardens Williamsburg  Williamsburg, Va.   \n",
       "..    ...                 ...                         ...                ...   \n",
       "175    46  Expedition Everest     Disney's Animal Kingdom      Orlando, Fla.   \n",
       "176    47        Storm Chaser            Kentucky Kingdom    Louisville, Ky.   \n",
       "177    48         Raging Bull     Six Flags Great America       Gurnee, Ill.   \n",
       "178    49         Thunderbird               Holiday World  Santa Claus, Ind.   \n",
       "179    50             Whizzer     Six Flags Great America       Gurnee, Ill.   \n",
       "\n",
       "           Supplier  Year Built  Points  Year of Rank  \n",
       "0           Intamin        2000    1204          2013  \n",
       "1           Intamin        2000    1011          2013  \n",
       "2           Intamin        2001     598          2013  \n",
       "3               B&M        2001     596          2013  \n",
       "4               B&M        1999     542          2013  \n",
       "..              ...         ...     ...           ...  \n",
       "175          Vekoma        2006      82          2018  \n",
       "176  Rocky Mountain        2016      81          2018  \n",
       "177             B&M        1999      78          2018  \n",
       "178             B&M        2015      72          2018  \n",
       "179     Schwarzkopf        1976      70          2018  \n",
       "\n",
       "[180 rows x 8 columns]"
      ]
     },
     "execution_count": 5,
     "metadata": {},
     "output_type": "execute_result"
    }
   ],
   "source": [
    "roller_coast_steel"
   ]
  },
  {
   "cell_type": "code",
   "execution_count": 6,
   "metadata": {},
   "outputs": [
    {
     "data": {
      "text/plain": [
       "Rank             int64\n",
       "Name            object\n",
       "Park            object\n",
       "Location        object\n",
       "Supplier        object\n",
       "Year Built       int64\n",
       "Points           int64\n",
       "Year of Rank     int64\n",
       "dtype: object"
      ]
     },
     "execution_count": 6,
     "metadata": {},
     "output_type": "execute_result"
    }
   ],
   "source": [
    "roller_coast_steel.dtypes"
   ]
  },
  {
   "cell_type": "markdown",
   "metadata": {},
   "source": [
    "Information seems to be in the proper place at least at the first glance. Data types seem to be ok for our purposes.\n",
    "\n",
    "1.5. As the next step, we are going to give answers to several questions:\n",
    "- How many roller coasters are included in each ranking dataset? \n",
    "- How many different roller coaster suppliers are included in the rankings? \n",
    "- Do some years include more rankings than other years?"
   ]
  },
  {
   "cell_type": "markdown",
   "metadata": {},
   "source": [
    "1.6. Let's start from the 1st one: how many roller coasters we have? We are going to include only unique rows from the datasets. "
   ]
  },
  {
   "cell_type": "code",
   "execution_count": 7,
   "metadata": {},
   "outputs": [
    {
     "data": {
      "text/plain": [
       "61"
      ]
     },
     "execution_count": 7,
     "metadata": {},
     "output_type": "execute_result"
    }
   ],
   "source": [
    "len(roller_coast_wood.Name.unique())"
   ]
  },
  {
   "cell_type": "code",
   "execution_count": 8,
   "metadata": {},
   "outputs": [
    {
     "data": {
      "text/plain": [
       "63"
      ]
     },
     "execution_count": 8,
     "metadata": {},
     "output_type": "execute_result"
    }
   ],
   "source": [
    "len(roller_coast_steel.Name.unique())"
   ]
  },
  {
   "cell_type": "markdown",
   "metadata": {},
   "source": [
    "- 61 of Wood\n",
    "- 63 of Steel "
   ]
  },
  {
   "cell_type": "markdown",
   "metadata": {},
   "source": [
    "1.7. How many unique suppliers there are? "
   ]
  },
  {
   "cell_type": "code",
   "execution_count": 9,
   "metadata": {},
   "outputs": [
    {
     "data": {
      "text/plain": [
       "33"
      ]
     },
     "execution_count": 9,
     "metadata": {},
     "output_type": "execute_result"
    }
   ],
   "source": [
    "len(roller_coast_wood.Supplier.unique())"
   ]
  },
  {
   "cell_type": "code",
   "execution_count": 10,
   "metadata": {},
   "outputs": [
    {
     "data": {
      "text/plain": [
       "15"
      ]
     },
     "execution_count": 10,
     "metadata": {},
     "output_type": "execute_result"
    }
   ],
   "source": [
    "len(roller_coast_steel.Supplier.unique())"
   ]
  },
  {
   "cell_type": "markdown",
   "metadata": {},
   "source": [
    "- 33 for wooden equipment\n",
    "- 15 for steel"
   ]
  },
  {
   "cell_type": "markdown",
   "metadata": {},
   "source": [
    "1.8. Do some years include more rankings than others?"
   ]
  },
  {
   "cell_type": "code",
   "execution_count": 11,
   "metadata": {},
   "outputs": [
    {
     "data": {
      "text/html": [
       "<div>\n",
       "<style scoped>\n",
       "    .dataframe tbody tr th:only-of-type {\n",
       "        vertical-align: middle;\n",
       "    }\n",
       "\n",
       "    .dataframe tbody tr th {\n",
       "        vertical-align: top;\n",
       "    }\n",
       "\n",
       "    .dataframe thead th {\n",
       "        text-align: right;\n",
       "    }\n",
       "</style>\n",
       "<table border=\"1\" class=\"dataframe\">\n",
       "  <thead>\n",
       "    <tr style=\"text-align: right;\">\n",
       "      <th></th>\n",
       "      <th>Year of Rank</th>\n",
       "      <th>Rank</th>\n",
       "    </tr>\n",
       "  </thead>\n",
       "  <tbody>\n",
       "    <tr>\n",
       "      <th>0</th>\n",
       "      <td>2013</td>\n",
       "      <td>10</td>\n",
       "    </tr>\n",
       "    <tr>\n",
       "      <th>1</th>\n",
       "      <td>2014</td>\n",
       "      <td>10</td>\n",
       "    </tr>\n",
       "    <tr>\n",
       "      <th>2</th>\n",
       "      <td>2015</td>\n",
       "      <td>10</td>\n",
       "    </tr>\n",
       "    <tr>\n",
       "      <th>3</th>\n",
       "      <td>2016</td>\n",
       "      <td>50</td>\n",
       "    </tr>\n",
       "    <tr>\n",
       "      <th>4</th>\n",
       "      <td>2017</td>\n",
       "      <td>50</td>\n",
       "    </tr>\n",
       "    <tr>\n",
       "      <th>5</th>\n",
       "      <td>2018</td>\n",
       "      <td>50</td>\n",
       "    </tr>\n",
       "  </tbody>\n",
       "</table>\n",
       "</div>"
      ],
      "text/plain": [
       "   Year of Rank  Rank\n",
       "0          2013    10\n",
       "1          2014    10\n",
       "2          2015    10\n",
       "3          2016    50\n",
       "4          2017    50\n",
       "5          2018    50"
      ]
     },
     "execution_count": 11,
     "metadata": {},
     "output_type": "execute_result"
    }
   ],
   "source": [
    "roller_coast_wood.groupby('Year of Rank').Rank.count().reset_index()"
   ]
  },
  {
   "cell_type": "markdown",
   "metadata": {},
   "source": [
    "Basically yes,  from 2016 they started to rate 5 times more roller coasters per year, both wooden and steel. "
   ]
  },
  {
   "cell_type": "code",
   "execution_count": 12,
   "metadata": {},
   "outputs": [
    {
     "data": {
      "text/html": [
       "<div>\n",
       "<style scoped>\n",
       "    .dataframe tbody tr th:only-of-type {\n",
       "        vertical-align: middle;\n",
       "    }\n",
       "\n",
       "    .dataframe tbody tr th {\n",
       "        vertical-align: top;\n",
       "    }\n",
       "\n",
       "    .dataframe thead th {\n",
       "        text-align: right;\n",
       "    }\n",
       "</style>\n",
       "<table border=\"1\" class=\"dataframe\">\n",
       "  <thead>\n",
       "    <tr style=\"text-align: right;\">\n",
       "      <th></th>\n",
       "      <th>Year of Rank</th>\n",
       "      <th>Rank</th>\n",
       "    </tr>\n",
       "  </thead>\n",
       "  <tbody>\n",
       "    <tr>\n",
       "      <th>0</th>\n",
       "      <td>2013</td>\n",
       "      <td>10</td>\n",
       "    </tr>\n",
       "    <tr>\n",
       "      <th>1</th>\n",
       "      <td>2014</td>\n",
       "      <td>10</td>\n",
       "    </tr>\n",
       "    <tr>\n",
       "      <th>2</th>\n",
       "      <td>2015</td>\n",
       "      <td>10</td>\n",
       "    </tr>\n",
       "    <tr>\n",
       "      <th>3</th>\n",
       "      <td>2016</td>\n",
       "      <td>50</td>\n",
       "    </tr>\n",
       "    <tr>\n",
       "      <th>4</th>\n",
       "      <td>2017</td>\n",
       "      <td>50</td>\n",
       "    </tr>\n",
       "    <tr>\n",
       "      <th>5</th>\n",
       "      <td>2018</td>\n",
       "      <td>50</td>\n",
       "    </tr>\n",
       "  </tbody>\n",
       "</table>\n",
       "</div>"
      ],
      "text/plain": [
       "   Year of Rank  Rank\n",
       "0          2013    10\n",
       "1          2014    10\n",
       "2          2015    10\n",
       "3          2016    50\n",
       "4          2017    50\n",
       "5          2018    50"
      ]
     },
     "execution_count": 12,
     "metadata": {},
     "output_type": "execute_result"
    }
   ],
   "source": [
    "roller_coast_steel.groupby('Year of Rank').Rank.count().reset_index()"
   ]
  },
  {
   "cell_type": "markdown",
   "metadata": {},
   "source": [
    "1.9. Let's check whether there are ranked roller coasters in Sweden."
   ]
  },
  {
   "cell_type": "code",
   "execution_count": 13,
   "metadata": {},
   "outputs": [],
   "source": [
    "def rl_bylocation(location, dataset):\n",
    "    filtered = dataset[dataset['Location'].str.contains(location)]\n",
    "    return filtered.groupby(['Name', 'Location']).size().reset_index(name= 'Count')"
   ]
  },
  {
   "cell_type": "code",
   "execution_count": 14,
   "metadata": {},
   "outputs": [
    {
     "data": {
      "text/html": [
       "<div>\n",
       "<style scoped>\n",
       "    .dataframe tbody tr th:only-of-type {\n",
       "        vertical-align: middle;\n",
       "    }\n",
       "\n",
       "    .dataframe tbody tr th {\n",
       "        vertical-align: top;\n",
       "    }\n",
       "\n",
       "    .dataframe thead th {\n",
       "        text-align: right;\n",
       "    }\n",
       "</style>\n",
       "<table border=\"1\" class=\"dataframe\">\n",
       "  <thead>\n",
       "    <tr style=\"text-align: right;\">\n",
       "      <th></th>\n",
       "      <th>Name</th>\n",
       "      <th>Location</th>\n",
       "      <th>Count</th>\n",
       "    </tr>\n",
       "  </thead>\n",
       "  <tbody>\n",
       "    <tr>\n",
       "      <th>0</th>\n",
       "      <td>Helix</td>\n",
       "      <td>Gothenburg, Sweden</td>\n",
       "      <td>3</td>\n",
       "    </tr>\n",
       "    <tr>\n",
       "      <th>1</th>\n",
       "      <td>Jetline</td>\n",
       "      <td>Stockholm, Sweden</td>\n",
       "      <td>1</td>\n",
       "    </tr>\n",
       "    <tr>\n",
       "      <th>2</th>\n",
       "      <td>Lisebergbanan</td>\n",
       "      <td>Gothemburg, Sweden</td>\n",
       "      <td>1</td>\n",
       "    </tr>\n",
       "    <tr>\n",
       "      <th>3</th>\n",
       "      <td>Lisebergbanan</td>\n",
       "      <td>Gothenburg, Sweden</td>\n",
       "      <td>2</td>\n",
       "    </tr>\n",
       "  </tbody>\n",
       "</table>\n",
       "</div>"
      ],
      "text/plain": [
       "            Name            Location  Count\n",
       "0          Helix  Gothenburg, Sweden      3\n",
       "1        Jetline   Stockholm, Sweden      1\n",
       "2  Lisebergbanan  Gothemburg, Sweden      1\n",
       "3  Lisebergbanan  Gothenburg, Sweden      2"
      ]
     },
     "execution_count": 14,
     "metadata": {},
     "output_type": "execute_result"
    }
   ],
   "source": [
    "rl_bylocation('Sweden', roller_coast_steel)"
   ]
  },
  {
   "cell_type": "markdown",
   "metadata": {},
   "source": [
    "There is a typo in the name \"Gothenburg\", let's fix it. "
   ]
  },
  {
   "cell_type": "code",
   "execution_count": 15,
   "metadata": {},
   "outputs": [],
   "source": [
    "roller_coast_steel.Location = roller_coast_steel.Location.replace('Gothemburg', 'Gothenburg', regex=True)"
   ]
  },
  {
   "cell_type": "markdown",
   "metadata": {},
   "source": [
    "Checking the results."
   ]
  },
  {
   "cell_type": "code",
   "execution_count": 16,
   "metadata": {},
   "outputs": [
    {
     "data": {
      "text/html": [
       "<div>\n",
       "<style scoped>\n",
       "    .dataframe tbody tr th:only-of-type {\n",
       "        vertical-align: middle;\n",
       "    }\n",
       "\n",
       "    .dataframe tbody tr th {\n",
       "        vertical-align: top;\n",
       "    }\n",
       "\n",
       "    .dataframe thead th {\n",
       "        text-align: right;\n",
       "    }\n",
       "</style>\n",
       "<table border=\"1\" class=\"dataframe\">\n",
       "  <thead>\n",
       "    <tr style=\"text-align: right;\">\n",
       "      <th></th>\n",
       "      <th>Name</th>\n",
       "      <th>Location</th>\n",
       "      <th>Count</th>\n",
       "    </tr>\n",
       "  </thead>\n",
       "  <tbody>\n",
       "    <tr>\n",
       "      <th>0</th>\n",
       "      <td>Helix</td>\n",
       "      <td>Gothenburg, Sweden</td>\n",
       "      <td>3</td>\n",
       "    </tr>\n",
       "    <tr>\n",
       "      <th>1</th>\n",
       "      <td>Jetline</td>\n",
       "      <td>Stockholm, Sweden</td>\n",
       "      <td>1</td>\n",
       "    </tr>\n",
       "    <tr>\n",
       "      <th>2</th>\n",
       "      <td>Lisebergbanan</td>\n",
       "      <td>Gothenburg, Sweden</td>\n",
       "      <td>3</td>\n",
       "    </tr>\n",
       "  </tbody>\n",
       "</table>\n",
       "</div>"
      ],
      "text/plain": [
       "            Name            Location  Count\n",
       "0          Helix  Gothenburg, Sweden      3\n",
       "1        Jetline   Stockholm, Sweden      1\n",
       "2  Lisebergbanan  Gothenburg, Sweden      3"
      ]
     },
     "execution_count": 16,
     "metadata": {},
     "output_type": "execute_result"
    }
   ],
   "source": [
    "rl_bylocation('Sweden', roller_coast_steel)"
   ]
  },
  {
   "cell_type": "markdown",
   "metadata": {},
   "source": [
    "Now we check out wooden roller coasters."
   ]
  },
  {
   "cell_type": "code",
   "execution_count": 17,
   "metadata": {},
   "outputs": [
    {
     "data": {
      "text/html": [
       "<div>\n",
       "<style scoped>\n",
       "    .dataframe tbody tr th:only-of-type {\n",
       "        vertical-align: middle;\n",
       "    }\n",
       "\n",
       "    .dataframe tbody tr th {\n",
       "        vertical-align: top;\n",
       "    }\n",
       "\n",
       "    .dataframe thead th {\n",
       "        text-align: right;\n",
       "    }\n",
       "</style>\n",
       "<table border=\"1\" class=\"dataframe\">\n",
       "  <thead>\n",
       "    <tr style=\"text-align: right;\">\n",
       "      <th></th>\n",
       "      <th>Name</th>\n",
       "      <th>Location</th>\n",
       "      <th>Count</th>\n",
       "    </tr>\n",
       "  </thead>\n",
       "  <tbody>\n",
       "    <tr>\n",
       "      <th>0</th>\n",
       "      <td>Balder</td>\n",
       "      <td>Gothenburg, Sweden</td>\n",
       "      <td>4</td>\n",
       "    </tr>\n",
       "    <tr>\n",
       "      <th>1</th>\n",
       "      <td>Twister</td>\n",
       "      <td>Stockholm, Sweden</td>\n",
       "      <td>2</td>\n",
       "    </tr>\n",
       "    <tr>\n",
       "      <th>2</th>\n",
       "      <td>Wildfire</td>\n",
       "      <td>Norrköping, Sweden</td>\n",
       "      <td>3</td>\n",
       "    </tr>\n",
       "  </tbody>\n",
       "</table>\n",
       "</div>"
      ],
      "text/plain": [
       "       Name            Location  Count\n",
       "0    Balder  Gothenburg, Sweden      4\n",
       "1   Twister   Stockholm, Sweden      2\n",
       "2  Wildfire  Norrköping, Sweden      3"
      ]
     },
     "execution_count": 17,
     "metadata": {},
     "output_type": "execute_result"
    }
   ],
   "source": [
    "rl_bylocation('Sweden', roller_coast_wood)"
   ]
  },
  {
   "cell_type": "markdown",
   "metadata": {},
   "source": [
    "There are 6 roller coasters across Sweden:\n",
    "- 3 steel; \n",
    "- 3 wooden;\n",
    "- 2 in the Stockholm area, where I live."
   ]
  },
  {
   "cell_type": "markdown",
   "metadata": {},
   "source": [
    "1.10. Clean the datasets from issues that have been found during visualisation process below."
   ]
  },
  {
   "cell_type": "code",
   "execution_count": 18,
   "metadata": {},
   "outputs": [],
   "source": [
    "# Add a colon to all data points with such name\n",
    "roller_coast_steel.Name = roller_coast_steel.Name.replace('Superman The Ride', 'Superman: The Ride', regex=True)\n",
    "# Remove article from name \"Voyage\"\n",
    "roller_coast_wood.Name = roller_coast_wood.Name.replace('The Voyage', 'Voyage', regex=True)"
   ]
  },
  {
   "cell_type": "markdown",
   "metadata": {},
   "source": [
    "### 2.  Visualisation Functions\n",
    "\n",
    "#### 2.1. Ranking of 1 \n",
    "\n",
    "2.1.1. Let's write a function that will plot the ranking of a given roller coaster over time as a line. "
   ]
  },
  {
   "cell_type": "code",
   "execution_count": 19,
   "metadata": {},
   "outputs": [],
   "source": [
    "def visualise_r_coaster(dataset, roller_coast_name, location):\n",
    "    # Prepare grid\n",
    "    plt.figure(figsize = (16,9))\n",
    "    sns.set(style='darkgrid',)\n",
    "\n",
    "    # Filter dataset\n",
    "    rcoaster_by_name_loc = dataset[(dataset.Name == roller_coast_name) & (dataset.Location == location)]\n",
    "    # Plot lines\n",
    "    axes = sns.lineplot(data = rcoaster_by_name_loc, x = 'Year of Rank', y = 'Rank', marker = \"o\")\n",
    "\n",
    "    # Invert y values\n",
    "    axes.invert_yaxis()\n",
    "    # Add descriptions\n",
    "    plt.xlabel('Years', fontsize=13)\n",
    "    plt.ylabel('Rank', fontsize=13)\n",
    "    plt.title('Roller Coaster\\'s rank changes over years', fontsize=14)\n",
    "    return plt.show()"
   ]
  },
  {
   "cell_type": "markdown",
   "metadata": {},
   "source": [
    "2.1.2. Let's check it on **\"El Toro\"** in Jackson N.J."
   ]
  },
  {
   "cell_type": "code",
   "execution_count": 20,
   "metadata": {},
   "outputs": [
    {
     "data": {
      "image/png": "[encoded data removed]",
      "text/plain": [
       "<Figure size 1152x648 with 1 Axes>"
      ]
     },
     "metadata": {
      "needs_background": "light"
     },
     "output_type": "display_data"
    }
   ],
   "source": [
    "# Call function\n",
    "visualise_r_coaster(roller_coast_wood, 'El Toro', 'Jackson, N.J.')"
   ]
  },
  {
   "cell_type": "markdown",
   "metadata": {},
   "source": [
    "Considering that Rank has an inverted scale (1 is the best result), we have inverted our y values accordingly. \n",
    "\n",
    "\n",
    "#### 2.2. Ranking of 2 or more \n",
    "\n",
    "2.2.1. Now let's write a function that will plot the ranking of two given roller coasters over time as lines. We are going to take the most popular names of the roller coasters: **'El Toro'** and **'Boulder Dash'**."
   ]
  },
  {
   "cell_type": "code",
   "execution_count": 21,
   "metadata": {},
   "outputs": [],
   "source": [
    "names_list = ['El Toro', 'Boulder Dash'] "
   ]
  },
  {
   "cell_type": "markdown",
   "metadata": {},
   "source": [
    "2.2.2. Let's check what locations we have to specify them for the function. "
   ]
  },
  {
   "cell_type": "code",
   "execution_count": 22,
   "metadata": {},
   "outputs": [
    {
     "data": {
      "text/html": [
       "<div>\n",
       "<style scoped>\n",
       "    .dataframe tbody tr th:only-of-type {\n",
       "        vertical-align: middle;\n",
       "    }\n",
       "\n",
       "    .dataframe tbody tr th {\n",
       "        vertical-align: top;\n",
       "    }\n",
       "\n",
       "    .dataframe thead th {\n",
       "        text-align: right;\n",
       "    }\n",
       "</style>\n",
       "<table border=\"1\" class=\"dataframe\">\n",
       "  <thead>\n",
       "    <tr style=\"text-align: right;\">\n",
       "      <th></th>\n",
       "      <th>Rank</th>\n",
       "      <th>Name</th>\n",
       "      <th>Park</th>\n",
       "      <th>Location</th>\n",
       "      <th>Supplier</th>\n",
       "      <th>Year Built</th>\n",
       "      <th>Points</th>\n",
       "      <th>Year of Rank</th>\n",
       "    </tr>\n",
       "  </thead>\n",
       "  <tbody>\n",
       "    <tr>\n",
       "      <th>0</th>\n",
       "      <td>1</td>\n",
       "      <td>Boulder Dash</td>\n",
       "      <td>Lake Compounce</td>\n",
       "      <td>Bristol, Conn.</td>\n",
       "      <td>CCI</td>\n",
       "      <td>2000</td>\n",
       "      <td>1333</td>\n",
       "      <td>2013</td>\n",
       "    </tr>\n",
       "    <tr>\n",
       "      <th>1</th>\n",
       "      <td>2</td>\n",
       "      <td>El Toro</td>\n",
       "      <td>Six Flags Great Adventure</td>\n",
       "      <td>Jackson, N.J.</td>\n",
       "      <td>Intamin</td>\n",
       "      <td>2006</td>\n",
       "      <td>1302</td>\n",
       "      <td>2013</td>\n",
       "    </tr>\n",
       "    <tr>\n",
       "      <th>10</th>\n",
       "      <td>1</td>\n",
       "      <td>Boulder Dash</td>\n",
       "      <td>Lake Compounce</td>\n",
       "      <td>Bristol, Conn.</td>\n",
       "      <td>CCI</td>\n",
       "      <td>2000</td>\n",
       "      <td>1480</td>\n",
       "      <td>2014</td>\n",
       "    </tr>\n",
       "    <tr>\n",
       "      <th>11</th>\n",
       "      <td>2</td>\n",
       "      <td>El Toro</td>\n",
       "      <td>Six Flags Great Adventure</td>\n",
       "      <td>Jackson, N.J.</td>\n",
       "      <td>Intamin</td>\n",
       "      <td>2006</td>\n",
       "      <td>1291</td>\n",
       "      <td>2014</td>\n",
       "    </tr>\n",
       "    <tr>\n",
       "      <th>20</th>\n",
       "      <td>1</td>\n",
       "      <td>Boulder Dash</td>\n",
       "      <td>Lake Compounce</td>\n",
       "      <td>Bristol, Conn.</td>\n",
       "      <td>CCI</td>\n",
       "      <td>2000</td>\n",
       "      <td>1625</td>\n",
       "      <td>2015</td>\n",
       "    </tr>\n",
       "    <tr>\n",
       "      <th>21</th>\n",
       "      <td>2</td>\n",
       "      <td>El Toro</td>\n",
       "      <td>Six Flags Great Adventure</td>\n",
       "      <td>Jackson, N.J.</td>\n",
       "      <td>Intamin</td>\n",
       "      <td>2006</td>\n",
       "      <td>1464</td>\n",
       "      <td>2015</td>\n",
       "    </tr>\n",
       "    <tr>\n",
       "      <th>30</th>\n",
       "      <td>1</td>\n",
       "      <td>Boulder Dash</td>\n",
       "      <td>Lake Compounce</td>\n",
       "      <td>Bristol, Conn.</td>\n",
       "      <td>Custom Coasters</td>\n",
       "      <td>2000</td>\n",
       "      <td>1216</td>\n",
       "      <td>2016</td>\n",
       "    </tr>\n",
       "    <tr>\n",
       "      <th>32</th>\n",
       "      <td>3</td>\n",
       "      <td>El Toro</td>\n",
       "      <td>Six Flags Great Adventure</td>\n",
       "      <td>Jackson, N.J.</td>\n",
       "      <td>Intamin</td>\n",
       "      <td>2006</td>\n",
       "      <td>1121</td>\n",
       "      <td>2016</td>\n",
       "    </tr>\n",
       "    <tr>\n",
       "      <th>55</th>\n",
       "      <td>25</td>\n",
       "      <td>El Toro</td>\n",
       "      <td>Freitzeitpark Plohn</td>\n",
       "      <td>Legendfeld, Germany</td>\n",
       "      <td>Great Coasters Int.</td>\n",
       "      <td>2009</td>\n",
       "      <td>166</td>\n",
       "      <td>2016</td>\n",
       "    </tr>\n",
       "    <tr>\n",
       "      <th>80</th>\n",
       "      <td>1</td>\n",
       "      <td>El Toro</td>\n",
       "      <td>Six Flags Great Adventure</td>\n",
       "      <td>Jackson, N.J.</td>\n",
       "      <td>Intamin</td>\n",
       "      <td>2009</td>\n",
       "      <td>1241</td>\n",
       "      <td>2017</td>\n",
       "    </tr>\n",
       "    <tr>\n",
       "      <th>82</th>\n",
       "      <td>3</td>\n",
       "      <td>Boulder Dash</td>\n",
       "      <td>Lake Compounce</td>\n",
       "      <td>Bristol, Conn.</td>\n",
       "      <td>Custom Coasters</td>\n",
       "      <td>2000</td>\n",
       "      <td>1171</td>\n",
       "      <td>2017</td>\n",
       "    </tr>\n",
       "    <tr>\n",
       "      <th>120</th>\n",
       "      <td>41</td>\n",
       "      <td>El Toro</td>\n",
       "      <td>Freitzeitpark Plohn</td>\n",
       "      <td>Legendfeld, Germany</td>\n",
       "      <td>Great Coasters Int.</td>\n",
       "      <td>2006</td>\n",
       "      <td>92</td>\n",
       "      <td>2017</td>\n",
       "    </tr>\n",
       "    <tr>\n",
       "      <th>131</th>\n",
       "      <td>2</td>\n",
       "      <td>El Toro</td>\n",
       "      <td>Six Flags Great Adventure</td>\n",
       "      <td>Jackson, N.J.</td>\n",
       "      <td>Intamin</td>\n",
       "      <td>2006</td>\n",
       "      <td>1197</td>\n",
       "      <td>2018</td>\n",
       "    </tr>\n",
       "    <tr>\n",
       "      <th>133</th>\n",
       "      <td>4</td>\n",
       "      <td>Boulder Dash</td>\n",
       "      <td>Lake Compounce</td>\n",
       "      <td>Bristol, Conn.</td>\n",
       "      <td>Custom Coasters</td>\n",
       "      <td>2000</td>\n",
       "      <td>982</td>\n",
       "      <td>2018</td>\n",
       "    </tr>\n",
       "  </tbody>\n",
       "</table>\n",
       "</div>"
      ],
      "text/plain": [
       "     Rank          Name                       Park             Location  \\\n",
       "0       1  Boulder Dash             Lake Compounce       Bristol, Conn.   \n",
       "1       2       El Toro  Six Flags Great Adventure        Jackson, N.J.   \n",
       "10      1  Boulder Dash             Lake Compounce       Bristol, Conn.   \n",
       "11      2       El Toro  Six Flags Great Adventure        Jackson, N.J.   \n",
       "20      1  Boulder Dash             Lake Compounce       Bristol, Conn.   \n",
       "21      2       El Toro  Six Flags Great Adventure        Jackson, N.J.   \n",
       "30      1  Boulder Dash             Lake Compounce       Bristol, Conn.   \n",
       "32      3       El Toro  Six Flags Great Adventure        Jackson, N.J.   \n",
       "55     25       El Toro        Freitzeitpark Plohn  Legendfeld, Germany   \n",
       "80      1       El Toro  Six Flags Great Adventure        Jackson, N.J.   \n",
       "82      3  Boulder Dash             Lake Compounce       Bristol, Conn.   \n",
       "120    41       El Toro        Freitzeitpark Plohn  Legendfeld, Germany   \n",
       "131     2       El Toro  Six Flags Great Adventure        Jackson, N.J.   \n",
       "133     4  Boulder Dash             Lake Compounce       Bristol, Conn.   \n",
       "\n",
       "                Supplier  Year Built  Points  Year of Rank  \n",
       "0                    CCI        2000    1333          2013  \n",
       "1                Intamin        2006    1302          2013  \n",
       "10                   CCI        2000    1480          2014  \n",
       "11               Intamin        2006    1291          2014  \n",
       "20                   CCI        2000    1625          2015  \n",
       "21               Intamin        2006    1464          2015  \n",
       "30       Custom Coasters        2000    1216          2016  \n",
       "32               Intamin        2006    1121          2016  \n",
       "55   Great Coasters Int.        2009     166          2016  \n",
       "80               Intamin        2009    1241          2017  \n",
       "82       Custom Coasters        2000    1171          2017  \n",
       "120  Great Coasters Int.        2006      92          2017  \n",
       "131              Intamin        2006    1197          2018  \n",
       "133      Custom Coasters        2000     982          2018  "
      ]
     },
     "execution_count": 22,
     "metadata": {},
     "output_type": "execute_result"
    }
   ],
   "source": [
    "roller_coast_wood[roller_coast_wood.Name.isin(names_list)]"
   ]
  },
  {
   "cell_type": "markdown",
   "metadata": {},
   "source": [
    "2.2.3. We can go with **'Jackson, N.J.'** and **'Bristol, Conn.'**"
   ]
  },
  {
   "cell_type": "code",
   "execution_count": 23,
   "metadata": {},
   "outputs": [],
   "source": [
    "locations_list = ['Jackson, N.J.', 'Bristol, Conn.']"
   ]
  },
  {
   "cell_type": "markdown",
   "metadata": {},
   "source": [
    "2.2.4. Now the function."
   ]
  },
  {
   "cell_type": "code",
   "execution_count": 24,
   "metadata": {},
   "outputs": [],
   "source": [
    "def visualise_r_coasters(dataset, names_list, locations_list):\n",
    "    # Prepare grid\n",
    "    plt.figure(figsize = (16,9))\n",
    "    sns.set(style='darkgrid',)\n",
    "\n",
    "    # Palette set up\n",
    "    colors = sns.color_palette(\"husl\", 9)\n",
    "    customPalette = sns.set_palette(sns.color_palette(colors))\n",
    "\n",
    "    # Filter dataset\n",
    "    rcoaster_by_name_loc = dataset[(dataset.Name.isin(names_list)) & (dataset.Location.isin(locations_list))]\n",
    "    # Plot lines\n",
    "    axes = sns.lineplot(data = rcoaster_by_name_loc, x = 'Year of Rank', y = 'Rank', hue= 'Location', style= 'Name', palette = customPalette, markers=True)\n",
    "    \n",
    "    # Invert y values\n",
    "    axes.invert_yaxis()\n",
    "    # Add descriptions\n",
    "    plt.xlabel('Years', fontsize=13)\n",
    "    plt.ylabel('Rank', fontsize=13)\n",
    "    plt.title('Roller Coaster\\'s rank changes over years', fontsize=14)\n",
    "    return plt.show()\n"
   ]
  },
  {
   "cell_type": "code",
   "execution_count": 25,
   "metadata": {},
   "outputs": [
    {
     "data": {
      "image/png": "[encoded data removed]",
      "text/plain": [
       "<Figure size 1152x648 with 1 Axes>"
      ]
     },
     "metadata": {},
     "output_type": "display_data"
    }
   ],
   "source": [
    "# Call function\n",
    "visualise_r_coasters(roller_coast_wood, names_list, locations_list)"
   ]
  },
  {
   "cell_type": "markdown",
   "metadata": {},
   "source": [
    "We can also add **\"El Toro\"** park in Germany to at least explore the possibility."
   ]
  },
  {
   "cell_type": "code",
   "execution_count": 26,
   "metadata": {},
   "outputs": [
    {
     "data": {
      "image/png": "[encoded data removed]",
      "text/plain": [
       "<Figure size 1152x648 with 1 Axes>"
      ]
     },
     "metadata": {},
     "output_type": "display_data"
    }
   ],
   "source": [
    "locations_list = ['Jackson, N.J.', 'Bristol, Conn.', 'Legendfeld, Germany']\n",
    "visualise_r_coasters(roller_coast_wood, names_list, locations_list)"
   ]
  },
  {
   "cell_type": "markdown",
   "metadata": {},
   "source": [
    "We have to admit that the last german coaster looks a bit out of place here without normalisation. Though normalisation is not a good variant if we want to see actual Ranks. Let's try to filter coasters with similar ranks to have a better understanding of the Rank fluctuations."
   ]
  },
  {
   "cell_type": "markdown",
   "metadata": {},
   "source": [
    "#### 2.3. Ranking of top `n`\n",
    "Now we are going to write a function that will plot the ranking of the top `n` ranked roller coasters over time as lines. Due to the fact that several roller coasters can have the same Rank, but in different years we'll see more than exactly `n` coasters on the graph. "
   ]
  },
  {
   "cell_type": "markdown",
   "metadata": {},
   "source": [
    "2.3.1. So let's check how many roller coasters we should display on the graph, just in case. "
   ]
  },
  {
   "cell_type": "code",
   "execution_count": 27,
   "metadata": {},
   "outputs": [
    {
     "data": {
      "text/html": [
       "<div>\n",
       "<style scoped>\n",
       "    .dataframe tbody tr th:only-of-type {\n",
       "        vertical-align: middle;\n",
       "    }\n",
       "\n",
       "    .dataframe tbody tr th {\n",
       "        vertical-align: top;\n",
       "    }\n",
       "\n",
       "    .dataframe thead th {\n",
       "        text-align: right;\n",
       "    }\n",
       "</style>\n",
       "<table border=\"1\" class=\"dataframe\">\n",
       "  <thead>\n",
       "    <tr style=\"text-align: right;\">\n",
       "      <th></th>\n",
       "      <th>Rank</th>\n",
       "      <th>Name</th>\n",
       "      <th>Park</th>\n",
       "      <th>Location</th>\n",
       "      <th>Supplier</th>\n",
       "      <th>Year Built</th>\n",
       "      <th>Points</th>\n",
       "      <th>Year of Rank</th>\n",
       "    </tr>\n",
       "  </thead>\n",
       "  <tbody>\n",
       "    <tr>\n",
       "      <th>0</th>\n",
       "      <td>1</td>\n",
       "      <td>Millennium Force</td>\n",
       "      <td>Cedar Point</td>\n",
       "      <td>Sandusky, Ohio</td>\n",
       "      <td>Intamin</td>\n",
       "      <td>2000</td>\n",
       "      <td>1204</td>\n",
       "      <td>2013</td>\n",
       "    </tr>\n",
       "    <tr>\n",
       "      <th>1</th>\n",
       "      <td>2</td>\n",
       "      <td>Bizarro</td>\n",
       "      <td>Six Flags New England</td>\n",
       "      <td>Agawam, Mass.</td>\n",
       "      <td>Intamin</td>\n",
       "      <td>2000</td>\n",
       "      <td>1011</td>\n",
       "      <td>2013</td>\n",
       "    </tr>\n",
       "    <tr>\n",
       "      <th>2</th>\n",
       "      <td>3</td>\n",
       "      <td>Expedition GeForce</td>\n",
       "      <td>Holiday Park</td>\n",
       "      <td>Hassloch, Germany</td>\n",
       "      <td>Intamin</td>\n",
       "      <td>2001</td>\n",
       "      <td>598</td>\n",
       "      <td>2013</td>\n",
       "    </tr>\n",
       "    <tr>\n",
       "      <th>3</th>\n",
       "      <td>4</td>\n",
       "      <td>Nitro</td>\n",
       "      <td>Six Flags Great Adventure</td>\n",
       "      <td>Jackson, N.J.</td>\n",
       "      <td>B&amp;M</td>\n",
       "      <td>2001</td>\n",
       "      <td>596</td>\n",
       "      <td>2013</td>\n",
       "    </tr>\n",
       "    <tr>\n",
       "      <th>4</th>\n",
       "      <td>5</td>\n",
       "      <td>Apollo's Chariot</td>\n",
       "      <td>Busch Gardens Williamsburg</td>\n",
       "      <td>Williamsburg, Va.</td>\n",
       "      <td>B&amp;M</td>\n",
       "      <td>1999</td>\n",
       "      <td>542</td>\n",
       "      <td>2013</td>\n",
       "    </tr>\n",
       "    <tr>\n",
       "      <th>10</th>\n",
       "      <td>1</td>\n",
       "      <td>Millennium Force</td>\n",
       "      <td>Cedar Point</td>\n",
       "      <td>Sandusky, Ohio</td>\n",
       "      <td>Intamin</td>\n",
       "      <td>2000</td>\n",
       "      <td>1139</td>\n",
       "      <td>2014</td>\n",
       "    </tr>\n",
       "    <tr>\n",
       "      <th>11</th>\n",
       "      <td>2</td>\n",
       "      <td>Bizarro</td>\n",
       "      <td>Six Flags New England</td>\n",
       "      <td>Agawam, Mass.</td>\n",
       "      <td>Intamin</td>\n",
       "      <td>2000</td>\n",
       "      <td>1049</td>\n",
       "      <td>2014</td>\n",
       "    </tr>\n",
       "    <tr>\n",
       "      <th>12</th>\n",
       "      <td>3</td>\n",
       "      <td>Expedition GeForce</td>\n",
       "      <td>Holiday Park</td>\n",
       "      <td>Hassloch, Germany</td>\n",
       "      <td>Intamin</td>\n",
       "      <td>2001</td>\n",
       "      <td>764</td>\n",
       "      <td>2014</td>\n",
       "    </tr>\n",
       "    <tr>\n",
       "      <th>13</th>\n",
       "      <td>4</td>\n",
       "      <td>Diamondback</td>\n",
       "      <td>Kings Island</td>\n",
       "      <td>Mason, Ohio</td>\n",
       "      <td>B&amp;M</td>\n",
       "      <td>2009</td>\n",
       "      <td>579</td>\n",
       "      <td>2014</td>\n",
       "    </tr>\n",
       "    <tr>\n",
       "      <th>14</th>\n",
       "      <td>5</td>\n",
       "      <td>Nitro</td>\n",
       "      <td>Six Flags Great Adventure</td>\n",
       "      <td>Jackson, N.J.</td>\n",
       "      <td>B&amp;M</td>\n",
       "      <td>2001</td>\n",
       "      <td>563</td>\n",
       "      <td>2014</td>\n",
       "    </tr>\n",
       "    <tr>\n",
       "      <th>20</th>\n",
       "      <td>1</td>\n",
       "      <td>Millennium Force</td>\n",
       "      <td>Cedar Point</td>\n",
       "      <td>Sandusky, Ohio</td>\n",
       "      <td>Intamin</td>\n",
       "      <td>2000</td>\n",
       "      <td>1205</td>\n",
       "      <td>2015</td>\n",
       "    </tr>\n",
       "    <tr>\n",
       "      <th>21</th>\n",
       "      <td>2</td>\n",
       "      <td>Bizarro</td>\n",
       "      <td>Six Flags New England</td>\n",
       "      <td>Agawam, Mass.</td>\n",
       "      <td>Intamin</td>\n",
       "      <td>2000</td>\n",
       "      <td>929</td>\n",
       "      <td>2015</td>\n",
       "    </tr>\n",
       "    <tr>\n",
       "      <th>22</th>\n",
       "      <td>3</td>\n",
       "      <td>Expedition GeForce</td>\n",
       "      <td>Holiday Park</td>\n",
       "      <td>Hassloch, Germany</td>\n",
       "      <td>Intamin</td>\n",
       "      <td>2001</td>\n",
       "      <td>714</td>\n",
       "      <td>2015</td>\n",
       "    </tr>\n",
       "    <tr>\n",
       "      <th>23</th>\n",
       "      <td>4</td>\n",
       "      <td>Fury 325</td>\n",
       "      <td>Carowinds</td>\n",
       "      <td>Charlotte, N.C.</td>\n",
       "      <td>B&amp;M</td>\n",
       "      <td>2015</td>\n",
       "      <td>671</td>\n",
       "      <td>2015</td>\n",
       "    </tr>\n",
       "    <tr>\n",
       "      <th>24</th>\n",
       "      <td>5</td>\n",
       "      <td>Nitro</td>\n",
       "      <td>Six Flags Great Adventure</td>\n",
       "      <td>Jackson, N.J.</td>\n",
       "      <td>B&amp;M</td>\n",
       "      <td>2001</td>\n",
       "      <td>650</td>\n",
       "      <td>2015</td>\n",
       "    </tr>\n",
       "    <tr>\n",
       "      <th>30</th>\n",
       "      <td>1</td>\n",
       "      <td>Fury 325</td>\n",
       "      <td>Carowinds</td>\n",
       "      <td>Charlotte, N.C.</td>\n",
       "      <td>B&amp;M</td>\n",
       "      <td>2015</td>\n",
       "      <td>1126</td>\n",
       "      <td>2016</td>\n",
       "    </tr>\n",
       "    <tr>\n",
       "      <th>31</th>\n",
       "      <td>2</td>\n",
       "      <td>Millennium Force</td>\n",
       "      <td>Cedar Point</td>\n",
       "      <td>Sandusky, Ohio</td>\n",
       "      <td>Intamin</td>\n",
       "      <td>2000</td>\n",
       "      <td>1122</td>\n",
       "      <td>2016</td>\n",
       "    </tr>\n",
       "    <tr>\n",
       "      <th>32</th>\n",
       "      <td>3</td>\n",
       "      <td>Superman: The Ride</td>\n",
       "      <td>Six Flags New England</td>\n",
       "      <td>Agawam, Mass.</td>\n",
       "      <td>Intamin</td>\n",
       "      <td>2000</td>\n",
       "      <td>698</td>\n",
       "      <td>2016</td>\n",
       "    </tr>\n",
       "    <tr>\n",
       "      <th>33</th>\n",
       "      <td>4</td>\n",
       "      <td>Expedition GeForce</td>\n",
       "      <td>Holiday Park</td>\n",
       "      <td>Hassloch, Germany</td>\n",
       "      <td>Intamin</td>\n",
       "      <td>2001</td>\n",
       "      <td>613</td>\n",
       "      <td>2016</td>\n",
       "    </tr>\n",
       "    <tr>\n",
       "      <th>34</th>\n",
       "      <td>5</td>\n",
       "      <td>Nitro</td>\n",
       "      <td>Six Flags Great Adventure</td>\n",
       "      <td>Jackson, N.J.</td>\n",
       "      <td>B&amp;M</td>\n",
       "      <td>2001</td>\n",
       "      <td>454</td>\n",
       "      <td>2016</td>\n",
       "    </tr>\n",
       "    <tr>\n",
       "      <th>80</th>\n",
       "      <td>1</td>\n",
       "      <td>Fury 325</td>\n",
       "      <td>Carowinds</td>\n",
       "      <td>Charlotte, N.C.</td>\n",
       "      <td>B&amp;M</td>\n",
       "      <td>2015</td>\n",
       "      <td>1354</td>\n",
       "      <td>2017</td>\n",
       "    </tr>\n",
       "    <tr>\n",
       "      <th>81</th>\n",
       "      <td>2</td>\n",
       "      <td>Millennium Force</td>\n",
       "      <td>Cedar Point</td>\n",
       "      <td>Sandusky, Ohio</td>\n",
       "      <td>Intamin</td>\n",
       "      <td>2000</td>\n",
       "      <td>1129</td>\n",
       "      <td>2017</td>\n",
       "    </tr>\n",
       "    <tr>\n",
       "      <th>82</th>\n",
       "      <td>3</td>\n",
       "      <td>Superman: The Ride</td>\n",
       "      <td>Six Flags New England</td>\n",
       "      <td>Agawam, Mass.</td>\n",
       "      <td>Intamin</td>\n",
       "      <td>2000</td>\n",
       "      <td>705</td>\n",
       "      <td>2017</td>\n",
       "    </tr>\n",
       "    <tr>\n",
       "      <th>83</th>\n",
       "      <td>4</td>\n",
       "      <td>Iron Rattler</td>\n",
       "      <td>Six Flags Fiesta Texas</td>\n",
       "      <td>San Antonio, Texas</td>\n",
       "      <td>RMC</td>\n",
       "      <td>2013</td>\n",
       "      <td>657</td>\n",
       "      <td>2017</td>\n",
       "    </tr>\n",
       "    <tr>\n",
       "      <th>84</th>\n",
       "      <td>5</td>\n",
       "      <td>Expedition GeForce</td>\n",
       "      <td>Holiday Park</td>\n",
       "      <td>Hassloch, Germany</td>\n",
       "      <td>Intamin</td>\n",
       "      <td>2001</td>\n",
       "      <td>575</td>\n",
       "      <td>2017</td>\n",
       "    </tr>\n",
       "    <tr>\n",
       "      <th>130</th>\n",
       "      <td>1</td>\n",
       "      <td>Fury 325</td>\n",
       "      <td>Carowinds</td>\n",
       "      <td>Charlotte, N.C.</td>\n",
       "      <td>B&amp;M</td>\n",
       "      <td>2015</td>\n",
       "      <td>1222</td>\n",
       "      <td>2018</td>\n",
       "    </tr>\n",
       "    <tr>\n",
       "      <th>131</th>\n",
       "      <td>2</td>\n",
       "      <td>Millennium Force</td>\n",
       "      <td>Cedar Point</td>\n",
       "      <td>Sandusky, Ohio</td>\n",
       "      <td>Intamin</td>\n",
       "      <td>2000</td>\n",
       "      <td>1156</td>\n",
       "      <td>2018</td>\n",
       "    </tr>\n",
       "    <tr>\n",
       "      <th>132</th>\n",
       "      <td>3</td>\n",
       "      <td>Steel Vengeance</td>\n",
       "      <td>Cedar Point</td>\n",
       "      <td>Sandusky, Ohio</td>\n",
       "      <td>Rocky Mountain</td>\n",
       "      <td>2018</td>\n",
       "      <td>829</td>\n",
       "      <td>2018</td>\n",
       "    </tr>\n",
       "    <tr>\n",
       "      <th>133</th>\n",
       "      <td>4</td>\n",
       "      <td>Expedition GeForce</td>\n",
       "      <td>Holiday Park</td>\n",
       "      <td>Hassloch, Germany</td>\n",
       "      <td>Intamin</td>\n",
       "      <td>2001</td>\n",
       "      <td>540</td>\n",
       "      <td>2018</td>\n",
       "    </tr>\n",
       "    <tr>\n",
       "      <th>134</th>\n",
       "      <td>5</td>\n",
       "      <td>Superman: The Ride</td>\n",
       "      <td>Six Flags New England</td>\n",
       "      <td>Agawam, Mass.</td>\n",
       "      <td>Intamin</td>\n",
       "      <td>2000</td>\n",
       "      <td>535</td>\n",
       "      <td>2018</td>\n",
       "    </tr>\n",
       "  </tbody>\n",
       "</table>\n",
       "</div>"
      ],
      "text/plain": [
       "     Rank                Name                        Park            Location  \\\n",
       "0       1    Millennium Force                 Cedar Point      Sandusky, Ohio   \n",
       "1       2             Bizarro       Six Flags New England       Agawam, Mass.   \n",
       "2       3  Expedition GeForce                Holiday Park   Hassloch, Germany   \n",
       "3       4               Nitro   Six Flags Great Adventure       Jackson, N.J.   \n",
       "4       5    Apollo's Chariot  Busch Gardens Williamsburg   Williamsburg, Va.   \n",
       "10      1    Millennium Force                 Cedar Point      Sandusky, Ohio   \n",
       "11      2             Bizarro       Six Flags New England       Agawam, Mass.   \n",
       "12      3  Expedition GeForce                Holiday Park   Hassloch, Germany   \n",
       "13      4         Diamondback                Kings Island         Mason, Ohio   \n",
       "14      5               Nitro   Six Flags Great Adventure       Jackson, N.J.   \n",
       "20      1    Millennium Force                 Cedar Point      Sandusky, Ohio   \n",
       "21      2             Bizarro       Six Flags New England       Agawam, Mass.   \n",
       "22      3  Expedition GeForce                Holiday Park   Hassloch, Germany   \n",
       "23      4            Fury 325                   Carowinds     Charlotte, N.C.   \n",
       "24      5               Nitro   Six Flags Great Adventure       Jackson, N.J.   \n",
       "30      1            Fury 325                   Carowinds     Charlotte, N.C.   \n",
       "31      2    Millennium Force                 Cedar Point      Sandusky, Ohio   \n",
       "32      3  Superman: The Ride       Six Flags New England       Agawam, Mass.   \n",
       "33      4  Expedition GeForce                Holiday Park   Hassloch, Germany   \n",
       "34      5               Nitro   Six Flags Great Adventure       Jackson, N.J.   \n",
       "80      1            Fury 325                   Carowinds     Charlotte, N.C.   \n",
       "81      2    Millennium Force                 Cedar Point      Sandusky, Ohio   \n",
       "82      3  Superman: The Ride       Six Flags New England       Agawam, Mass.   \n",
       "83      4        Iron Rattler      Six Flags Fiesta Texas  San Antonio, Texas   \n",
       "84      5  Expedition GeForce                Holiday Park   Hassloch, Germany   \n",
       "130     1            Fury 325                   Carowinds     Charlotte, N.C.   \n",
       "131     2    Millennium Force                 Cedar Point      Sandusky, Ohio   \n",
       "132     3     Steel Vengeance                 Cedar Point      Sandusky, Ohio   \n",
       "133     4  Expedition GeForce                Holiday Park   Hassloch, Germany   \n",
       "134     5  Superman: The Ride       Six Flags New England       Agawam, Mass.   \n",
       "\n",
       "           Supplier  Year Built  Points  Year of Rank  \n",
       "0           Intamin        2000    1204          2013  \n",
       "1           Intamin        2000    1011          2013  \n",
       "2           Intamin        2001     598          2013  \n",
       "3               B&M        2001     596          2013  \n",
       "4               B&M        1999     542          2013  \n",
       "10          Intamin        2000    1139          2014  \n",
       "11          Intamin        2000    1049          2014  \n",
       "12          Intamin        2001     764          2014  \n",
       "13              B&M        2009     579          2014  \n",
       "14              B&M        2001     563          2014  \n",
       "20          Intamin        2000    1205          2015  \n",
       "21          Intamin        2000     929          2015  \n",
       "22          Intamin        2001     714          2015  \n",
       "23              B&M        2015     671          2015  \n",
       "24              B&M        2001     650          2015  \n",
       "30              B&M        2015    1126          2016  \n",
       "31          Intamin        2000    1122          2016  \n",
       "32          Intamin        2000     698          2016  \n",
       "33          Intamin        2001     613          2016  \n",
       "34              B&M        2001     454          2016  \n",
       "80              B&M        2015    1354          2017  \n",
       "81          Intamin        2000    1129          2017  \n",
       "82          Intamin        2000     705          2017  \n",
       "83              RMC        2013     657          2017  \n",
       "84          Intamin        2001     575          2017  \n",
       "130             B&M        2015    1222          2018  \n",
       "131         Intamin        2000    1156          2018  \n",
       "132  Rocky Mountain        2018     829          2018  \n",
       "133         Intamin        2001     540          2018  \n",
       "134         Intamin        2000     535          2018  "
      ]
     },
     "execution_count": 27,
     "metadata": {},
     "output_type": "execute_result"
    }
   ],
   "source": [
    "roller_coast_steel[roller_coast_steel.Rank <= 5]"
   ]
  },
  {
   "cell_type": "markdown",
   "metadata": {},
   "source": [
    "There are many locations and roller coasters here, there is a chance that it will look messy on the graph, but let's give it a chance. \n",
    "\n",
    "2.3.2. Now we are going to write the function. "
   ]
  },
  {
   "cell_type": "code",
   "execution_count": 28,
   "metadata": {},
   "outputs": [],
   "source": [
    "def visualise_top_n(dataset, n):\n",
    "    # Prepare grid\n",
    "    plt.figure(figsize = (16,9))\n",
    "    sns.set(style='darkgrid',)\n",
    "\n",
    "    # Palette set up\n",
    "    colors = sns.color_palette(\"colorblind\")\n",
    "    customPalette = sns.set_palette(sns.color_palette(colors))\n",
    "\n",
    "    # Filter dataset\n",
    "    rcoaster_by_rank = dataset[dataset.Rank <= n]\n",
    "    # Plot lines\n",
    "    axes = sns.lineplot(\n",
    "        data=rcoaster_by_rank,\n",
    "        x='Year of Rank',\n",
    "        y='Rank',\n",
    "        hue='Location',\n",
    "        style='Name',\n",
    "        palette=(customPalette),\n",
    "        markers=True,\n",
    "        markersize=20,\n",
    "        dashes=False,\n",
    "        linewidth=1,\n",
    "    )\n",
    "    \n",
    "    # Invert y values\n",
    "    axes.invert_yaxis()\n",
    "    # Add descriptions\n",
    "    plt.xlabel('Years', fontsize='large')\n",
    "    plt.ylabel('Rank', fontsize='large')\n",
    "    plt.title('Roller Coaster\\'s rank changes over years', fontsize='x-large')\n",
    "    \n",
    "    # Add legend\n",
    "    leg = plt.legend(\n",
    "        loc='upper right', \n",
    "        bbox_to_anchor=(1.19, 1, 0.04, 0.01), \n",
    "        fontsize='large', \n",
    "        markerscale=2.5 \n",
    "        )\n",
    "    # Set up line width for legend\n",
    "    for legobj in leg.legendHandles:\n",
    "        legobj.set_linewidth(4.0)\n",
    "\n",
    "    return plt.show()\n",
    "    "
   ]
  },
  {
   "cell_type": "markdown",
   "metadata": {},
   "source": [
    "We had to tweak many parameters to get markers and colours as distinctive as possible."
   ]
  },
  {
   "cell_type": "markdown",
   "metadata": {},
   "source": [
    "2.3.3. Let's visualise coasters with the Rank 5 and higher in different places. "
   ]
  },
  {
   "cell_type": "code",
   "execution_count": 29,
   "metadata": {},
   "outputs": [
    {
     "data": {
      "image/png": "[encoded data removed]",
      "text/plain": [
       "<Figure size 1152x648 with 1 Axes>"
      ]
     },
     "metadata": {},
     "output_type": "display_data"
    }
   ],
   "source": [
    "visualise_top_n(roller_coast_steel, 5)"
   ]
  },
  {
   "cell_type": "markdown",
   "metadata": {},
   "source": [
    " Note: We had found 2 **'Superman: The Ride'** with and without colon at the same location on our graph when called the function for the first time, to fix the issue without taking space we performed a fix at the first part of the project, check out item 1.10. "
   ]
  },
  {
   "cell_type": "markdown",
   "metadata": {},
   "source": [
    "Summary (steel roller coasters): \n",
    "\n",
    "- 9 out of 10 roller coasters with the best Ranks are located in the **US**. \n",
    "- The only exception is *`\"Expedition GeForce\"`* located in **Hassloch, Germany**, with a Ranks of around 3-5 over the period from 2013 to 2018.\n",
    "- The best steel roller coaster over the period from 2016 to 2018 is *`\"Fury 325\"`* and it's located in **Charlotte, N.C**. It is also unique in its impressive Rank leap from the 4th in 2015 to the 1st in 2016.\n",
    "- Fair share of success has *`\"Millennium Force\"`* in **Sandusky, Ohio**. It had been an absolute leader in 2013-2015 before it was shifted to Rank 2 in 2016-2018. \n",
    "- *`\"Bizzaro\"`*, located in **Agawam, Massachusetts**, with its firm Rank 2 in 2013-15 vanished from the leaderboard afterwards.\n",
    "- *`\"Superman: The Ride\"`* also in **Agawam, Massachusetts**. had been having Rank 3 in 2016-2017 but was shifted to Rank 5 in the next year. \n",
    "- *`\"Steel Vengeance\"`* also located in **Sandusky, Ohio**, had managed to sparkle once on the 3d Rank in 2018 before data in this set ran out. \n",
    "- *`\"Diamondback\"`* and *`\"Iron Rattler\"`* in **Mason, Ohio** and **San Antonio, Texas**, respectively, appeared once on the Rank 4. \n",
    "- *`\"Nitro\"`* in *Jackson, N.J.*, had been having Ranks 4-5 during years 2013-2016, but then also vanished from the leader board. \n",
    "- *`\"Apollo's Chariot\"`* in **Williamsburg, Virginia**, got itself Rank 5 in 2013 and then had been shifted from the leaderboard below."
   ]
  },
  {
   "cell_type": "markdown",
   "metadata": {},
   "source": [
    "2.3.4. Let's check the wooden coasters. "
   ]
  },
  {
   "cell_type": "code",
   "execution_count": 30,
   "metadata": {},
   "outputs": [
    {
     "data": {
      "image/png": "[encoded data removed]",
      "text/plain": [
       "<Figure size 1152x648 with 1 Axes>"
      ]
     },
     "metadata": {},
     "output_type": "display_data"
    }
   ],
   "source": [
    "# Call function\n",
    "visualise_top_n(roller_coast_wood, 5)"
   ]
  },
  {
   "cell_type": "markdown",
   "metadata": {},
   "source": [
    "Note: we did the same type of correction for duplicates with and without \"the\" for the roller coaster with the name \"Voyage\" in item 1.10."
   ]
  },
  {
   "cell_type": "markdown",
   "metadata": {},
   "source": [
    "Summary (wooden roller coasters): \n",
    "\n",
    "- Wooden roller coasters with the highest Ranks are located exceptionally in the **US**, at least according to this dataset.\n",
    "- *`\"Boulder Dash\"`* in **Bristol, Connecticut**, have been getting Rank 1 during years 2013-2016 but then had been lowered to the Rank 3 in the 2017th and to Rank 4th year after.\n",
    "- Not so dramatic but also a bumpy path of success has *`\"El Toro\"`*, located in **Jackson, N.J.**: from Rank 1 in 2013-2015 through 4th and 1st and then back to the 2nd Rank in 2018. \n",
    "- *`\"Phoenix\"`* in **Elysburg, Pennsylvania**, had been getting success step by step from Rank 3 in 2013 to the 1st in 2018.\n",
    "- *`\"Voyage\"`* in **Santa Claus, Indiana**, had been having Ranks 3-4 over years 2013-2018. \n",
    "- *`\"Thunderhead\"`* in **Pigeon Forge, Tennessee**, *`\"Ravine Flyer II\"`* in **Erie, Pennsylvania**, *`\"Lightning Rod\"`* also located in **Pigeon Forge** and *`\"Beast\"`* in **Mason, Ohio**, have been getting Rank 5 in different years from 2013 to 2018. "
   ]
  }
 ],
 "metadata": {
  "interpreter": {
   "hash": "7836a9483238820c2898d47b3e9b184c638aad228733b35228ced2f19c03f12e"
  },
  "kernelspec": {
   "display_name": "Python 3.10.4 64-bit (windows store)",
   "language": "python",
   "name": "python3"
  },
  "language_info": {
   "codemirror_mode": {
    "name": "ipython",
    "version": 3
   },
   "file_extension": ".py",
   "mimetype": "text/x-python",
   "name": "python",
   "nbconvert_exporter": "python",
   "pygments_lexer": "ipython3",
   "version": "3.10.4"
  },
  "orig_nbformat": 4
 },
 "nbformat": 4,
 "nbformat_minor": 2
}
